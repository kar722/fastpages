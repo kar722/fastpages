{
 "cells": [
  {
   "cell_type": "markdown",
   "metadata": {},
   "source": [
    "# Vocab Units 1-5"
   ]
  },
  {
   "cell_type": "markdown",
   "metadata": {},
   "source": [
    "## Casting\n",
    "\n",
    "Below, there are two examples of casting. Both examples convert a double data type to integer via truncation. 1.511 is outputted as 1 in the first line. 28.2 is printed as 28 in the second line. This can simplify the output and make it easier to operate on in future code as well. "
   ]
  },
  {
   "cell_type": "code",
   "execution_count": 6,
   "metadata": {},
   "outputs": [
    {
     "name": "stdout",
     "output_type": "stream",
     "text": [
      "1\n",
      "28\n"
     ]
    }
   ],
   "source": [
    "double d1  = 6.53;\n",
    "double d2 = 4.32;\n",
    "\n",
    "// Casting for division\n",
    "int dd = (int) (d1/d2);\n",
    "\n",
    "// Casting for multiplication\n",
    "int md = (int) (d1*d2);\n",
    "\n",
    "System.out.println(dd); // output of division, is integer\n",
    "System.out.println(md); // output of multiplication, is integer"
   ]
  },
  {
   "cell_type": "markdown",
   "metadata": {},
   "source": [
    "## Wrapper Classes\n",
    "Wrapper class allow the use of primitive data types like integers as classes, and therefore use methods and code that otherwise would not be allowed. \n",
    "Below, the toString method can not be used with the primitive, but works with the wrapper."
   ]
  },
  {
   "cell_type": "code",
   "execution_count": 8,
   "metadata": {},
   "outputs": [
    {
     "ename": "CompilationException",
     "evalue": "",
     "output_type": "error",
     "traceback": [
      "\u001b[1m\u001b[30m|   \u001b[1m\u001b[30mString unwrapped = \u001b[0m\u001b[1m\u001b[30m\u001b[41mi.toString\u001b[0m\u001b[1m\u001b[30m();\u001b[0m",
      "\u001b[1m\u001b[31mint cannot be dereferenced\u001b[0m",
      ""
     ]
    }
   ],
   "source": [
    "int i = 1;\n",
    "Integer ii = 1;\n",
    "\n",
    "// String unwrapped = i.toString(); \n",
    "String wrapped = ii.toString();\n",
    "\n",
    "System.out.println(i);\n",
    "System.out.println(ii);"
   ]
  },
  {
   "cell_type": "markdown",
   "metadata": {},
   "source": [
    "## Concatenation\n",
    "Concatenation is combinining two or more strings. "
   ]
  },
  {
   "cell_type": "code",
   "execution_count": 12,
   "metadata": {},
   "outputs": [
    {
     "name": "stdout",
     "output_type": "stream",
     "text": [
      "hello world\n",
      "helloworld\n",
      "hello world 12\n"
     ]
    }
   ],
   "source": [
    "String s1 = \"hello\";\n",
    "String s2 = \"world\";\n",
    "String conc = s1.concat(s2);\n",
    "System.out.println(s1+ \" \" + s2);\n",
    "System.out.println(conc);\n",
    "System.out.println(s1 + \" \" + s2 + \" \" + 12);"
   ]
  },
  {
   "cell_type": "markdown",
   "metadata": {},
   "source": [
    "## Math Class\n",
    "Allows math operations. Absolute value and random. "
   ]
  },
  {
   "cell_type": "code",
   "execution_count": 38,
   "metadata": {},
   "outputs": [
    {
     "name": "stdout",
     "output_type": "stream",
     "text": [
      "1\n",
      "27\n",
      "2.393138714397412\n"
     ]
    }
   ],
   "source": [
    "int ex = -1;\n",
    "System.out.println(Math.abs(-1));\n",
    "// random between 1 and 10\n",
    "System.out.println((int)(Math.random() * (100-10) + 10));\n",
    "System.out.println((Math.random() * (10-1) + 1));"
   ]
  },
  {
   "cell_type": "markdown",
   "metadata": {},
   "source": [
    "## Compound Boolean Expression\n",
    "Compound boolean expressions are when multiple boolean expressions are nested within each other. "
   ]
  },
  {
   "cell_type": "code",
   "execution_count": 40,
   "metadata": {},
   "outputs": [
    {
     "name": "stdout",
     "output_type": "stream",
     "text": [
      "false\n"
     ]
    }
   ],
   "source": [
    "boolean a = true;\n",
    "boolean b = false;\n",
    "System.out.println(!a && !b);"
   ]
  },
  {
   "cell_type": "markdown",
   "metadata": {},
   "source": [
    "## Truth Tables\n",
    "Help visualize compound boolean expressions and make it easier to evaluate. \n",
    "![](https://static.wixstatic.com/media/316c85_1c4317fab6f8458396b06105377a630d~mv2.gif)"
   ]
  },
  {
   "cell_type": "markdown",
   "metadata": {},
   "source": [
    "## DeMorgans Law\n",
    "Make boolean expressions easier. \n"
   ]
  },
  {
   "cell_type": "code",
   "execution_count": 41,
   "metadata": {},
   "outputs": [
    {
     "name": "stdout",
     "output_type": "stream",
     "text": [
      "true\n",
      "true\n",
      "false\n",
      "false\n"
     ]
    }
   ],
   "source": [
    "boolean a = true;\n",
    "boolean b = false;\n",
    "\n",
    "System.out.println(!(a&&b));\n",
    "System.out.println(!a || !b);\n",
    "System.out.println(!(a||b));\n",
    "System.out.println(!a && !b);"
   ]
  }
 ],
 "metadata": {
  "kernelspec": {
   "display_name": "Java",
   "language": "java",
   "name": "java"
  },
  "language_info": {
   "name": "java",
   "version": "3.10.6"
  },
  "orig_nbformat": 4,
  "vscode": {
   "interpreter": {
    "hash": "b0fa6594d8f4cbf19f97940f81e996739fb7646882a419484c72d19e05852a7e"
   }
  }
 },
 "nbformat": 4,
 "nbformat_minor": 2
}
