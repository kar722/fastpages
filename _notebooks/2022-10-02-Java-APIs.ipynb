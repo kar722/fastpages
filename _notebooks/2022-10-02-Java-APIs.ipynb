{
 "cells": [
  {
   "cell_type": "markdown",
   "metadata": {},
   "source": [
    "# Java API"
   ]
  },
  {
   "cell_type": "markdown",
   "metadata": {},
   "source": [
    "### Rapid API"
   ]
  },
  {
   "cell_type": "code",
   "execution_count": 1,
   "metadata": {},
   "outputs": [
    {
     "name": "stdout",
     "output_type": "stream",
     "text": [
      "{\"message\":\"NFL Scheduled games\",\"data\":[{\"date\":\"2022-10-03T00:20Z\",\"venue\":\"Raymond James Stadium\",\"name\":\"Kansas City Chiefs at Tampa Bay Buccaneers\",\"shortName\":\"KC @ TB\",\"awayTeam\":{\"name\":\"Chiefs\",\"score\":\"7\"},\"homeTeam\":{\"name\":\"Buccaneers\",\"score\":\"3\"}},{\"date\":\"2022-10-02T13:30Z\",\"venue\":\"Tottenham Hotspur Stadium\",\"name\":\"Minnesota Vikings at New Orleans Saints\",\"shortName\":\"MIN @ NO\",\"awayTeam\":{\"name\":\"Vikings\",\"score\":\"28\"},\"homeTeam\":{\"name\":\"Saints\",\"score\":\"25\"}},{\"date\":\"2022-10-02T17:00Z\",\"venue\":\"Mercedes-Benz Stadium\",\"name\":\"Cleveland Browns at Atlanta Falcons\",\"shortName\":\"CLE @ ATL\",\"awayTeam\":{\"name\":\"Browns\",\"score\":\"20\"},\"homeTeam\":{\"name\":\"Falcons\",\"score\":\"23\"}},{\"date\":\"2022-10-02T17:00Z\",\"venue\":\"AT&T Stadium\",\"name\":\"Washington Commanders at Dallas Cowboys\",\"shortName\":\"WSH @ DAL\",\"awayTeam\":{\"name\":\"Commanders\",\"score\":\"10\"},\"homeTeam\":{\"name\":\"Cowboys\",\"score\":\"25\"}},{\"date\":\"2022-10-02T17:00Z\",\"venue\":\"Ford Field\",\"name\":\"Seattle Seahawks at Detroit Lions\",\"shortName\":\"SEA @ DET\",\"awayTeam\":{\"name\":\"Seahawks\",\"score\":\"48\"},\"homeTeam\":{\"name\":\"Lions\",\"score\":\"45\"}},{\"date\":\"2022-10-02T17:00Z\",\"venue\":\"Lucas Oil Stadium\",\"name\":\"Tennessee Titans at Indianapolis Colts\",\"shortName\":\"TEN @ IND\",\"awayTeam\":{\"name\":\"Titans\",\"score\":\"24\"},\"homeTeam\":{\"name\":\"Colts\",\"score\":\"17\"}},{\"date\":\"2022-10-02T17:00Z\",\"venue\":\"MetLife Stadium\",\"name\":\"Chicago Bears at New York Giants\",\"shortName\":\"CHI @ NYG\",\"awayTeam\":{\"name\":\"Bears\",\"score\":\"12\"},\"homeTeam\":{\"name\":\"Giants\",\"score\":\"20\"}},{\"date\":\"2022-10-02T17:00Z\",\"venue\":\"Lincoln Financial Field\",\"name\":\"Jacksonville Jaguars at Philadelphia Eagles\",\"shortName\":\"JAX @ PHI\",\"awayTeam\":{\"name\":\"Jaguars\",\"score\":\"21\"},\"homeTeam\":{\"name\":\"Eagles\",\"score\":\"29\"}},{\"date\":\"2022-10-02T17:00Z\",\"venue\":\"Acrisure Stadium\",\"name\":\"New York Jets at Pittsburgh Steelers\",\"shortName\":\"NYJ @ PIT\",\"awayTeam\":{\"name\":\"Jets\",\"score\":\"24\"},\"homeTeam\":{\"name\":\"Steelers\",\"score\":\"20\"}},{\"date\":\"2022-10-02T17:00Z\",\"venue\":\"M&T Bank Stadium\",\"name\":\"Buffalo Bills at Baltimore Ravens\",\"shortName\":\"BUF @ BAL\",\"awayTeam\":{\"name\":\"Bills\",\"score\":\"23\"},\"homeTeam\":{\"name\":\"Ravens\",\"score\":\"20\"}},{\"date\":\"2022-10-02T17:00Z\",\"venue\":\"NRG Stadium\",\"name\":\"Los Angeles Chargers at Houston Texans\",\"shortName\":\"LAC @ HOU\",\"awayTeam\":{\"name\":\"Chargers\",\"score\":\"34\"},\"homeTeam\":{\"name\":\"Texans\",\"score\":\"24\"}},{\"date\":\"2022-10-02T20:05Z\",\"venue\":\"Bank of America Stadium\",\"name\":\"Arizona Cardinals at Carolina Panthers\",\"shortName\":\"ARI @ CAR\",\"awayTeam\":{\"name\":\"Cardinals\",\"score\":\"26\"},\"homeTeam\":{\"name\":\"Panthers\",\"score\":\"16\"}},{\"date\":\"2022-10-02T20:25Z\",\"venue\":\"Lambeau Field\",\"name\":\"New England Patriots at Green Bay Packers\",\"shortName\":\"NE @ GB\",\"awayTeam\":{\"name\":\"Patriots\",\"score\":\"24\"},\"homeTeam\":{\"name\":\"Packers\",\"score\":\"27\"}},{\"date\":\"2022-10-02T20:25Z\",\"venue\":\"Allegiant Stadium\",\"name\":\"Denver Broncos at Las Vegas Raiders\",\"shortName\":\"DEN @ LV\",\"awayTeam\":{\"name\":\"Broncos\",\"score\":\"23\"},\"homeTeam\":{\"name\":\"Raiders\",\"score\":\"32\"}},{\"date\":\"2022-09-30T00:15Z\",\"venue\":\"Paycor Stadium\",\"name\":\"Miami Dolphins at Cincinnati Bengals\",\"shortName\":\"MIA @ CIN\",\"awayTeam\":{\"name\":\"Dolphins\",\"score\":\"15\"},\"homeTeam\":{\"name\":\"Bengals\",\"score\":\"27\"}},{\"date\":\"2022-10-04T00:15Z\",\"venue\":\"Levi's Stadium\",\"name\":\"Los Angeles Rams at San Francisco 49ers\",\"shortName\":\"LAR @ SF\",\"awayTeam\":{\"name\":\"Rams\",\"score\":\"0\"},\"homeTeam\":{\"name\":\"49ers\",\"score\":\"0\"}}]}\n"
     ]
    }
   ],
   "source": [
    "import java.net.URI;\n",
    "import java.net.http.HttpClient;\n",
    "import java.net.http.HttpRequest;\n",
    "import java.net.http.HttpResponse;\n",
    "\n",
    "HttpRequest request = HttpRequest.newBuilder()\n",
    "\t\t.uri(URI.create(\"https://nfl-schedule.p.rapidapi.com/v1/schedules\"))\n",
    "\t\t.header(\"X-RapidAPI-Key\", \"9fb1283360mshedc514375b603d6p156a26jsna7cd4ca5744a\")\n",
    "\t\t.header(\"X-RapidAPI-Host\", \"nfl-schedule.p.rapidapi.com\")\n",
    "\t\t.method(\"GET\", HttpRequest.BodyPublishers.noBody())\n",
    "\t\t.build();\n",
    "HttpResponse<String> response = HttpClient.newHttpClient().send(request, HttpResponse.BodyHandlers.ofString());\n",
    "System.out.println(response.body());"
   ]
  },
  {
   "cell_type": "markdown",
   "metadata": {},
   "source": [
    "### Web Service"
   ]
  },
  {
   "cell_type": "code",
   "execution_count": 5,
   "metadata": {},
   "outputs": [
    {
     "name": "stdout",
     "output_type": "stream",
     "text": [
      "\n"
     ]
    }
   ],
   "source": [
    "import java.net.URI;\n",
    "import java.net.http.HttpClient;\n",
    "import java.net.http.HttpRequest;\n",
    "import java.net.http.HttpResponse;\n",
    "import java.util.Date;\n",
    "import java.util.HashMap;\n",
    "\n",
    "import org.json.simple.JSONObject;\n",
    "import org.json.simple.parser.JSONParser;\n",
    "import org.springframework.http.HttpStatus;\n",
    "import org.springframework.http.ResponseEntity;\n",
    "import org.springframework.web.bind.annotation.*;\n",
    "\n",
    "@RestController // annotation to create a RESTful web services\n",
    "@RequestMapping(\"/api/covid\")  //prefix of API\n",
    "public class CovidApiController {\n",
    "    private JSONObject body; //last run result\n",
    "    private HttpStatus status; //last run status\n",
    "    String last_run = null; //last run day of month\n",
    "\n",
    "    // GET Covid 19 Stats\n",
    "    @GetMapping(\"/daily\")   //added to end of prefix as endpoint\n",
    "    public ResponseEntity<JSONObject> getCovid() {\n",
    "\n",
    "        //calls API once a day, sets body and status properties\n",
    "        String today = new Date().toString().substring(0,10); \n",
    "        if (last_run == null || !today.equals(last_run))\n",
    "        {\n",
    "            try {  //APIs can fail (ie Internet or Service down)\n",
    "\n",
    "                //RapidAPI header\n",
    "                HttpRequest request = HttpRequest.newBuilder()\n",
    "                    .uri(URI.create(\"https://nfl-schedule.p.rapidapi.com/v1/schedules\"))\n",
    "                    .header(\"X-RapidAPI-Key\", \"9fb1283360mshedc514375b603d6p156a26jsna7cd4ca5744a\")\n",
    "                    .header(\"X-RapidAPI-Host\", \"nfl-schedule.p.rapidapi.com\")\n",
    "                    .method(\"GET\", HttpRequest.BodyPublishers.noBody())\n",
    "                    .build();\n",
    "\n",
    "                //RapidAPI request and response\n",
    "                HttpResponse<String> response = HttpClient.newHttpClient().send(request, HttpResponse.BodyHandlers.ofString());\n",
    "\n",
    "                //JSONParser extracts text body and parses to JSONObject\n",
    "                this.body = (JSONObject) new JSONParser().parse(response.body());\n",
    "                this.status = HttpStatus.OK;  //200 success\n",
    "                this.last_run = today;\n",
    "            }\n",
    "            catch (Exception e) {  //capture failure info\n",
    "                HashMap<String, String> status = new HashMap<>();\n",
    "                status.put(\"status\", \"RapidApi failure: \" + e);\n",
    "\n",
    "                //Setup object for error\n",
    "                this.body = (JSONObject) status;\n",
    "                this.status = HttpStatus.INTERNAL_SERVER_ERROR; //500 error\n",
    "                this.last_run = null;\n",
    "            }\n",
    "        }\n",
    "\n",
    "        //return JSONObject in RESTful style\n",
    "        return new ResponseEntity<>(body, status);\n",
    "    }\n",
    "}"
   ]
  }
 ],
 "metadata": {
  "kernelspec": {
   "display_name": "Java",
   "language": "java",
   "name": "java"
  },
  "language_info": {
   "codemirror_mode": "java",
   "file_extension": ".jshell",
   "mimetype": "text/x-java-source",
   "name": "java",
   "pygments_lexer": "java",
   "version": "11.0.16+8-post-Ubuntu-0ubuntu120.04"
  },
  "orig_nbformat": 4
 },
 "nbformat": 4,
 "nbformat_minor": 2
}
