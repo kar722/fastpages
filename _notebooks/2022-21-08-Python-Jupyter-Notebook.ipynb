{
 "cells": [
  {
   "cell_type": "markdown",
   "id": "13a249bb",
   "metadata": {},
   "source": [
    "# Python Jupyter Notebook"
   ]
  },
  {
   "cell_type": "markdown",
   "id": "e36336a2",
   "metadata": {},
   "source": [
    "Python \"hello world\" via Jupyter Notebook"
   ]
  },
  {
   "cell_type": "markdown",
   "id": "9d26a27f",
   "metadata": {},
   "source": [
    "Hello I'm Karthik"
   ]
  },
  {
   "cell_type": "code",
   "execution_count": 1,
   "id": "7933e5a5",
   "metadata": {},
   "outputs": [
    {
     "name": "stdout",
     "output_type": "stream",
     "text": [
      "hello world\n"
     ]
    }
   ],
   "source": [
    "print(\"hello world\")"
   ]
  }
 ],
 "metadata": {
  "kernelspec": {
   "display_name": "Python 3.10.5 64-bit",
   "language": "python",
   "name": "python3"
  },
  "language_info": {
   "codemirror_mode": {
    "name": "ipython",
    "version": 3
   },
   "file_extension": ".py",
   "mimetype": "text/x-python",
   "name": "python",
   "nbconvert_exporter": "python",
   "pygments_lexer": "ipython3",
   "version": "3.10.5"
  },
  "vscode": {
   "interpreter": {
    "hash": "3567043677e9e623e45f50147f63be11b9bb8088f85bef38c07137e8225ca207"
   }
  }
 },
 "nbformat": 4,
 "nbformat_minor": 5
}
