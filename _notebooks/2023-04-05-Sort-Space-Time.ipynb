{
 "cells": [
  {
   "attachments": {},
   "cell_type": "markdown",
   "metadata": {},
   "source": [
    "# Sort, Space, and Time Complexity\n",
    "> w/ code examples and comments\n",
    "\n",
    "- toc: true \n",
    "- badges: true\n",
    "- comments: true\n",
    "- categories: [jupyter]\n",
    "- image: images/chart-preview.png"
   ]
  },
  {
   "attachments": {},
   "cell_type": "markdown",
   "metadata": {},
   "source": [
    "## Bubble Sort\n",
    "Bubble sort is a simple sorting algorithm that compares adjacent elements of an array and swaps them if the element on the right is smaller than the one on the left. It is an in-place sorting algorithm i.e. no extra space is needed for this sort, the array itself is modified."
   ]
  },
  {
   "attachments": {},
   "cell_type": "markdown",
   "metadata": {},
   "source": [
    "<img src=\"https://www.programiz.com/sites/tutorial2program/files/Bubble-sort-0.png\">"
   ]
  },
  {
   "cell_type": "code",
   "execution_count": 6,
   "metadata": {
    "vscode": {
     "languageId": "java"
    }
   },
   "outputs": [
    {
     "name": "stdout",
     "output_type": "stream",
     "text": [
      "Allah\n",
      "Aryan\n",
      "Karthik\n",
      "Pranav\n",
      "Ramadan\n",
      "Zoot\n"
     ]
    }
   ],
   "source": [
    "public class Main {\n",
    " \n",
    "    static int MAX = 100;\n",
    " \n",
    "    public static void sortStrings(String[] arr, int n)\n",
    "    {\n",
    "        String temp;\n",
    " \n",
    "        // Sorting strings using bubble sort\n",
    "        for (int j = 0; j < n - 1; j++) {\n",
    "            for (int i = j + 1; i < n; i++) {\n",
    "                if (arr[j].compareTo(arr[i]) > 0) {\n",
    "                    temp = arr[j];\n",
    "                    arr[j] = arr[i];\n",
    "                    arr[i] = temp;\n",
    "                }\n",
    "            }\n",
    "        }\n",
    "    }\n",
    " \n",
    "    public static void main(String[] args)\n",
    "    {\n",
    "        String[] arr = { \"Pranav\", \"Karthik\", \"Allah\", \"Aryan\", \"Ramadan\", \"Zoot\" };\n",
    "        int n = arr.length;\n",
    "        sortStrings(arr, n);\n",
    "        for (int i = 0; i < n; i++)\n",
    "            System.out.println(arr[i]);\n",
    "    }\n",
    "}\n",
    "Main.main(null);\n",
    " "
   ]
  },
  {
   "attachments": {},
   "cell_type": "markdown",
   "metadata": {},
   "source": [
    "## BogoSort\n",
    "Bogo sort is a less efficient algorithm that is generally used for educational purposes rather than practical ones. The algorithm successively generates permutations of its input until it finds one that is sorted. For example, if bogosort is used to sort a deck of cards, it would consist of checking if the deck were in order, and if it were not, one would throw the deck into the air, pick the cards up at random, and repeat the process until the deck is sorted. "
   ]
  },
  {
   "cell_type": "code",
   "execution_count": 12,
   "metadata": {
    "vscode": {
     "languageId": "java"
    }
   },
   "outputs": [
    {
     "name": "stdout",
     "output_type": "stream",
     "text": [
      "Sorted array: 0 1 2 3 4 5 \n"
     ]
    }
   ],
   "source": [
    "public class BogoSort {\n",
    "    // Sorts array a[0..n-1] using Bogo sort\n",
    "    void bogoSort(int[] a)\n",
    "    {\n",
    "        // if array is not sorted then shuffle the\n",
    "        // array again\n",
    "        while (isSorted(a) == false)\n",
    "            shuffle(a);\n",
    "    }\n",
    " \n",
    "    // To generate permutation of the array\n",
    "    void shuffle(int[] a)\n",
    "    {\n",
    "        // Math.random() returns a double positive\n",
    "        // value, greater than or equal to 0.0 and\n",
    "        // less than 1.0.\n",
    "        for (int i = 0; i < a.length; i++)\n",
    "            swap(a, i, (int)(Math.random() * i));\n",
    "    }\n",
    " \n",
    "    // Swapping 2 elements\n",
    "    void swap(int[] a, int i, int j)\n",
    "    {\n",
    "        int temp = a[i];\n",
    "        a[i] = a[j];\n",
    "        a[j] = temp;\n",
    "    }\n",
    " \n",
    "    // To check if array is sorted or not\n",
    "    boolean isSorted(int[] a)\n",
    "    {\n",
    "        for (int i = 1; i < a.length; i++)\n",
    "            if (a[i] < a[i - 1])\n",
    "                return false;\n",
    "        return true;\n",
    "    }\n",
    " \n",
    "    // Prints the array\n",
    "    void printArray(int[] arr)\n",
    "    {\n",
    "        for (int i = 0; i < arr.length; i++)\n",
    "            System.out.print(arr[i] + \" \");\n",
    "        System.out.println();\n",
    "    }\n",
    " \n",
    "    public static void main(String[] args)\n",
    "    {\n",
    "        // Enter array to be sorted here\n",
    "        int[] a = { 3, 2, 5, 1, 0, 4 };\n",
    "        BogoSort ob = new BogoSort();\n",
    " \n",
    "        ob.bogoSort(a);\n",
    " \n",
    "        System.out.print(\"Sorted array: \");\n",
    "        ob.printArray(a);\n",
    "    }\n",
    "}\n",
    "BogoSort.main(null);"
   ]
  },
  {
   "attachments": {},
   "cell_type": "markdown",
   "metadata": {},
   "source": [
    "## Merge Sort\n",
    "The process of merge sort is to divide the array into two halves, sort each half, and then merge the sorted halves back together. This process is repeated until the entire array is sorted."
   ]
  },
  {
   "attachments": {},
   "cell_type": "markdown",
   "metadata": {},
   "source": [
    "<img src=\"https://www.programiz.com/sites/tutorial2program/files/merge-sort-example_0.png\" height =\"400px\">"
   ]
  },
  {
   "cell_type": "code",
   "execution_count": 16,
   "metadata": {
    "vscode": {
     "languageId": "java"
    }
   },
   "outputs": [
    {
     "name": "stdout",
     "output_type": "stream",
     "text": [
      "[1, 2, 3, 5, 6, 8]\n"
     ]
    }
   ],
   "source": [
    "import java.util.Arrays;\n",
    "\n",
    "public class MergeSort {\n",
    "  \n",
    "    public static void mergeSort(int[] array) {\n",
    "        if (array.length > 1) {\n",
    "            int mid = array.length / 2;\n",
    "            int[] leftArray = Arrays.copyOfRange(array, 0, mid);\n",
    "            int[] rightArray = Arrays.copyOfRange(array, mid, array.length);\n",
    "            mergeSort(leftArray);\n",
    "            mergeSort(rightArray);\n",
    "            merge(array, leftArray, rightArray);\n",
    "        }\n",
    "    }\n",
    "  \n",
    "    private static void merge(int[] array, int[] leftArray, int[] rightArray) {\n",
    "        int i = 0, j = 0, k = 0;\n",
    "        while (i < leftArray.length && j < rightArray.length) {\n",
    "            if (leftArray[i] <= rightArray[j]) {\n",
    "                array[k++] = leftArray[i++];\n",
    "            } else {\n",
    "                array[k++] = rightArray[j++];\n",
    "            }\n",
    "        }\n",
    "        while (i < leftArray.length) {\n",
    "            array[k++] = leftArray[i++];\n",
    "        }\n",
    "        while (j < rightArray.length) {\n",
    "            array[k++] = rightArray[j++];\n",
    "        }\n",
    "    }\n",
    "  \n",
    "    public static void main(String[] args) {\n",
    "        int[] difficulty = { 5, 2, 8, 3, 1, 6 };\n",
    "        mergeSort(difficulty);\n",
    "        System.out.println(Arrays.toString(difficulty));\n",
    "    }\n",
    "}\n",
    "MergeSort.main(null);"
   ]
  },
  {
   "attachments": {},
   "cell_type": "markdown",
   "metadata": {},
   "source": [
    "## Big O Notation"
   ]
  },
  {
   "cell_type": "code",
   "execution_count": 17,
   "metadata": {
    "vscode": {
     "languageId": "java"
    }
   },
   "outputs": [
    {
     "name": "stdout",
     "output_type": "stream",
     "text": [
      "40 160"
     ]
    }
   ],
   "source": [
    "public class Main \n",
    "{\n",
    "  \n",
    "  public static void main(String[] args)\n",
    "  {\n",
    "    int a = 0, b = 0;\n",
    "    int N = 4, M = 4;\n",
    "  \n",
    "    // This loop runs for N time\n",
    "    for (int i = 0; i < N; i++)\n",
    "    {\n",
    "      a = a + 10;\n",
    "    }\n",
    "  \n",
    "    // This loop runs for M time\n",
    "    for (int i = 0; i < M; i++) \n",
    "    {\n",
    "      b = b + 40;\n",
    "    }\n",
    "    System.out.print(a + \" \" + b);\n",
    "  }\n",
    "}\n",
    "Main.main(null);"
   ]
  },
  {
   "attachments": {},
   "cell_type": "markdown",
   "metadata": {},
   "source": [
    "Explanation: The Time complexity here will be O(N + M). Loop one is a single for-loop that runs N times and calculation inside it takes O(1) time. Similarly, another loop takes M times by combining both the different loops takes by adding them \n",
    "is O( N + M + 1) = O( N + M)."
   ]
  }
 ],
 "metadata": {
  "kernelspec": {
   "display_name": "Java",
   "language": "java",
   "name": "java"
  },
  "language_info": {
   "codemirror_mode": "java",
   "file_extension": ".jshell",
   "mimetype": "text/x-java-source",
   "name": "Java",
   "pygments_lexer": "java",
   "version": "11.0.16+8-post-Ubuntu-0ubuntu120.04"
  },
  "orig_nbformat": 4
 },
 "nbformat": 4,
 "nbformat_minor": 2
}
