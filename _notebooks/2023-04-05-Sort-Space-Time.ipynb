{
 "cells": [
  {
   "attachments": {},
   "cell_type": "markdown",
   "metadata": {},
   "source": [
    "# Sort, Space, and Time Complexity\n",
    "> w/ code examples and comments\n",
    "\n",
    "- toc: true \n",
    "- badges: true\n",
    "- comments: true\n",
    "- categories: [jupyter]\n",
    "- image: images/chart-preview.png"
   ]
  },
  {
   "attachments": {},
   "cell_type": "markdown",
   "metadata": {},
   "source": [
    "## Bubble Sort\n",
    "Bubble sort is a simple sorting algorithm that compares adjacent elements of an array and swaps them if the element on the right is smaller than the one on the left. It is an in-place sorting algorithm i.e. no extra space is needed for this sort, the array itself is modified."
   ]
  },
  {
   "attachments": {},
   "cell_type": "markdown",
   "metadata": {},
   "source": [
    "<img src=\"https://www.programiz.com/sites/tutorial2program/files/Bubble-sort-0.png\">"
   ]
  },
  {
   "cell_type": "code",
   "execution_count": 6,
   "metadata": {},
   "outputs": [
    {
     "name": "stdout",
     "output_type": "stream",
     "text": [
      "Allah\n",
      "Aryan\n",
      "Karthik\n",
      "Pranav\n",
      "Ramadan\n",
      "Zoot\n"
     ]
    }
   ],
   "source": [
    "public class Main {\n",
    " \n",
    "    static int MAX = 100;\n",
    " \n",
    "    public static void sortStrings(String[] arr, int n)\n",
    "    {\n",
    "        String temp;\n",
    " \n",
    "        // Sorting strings using bubble sort\n",
    "        for (int j = 0; j < n - 1; j++) {\n",
    "            for (int i = j + 1; i < n; i++) {\n",
    "                if (arr[j].compareTo(arr[i]) > 0) {\n",
    "                    temp = arr[j];\n",
    "                    arr[j] = arr[i];\n",
    "                    arr[i] = temp;\n",
    "                }\n",
    "            }\n",
    "        }\n",
    "    }\n",
    " \n",
    "    public static void main(String[] args)\n",
    "    {\n",
    "        String[] arr = { \"Pranav\", \"Karthik\", \"Allah\", \"Aryan\", \"Ramadan\", \"Zoot\" };\n",
    "        int n = arr.length;\n",
    "        sortStrings(arr, n);\n",
    "        for (int i = 0; i < n; i++)\n",
    "            System.out.println(arr[i]);\n",
    "    }\n",
    "}\n",
    "Main.main(null);\n",
    " "
   ]
  },
  {
   "attachments": {},
   "cell_type": "markdown",
   "metadata": {},
   "source": [
    "- Best Case Complexity = O(n), when no sorting is required.\n",
    "- Average Case Complexity - It occurs when the array elements are in jumbled order that is not properly ascending and not properly descending. The average case time complexity of bubble sort is O(n2).\n",
    "- Worst Case Complexity - It occurs when the array elements are required to be sorted in reverse order. That means suppose you have to sort the array elements in ascending order, but its elements are in descending order. The worst-case time complexity of bubble sort is O(n2)."
   ]
  },
  {
   "attachments": {},
   "cell_type": "markdown",
   "metadata": {},
   "source": [
    "## BogoSort\n",
    "Bogo sort is a less efficient algorithm that is generally used for educational purposes rather than practical ones. The algorithm successively generates permutations of its input until it finds one that is sorted. For example, if bogosort is used to sort a deck of cards, it would consist of checking if the deck were in order, and if it were not, one would throw the deck into the air, pick the cards up at random, and repeat the process until the deck is sorted. "
   ]
  },
  {
   "cell_type": "code",
   "execution_count": 2,
   "metadata": {},
   "outputs": [
    {
     "name": "stdout",
     "output_type": "stream",
     "text": [
      "Before: [5, 3, 0, 2, 4, 1, 0, 5, 2, 3, 1, 4]\n",
      "After:  [0, 0, 1, 1, 2, 2, 3, 3, 4, 4, 5, 5]\n"
     ]
    }
   ],
   "source": [
    "import java.util.*;\n",
    " \n",
    "public class Main{\n",
    " \n",
    "  private static final Random generator = new Random();  \n",
    " \n",
    "  public static void bogoSort(int[] array)  {  \n",
    "    while (!isSorted(array)) {  \n",
    "      for (int i = 0; i < array.length; i++){  \n",
    "        int randomPosition = generator.nextInt(array.length);  \n",
    "        int temp = array[i];  \n",
    "        array[i] = array[randomPosition];  \n",
    "        array[randomPosition] = temp;  \n",
    "      }  \n",
    "    }  \n",
    "  }  \n",
    " \n",
    "  private static boolean isSorted(int[] array)  {  \n",
    "    for (int i = 1; i < array.length; i++){\n",
    "      if (array[i] < array[i - 1]) {\n",
    "        return false;  \n",
    "      }\n",
    "    }\n",
    "    return true;  \n",
    "  }  \n",
    " \n",
    "  public static void main(String[] args) {\n",
    "    int [] array = {5,3,0,2,4,1,0,5,2,3,1,4}; \n",
    "    System.out.println(\"Before: \" + Arrays.toString(array));\n",
    "    bogoSort(array);\n",
    "    System.out.println(\"After:  \" + Arrays.toString(array));\n",
    "  }\n",
    "}\n",
    "Main.main(null);"
   ]
  },
  {
   "attachments": {},
   "cell_type": "markdown",
   "metadata": {},
   "source": [
    "Time Complexity\n",
    "- Worst-case time complexity: O(infinite)\n",
    "It is not guaranteed that we get the sorted permutation at some point after shuffling the array a certain number of times. Although its probability is infinitesimally low, there’s a chance that we do not get the sorted order even after gazillions of shuffling. \n",
    "\n",
    "- Average-case time complexity: O(n! * n)\n",
    "There are n! permutations, only one of which is sorted. So, we would expect to get the correct answer after about O(n!) iterations. And each shuffle/check operation is itself O(n).\n",
    "\n",
    "- Best-case time complexity: O(n)\n",
    "When the given array is already sorted, the program terminates just after checking if the array is sorted once, which takes O(n) time to execute."
   ]
  },
  {
   "attachments": {},
   "cell_type": "markdown",
   "metadata": {},
   "source": [
    "## Merge Sort\n",
    "The process of merge sort is to divide the array into two halves, sort each half, and then merge the sorted halves back together. This process is repeated until the entire array is sorted."
   ]
  },
  {
   "attachments": {},
   "cell_type": "markdown",
   "metadata": {},
   "source": [
    "<img src=\"https://www.programiz.com/sites/tutorial2program/files/merge-sort-example_0.png\" height =\"400px\">"
   ]
  },
  {
   "cell_type": "code",
   "execution_count": 16,
   "metadata": {},
   "outputs": [
    {
     "name": "stdout",
     "output_type": "stream",
     "text": [
      "[1, 2, 3, 5, 6, 8]\n"
     ]
    }
   ],
   "source": [
    "import java.util.Arrays;\n",
    "\n",
    "public class MergeSort {\n",
    "  \n",
    "    public static void mergeSort(int[] array) {\n",
    "        if (array.length > 1) {\n",
    "            int mid = array.length / 2;\n",
    "            int[] leftArray = Arrays.copyOfRange(array, 0, mid);\n",
    "            int[] rightArray = Arrays.copyOfRange(array, mid, array.length);\n",
    "            mergeSort(leftArray);\n",
    "            mergeSort(rightArray);\n",
    "            merge(array, leftArray, rightArray);\n",
    "        }\n",
    "    }\n",
    "  \n",
    "    private static void merge(int[] array, int[] leftArray, int[] rightArray) {\n",
    "        int i = 0, j = 0, k = 0;\n",
    "        while (i < leftArray.length && j < rightArray.length) {\n",
    "            if (leftArray[i] <= rightArray[j]) {\n",
    "                array[k++] = leftArray[i++];\n",
    "            } else {\n",
    "                array[k++] = rightArray[j++];\n",
    "            }\n",
    "        }\n",
    "        while (i < leftArray.length) {\n",
    "            array[k++] = leftArray[i++];\n",
    "        }\n",
    "        while (j < rightArray.length) {\n",
    "            array[k++] = rightArray[j++];\n",
    "        }\n",
    "    }\n",
    "  \n",
    "    public static void main(String[] args) {\n",
    "        int[] difficulty = { 5, 2, 8, 3, 1, 6 };\n",
    "        mergeSort(difficulty);\n",
    "        System.out.println(Arrays.toString(difficulty));\n",
    "    }\n",
    "}\n",
    "MergeSort.main(null);"
   ]
  },
  {
   "attachments": {},
   "cell_type": "markdown",
   "metadata": {},
   "source": [
    "The worst-case scenario occurs when the given array is sorted in descending order leading to the maximum number of comparisons. In this case, for two sorted arrays of size n, the minimum number of comparisons will be 2n. The worst-case time complexity of merge sort is\n",
    "O(n∗logn)"
   ]
  },
  {
   "attachments": {},
   "cell_type": "markdown",
   "metadata": {},
   "source": [
    "## Big O Notation"
   ]
  },
  {
   "cell_type": "code",
   "execution_count": 17,
   "metadata": {},
   "outputs": [
    {
     "name": "stdout",
     "output_type": "stream",
     "text": [
      "40 160"
     ]
    }
   ],
   "source": [
    "public class Main \n",
    "{\n",
    "  \n",
    "  public static void main(String[] args)\n",
    "  {\n",
    "    int a = 0, b = 0;\n",
    "    int N = 4, M = 4;\n",
    "  \n",
    "    // This loop runs for N time\n",
    "    for (int i = 0; i < N; i++)\n",
    "    {\n",
    "      a = a + 10;\n",
    "    }\n",
    "  \n",
    "    // This loop runs for M time\n",
    "    for (int i = 0; i < M; i++) \n",
    "    {\n",
    "      b = b + 40;\n",
    "    }\n",
    "    System.out.print(a + \" \" + b);\n",
    "  }\n",
    "}\n",
    "Main.main(null);"
   ]
  },
  {
   "attachments": {},
   "cell_type": "markdown",
   "metadata": {},
   "source": [
    "Explanation: The Time complexity here will be O(N + M). Loop one is a single for-loop that runs N times and calculation inside it takes O(1) time. Similarly, another loop takes M times by combining both the different loops takes by adding them \n",
    "is O( N + M + 1) = O( N + M)."
   ]
  }
 ],
 "metadata": {
  "kernelspec": {
   "display_name": "Java",
   "language": "java",
   "name": "java"
  },
  "language_info": {
   "codemirror_mode": "java",
   "file_extension": ".jshell",
   "mimetype": "text/x-java-source",
   "name": "java",
   "pygments_lexer": "java",
   "version": "11.0.16+8-post-Ubuntu-0ubuntu120.04"
  },
  "orig_nbformat": 4
 },
 "nbformat": 4,
 "nbformat_minor": 2
}
