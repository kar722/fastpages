{
 "cells": [
  {
   "attachments": {},
   "cell_type": "markdown",
   "metadata": {},
   "source": [
    "# LinkedList, Queue, Stack, and Generic T\n",
    "> w/ code examples and comments\n",
    "\n",
    "- toc: true \n",
    "- badges: true\n",
    "- comments: true\n",
    "- categories: [jupyter]\n",
    "- image: images/chart-preview.png"
   ]
  },
  {
   "attachments": {},
   "cell_type": "markdown",
   "metadata": {},
   "source": [
    "## Linked Lists"
   ]
  },
  {
   "cell_type": "code",
   "execution_count": 4,
   "metadata": {},
   "outputs": [
    {
     "name": "stdout",
     "output_type": "stream",
     "text": [
      "[James, Durant, Curry]\n"
     ]
    }
   ],
   "source": [
    "import java.util.LinkedList;\n",
    "// A LinkedList is a data structure\n",
    "LinkedList<String> linky = new LinkedList<String>();\n",
    "// very flexible data strucure, each value in the list knows the front and next element\n",
    "linky.add(\"James\");\n",
    "linky.add(\"Durant\");\n",
    "linky.add(\"Curry\");\n",
    "\n",
    "System.out.println(linky)"
   ]
  },
  {
   "cell_type": "code",
   "execution_count": 2,
   "metadata": {},
   "outputs": [
    {
     "name": "stdout",
     "output_type": "stream",
     "text": [
      "[Durant, Curry]\n"
     ]
    }
   ],
   "source": [
    "linky.remove(); // remove first element\n",
    "System.out.println(linky)"
   ]
  },
  {
   "cell_type": "code",
   "execution_count": 3,
   "metadata": {},
   "outputs": [
    {
     "name": "stdout",
     "output_type": "stream",
     "text": [
      "[]\n"
     ]
    }
   ],
   "source": [
    "linky.clear(); //emtpy the list\n",
    "System.out.println(linky)"
   ]
  },
  {
   "cell_type": "code",
   "execution_count": 6,
   "metadata": {},
   "outputs": [
    {
     "name": "stdout",
     "output_type": "stream",
     "text": [
      "James\n",
      "Curry\n"
     ]
    }
   ],
   "source": [
    "System.out.println(linky.getFirst());\n",
    "System.out.println(linky.getLast());"
   ]
  },
  {
   "cell_type": "code",
   "execution_count": 8,
   "metadata": {},
   "outputs": [
    {
     "name": "stdout",
     "output_type": "stream",
     "text": [
      "78\n"
     ]
    }
   ],
   "source": [
    "LinkedList<Integer> linkee = new LinkedList<Integer>(); // cant put primitive type in <> have to use Wrapper Class \n",
    "// Ex: <int> doesn't work have to use <Integer>\n",
    "// very flexible data strucure, each value in the list knows the front and next element\n",
    "linkee.add(6);\n",
    "linkee.add(78);\n",
    "linkee.add(1);\n",
    "\n",
    "// to get specfic element: .get(index)\n",
    "\n",
    "System.out.println(linkee.get(1)); // should return 78"
   ]
  },
  {
   "cell_type": "code",
   "execution_count": 10,
   "metadata": {},
   "outputs": [
    {
     "name": "stdout",
     "output_type": "stream",
     "text": [
      "Found 78\n"
     ]
    }
   ],
   "source": [
    "import java.util.Iterator;\n",
    "// if you have a large linkedlist and can't find the index\n",
    "// Iterator it = new Iterator\n",
    "Iterator it = linkee.iterator();\n",
    "while (it.hasNext()) {\n",
    "    if ((int) it.next() == 78) {\n",
    "        System.out.println(\"Found 78\");\n",
    "    }\n",
    "}"
   ]
  },
  {
   "attachments": {},
   "cell_type": "markdown",
   "metadata": {},
   "source": [
    "## Queue"
   ]
  },
  {
   "cell_type": "code",
   "execution_count": 14,
   "metadata": {},
   "outputs": [
    {
     "name": "stdout",
     "output_type": "stream",
     "text": [
      "[Jokic, Embiid, Giannis]\n"
     ]
    }
   ],
   "source": [
    "Queue<String> mvpLine = new LinkedList<String>();\n",
    "\n",
    "mvpLine.add(\"Jokic\");\n",
    "mvpLine.add(\"Embiid\");\n",
    "mvpLine.add(\"Giannis\");\n",
    "\n",
    "System.out.println(mvpLine);"
   ]
  },
  {
   "cell_type": "code",
   "execution_count": 15,
   "metadata": {},
   "outputs": [
    {
     "name": "stdout",
     "output_type": "stream",
     "text": [
      "[Embiid, Giannis]\n"
     ]
    }
   ],
   "source": [
    "mvpLine.poll(); // take Jokic out\n",
    "System.out.println(mvpLine);"
   ]
  },
  {
   "cell_type": "code",
   "execution_count": 17,
   "metadata": {},
   "outputs": [
    {
     "name": "stdout",
     "output_type": "stream",
     "text": [
      "true\n"
     ]
    }
   ],
   "source": [
    "System.out.println(mvpLine.contains(\"Giannis\"));"
   ]
  },
  {
   "cell_type": "code",
   "execution_count": 18,
   "metadata": {},
   "outputs": [
    {
     "name": "stdout",
     "output_type": "stream",
     "text": [
      "Embiid\n"
     ]
    }
   ],
   "source": [
    "System.out.println(mvpLine.toArray()[0]); // convert into array"
   ]
  },
  {
   "attachments": {},
   "cell_type": "markdown",
   "metadata": {},
   "source": [
    "## Stack"
   ]
  },
  {
   "cell_type": "code",
   "execution_count": 19,
   "metadata": {},
   "outputs": [
    {
     "name": "stdout",
     "output_type": "stream",
     "text": [
      "[Darvin Ham, Nick Nurse, Monty Williams, Greg Popovich, Steve Kerr]\n"
     ]
    }
   ],
   "source": [
    "import java.util.Stack;\n",
    "Stack<String> coaches = new Stack<String>();\n",
    "\n",
    "coaches.add(\"Darvin Ham\");\n",
    "coaches.add(\"Nick Nurse\");\n",
    "coaches.add(\"Monty Williams\");\n",
    "coaches.add(\"Greg Popovich\");\n",
    "coaches.add(\"Steve Kerr\");\n",
    "\n",
    "System.out.println(coaches);"
   ]
  },
  {
   "cell_type": "code",
   "execution_count": 20,
   "metadata": {},
   "outputs": [
    {
     "name": "stdout",
     "output_type": "stream",
     "text": [
      "Steve Kerr\n",
      "[Darvin Ham, Nick Nurse, Monty Williams, Greg Popovich]\n"
     ]
    }
   ],
   "source": [
    "System.out.println(coaches.pop()); // get and remove first element\n",
    "System.out.println(coaches);"
   ]
  },
  {
   "cell_type": "code",
   "execution_count": 21,
   "metadata": {},
   "outputs": [
    {
     "name": "stdout",
     "output_type": "stream",
     "text": [
      "Greg Popovich\n"
     ]
    }
   ],
   "source": [
    "System.out.println(coaches.peek()); // look at first element\n"
   ]
  },
  {
   "cell_type": "code",
   "execution_count": 22,
   "metadata": {},
   "outputs": [
    {
     "name": "stdout",
     "output_type": "stream",
     "text": [
      "Nick Nurse\n"
     ]
    }
   ],
   "source": [
    "System.out.println(coaches.set(1, \"Mike Budenholzer\")); // .set(index, element)  --> replace element at an index\n"
   ]
  },
  {
   "cell_type": "code",
   "execution_count": 23,
   "metadata": {},
   "outputs": [
    {
     "name": "stdout",
     "output_type": "stream",
     "text": [
      "4\n"
     ]
    }
   ],
   "source": [
    "System.out.println(coaches.size());\n"
   ]
  },
  {
   "attachments": {},
   "cell_type": "markdown",
   "metadata": {},
   "source": [
    "## Generic <T>"
   ]
  },
  {
   "cell_type": "code",
   "execution_count": 24,
   "metadata": {},
   "outputs": [],
   "source": [
    "public class NBAPlayer<T> {\n",
    "    private T player; // represents the type of NBA player\n",
    "    \n",
    "    public NBAPlayer(T player) {\n",
    "       this.player = player;\n",
    "    }\n",
    "    \n",
    "    public T getPlayer() {\n",
    "       return player;\n",
    "    }\n",
    "    \n",
    "    public void setPlayer(T player) {\n",
    "       this.player = player;\n",
    "    }\n",
    "    \n",
    "    public static void main(String[] args) { // created an instance of the class for each position on a basketball team and set the player's name using a String parameter\n",
    "       NBAPlayer<String> pointGuard = new NBAPlayer<>(\"Magic Johnson\");\n",
    "       NBAPlayer<String> shootingGuard = new NBAPlayer<>(\"Michael Jordan\");\n",
    "       NBAPlayer<String> smallForward = new NBAPlayer<>(\"LeBron James\");\n",
    "       NBAPlayer<String> powerForward = new NBAPlayer<>(\"Tim Duncan\");\n",
    "       NBAPlayer<String> center = new NBAPlayer<>(\"Kareem Abdul-Jabbar\");\n",
    " \n",
    "       System.out.println(pointGuard.getPlayer()); // created instances of the NBAPlayer class with different type parameters and call the getPlayer method to retrieve the player's name\n",
    "       System.out.println(shootingGuard.getPlayer());\n",
    "       System.out.println(smallForward.getPlayer());\n",
    "       System.out.println(powerForward.getPlayer());\n",
    "       System.out.println(center.getPlayer());\n",
    "    }\n",
    " }"
   ]
  },
  {
   "cell_type": "code",
   "execution_count": null,
   "metadata": {},
   "outputs": [],
   "source": []
  }
 ],
 "metadata": {
  "kernelspec": {
   "display_name": "Java",
   "language": "java",
   "name": "java"
  },
  "language_info": {
   "codemirror_mode": "java",
   "file_extension": ".jshell",
   "mimetype": "text/x-java-source",
   "name": "java",
   "pygments_lexer": "java",
   "version": "11.0.16+8-post-Ubuntu-0ubuntu120.04"
  },
  "orig_nbformat": 4
 },
 "nbformat": 4,
 "nbformat_minor": 2
}
