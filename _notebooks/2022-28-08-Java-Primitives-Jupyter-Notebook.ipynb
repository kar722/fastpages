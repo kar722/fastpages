{
 "cells": [
  {
   "cell_type": "markdown",
   "id": "f8d25db8",
   "metadata": {},
   "source": [
    "# Java Primitives Notebook "
   ]
  },
  {
   "cell_type": "code",
   "execution_count": 8,
   "id": "8214ec5c",
   "metadata": {
    "vscode": {
     "languageId": "java"
    }
   },
   "outputs": [
    {
     "name": "stdout",
     "output_type": "stream",
     "text": [
      "Enter player name: Anthony Davis\n",
      "Which NBA season? (Ex: 2021/22): 2019/20\n",
      "Enter total points: 1618\n",
      "Enter games played: 62\n",
      "Anthony Davis averaged 26.0 points per game (ppg) during the 2019/20 NBA season\n"
     ]
    }
   ],
   "source": [
    "import java.util.Scanner;\n",
    "\n",
    "public class ppg {\n",
    "    public static void main(String[] args) {    \n",
    "\n",
    "        // NBA PPG calculator\n",
    "\n",
    "        // initialize scanner input\n",
    "        Scanner input;\n",
    "\n",
    "        // initialize integers to be used for the input and to be displayed at the very end\n",
    "        int totalPoints = 0;\n",
    "\n",
    "        int gamesPlayed = 0;\n",
    "\n",
    "        double ppg = 0.0;\n",
    "\n",
    "        // initialize strings to be used for the input and to be displayed at the very end\n",
    "        \n",
    "        String player = null;\n",
    "\n",
    "        String season = null;\n",
    "\n",
    "        String finalString;\n",
    "        \n",
    "       \n",
    "\n",
    "        // input for the players name\n",
    "        // primitive string\n",
    "        input =  new Scanner(System.in);\n",
    "        System.out.print(\"Enter player name: \");\n",
    "        try {\n",
    "            player = input.nextLine();\n",
    "            System.out.println(player);\n",
    "        } catch (Exception e) { // this may never happen\n",
    "            System.out.println(\"Not an String, \" + e);\n",
    "        }\n",
    "        input.close();\n",
    "\n",
    "        // input for the season date\n",
    "        // primitive string\n",
    "        input =  new Scanner(System.in);\n",
    "        System.out.print(\"Which NBA season? (Ex: 2021/22): \");\n",
    "        try {\n",
    "            season = input.nextLine();\n",
    "            System.out.println(season);\n",
    "        } catch (Exception e) { // this may never happen\n",
    "            System.out.println(\"Not an String, \" + e);\n",
    "        }\n",
    "        input.close();\n",
    "        \n",
    "        // input total points scored during that season\n",
    "        // primitive int\n",
    "        input = new Scanner(System.in);\n",
    "        System.out.print(\"Enter total points: \");\n",
    "        try {\n",
    "            totalPoints = input.nextInt();\n",
    "            System.out.println(totalPoints);\n",
    "        } catch (Exception e) {  // if not an integer\n",
    "            System.out.println(\"Not an integer (form like 159), \" + e);\n",
    "        }\n",
    "        input.close();\n",
    "        \n",
    "        // input total games played during that season\n",
    "        // primitive int\n",
    "        input = new Scanner(System.in);\n",
    "        System.out.print(\"Enter games played: \");\n",
    "        try {\n",
    "            gamesPlayed = input.nextInt();\n",
    "            System.out.println(gamesPlayed);\n",
    "        } catch (Exception e) {  // if not an integer\n",
    "            System.out.println(\"Not an integer (form like 159), \" + e);\n",
    "        }\n",
    "        input.close();\n",
    "\n",
    "\n",
    "        \n",
    "        // math operation for finding average points scored per game during that season\n",
    "        ppg = totalPoints / gamesPlayed; \n",
    "\n",
    "        // final formatted string with both variables\n",
    "        finalString = player + \" averaged \" + ppg + \" points per game (ppg) during the \" + season + \" NBA season\";\n",
    "\n",
    "        System.out.println(finalString); \n",
    "    }\n",
    "}\n",
    "// running the class\n",
    "ppg.main(null);"
   ]
  },
  {
   "cell_type": "code",
   "execution_count": null,
   "id": "bfd7f260",
   "metadata": {
    "vscode": {
     "languageId": "java"
    }
   },
   "outputs": [],
   "source": []
  }
 ],
 "metadata": {
  "kernelspec": {
   "display_name": "Java",
   "language": "java",
   "name": "java"
  },
  "language_info": {
   "codemirror_mode": "java",
   "file_extension": ".jshell",
   "mimetype": "text/x-java-source",
   "name": "Java",
   "pygments_lexer": "java",
   "version": "11.0.16+8-post-Ubuntu-0ubuntu120.04"
  }
 },
 "nbformat": 4,
 "nbformat_minor": 5
}
