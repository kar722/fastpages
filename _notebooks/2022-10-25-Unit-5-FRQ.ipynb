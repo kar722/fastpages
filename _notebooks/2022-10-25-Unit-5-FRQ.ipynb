{
 "cells": [
  {
   "cell_type": "markdown",
   "metadata": {},
   "source": [
    "# Unit 5 2019 FRQ Q2\n",
    "- categories: [homework]"
   ]
  },
  {
   "cell_type": "markdown",
   "metadata": {},
   "source": [
    "### 2. \n",
    " This question involves the implementation of a fitness tracking system that is represented by the StepTracker class. A StepTracker object is created with a parameter that defines the minimum\n",
    "number of steps that must be taken for a day to be considered active.\n",
    " The StepTracker class provides a constructor and the following methods.\n",
    "* addDailySteps, which accumulates information about steps, in readings taken once per day\n",
    "* activeDays, which returns the number of active days\n",
    "* averageSteps, which returns the average number of steps per day, calculated by dividing the\n",
    "total number of steps taken by the number of days tracked\n",
    "\n",
    "\n",
    "The following table contains a sample code execution sequence and the corresponding results.\n",
    "\n",
    "![image](https://user-images.githubusercontent.com/111528360/197903992-5b2e10c2-ad84-4c33-be9d-478a5b06ebd3.png)\n",
    "\n",
    "Write the complete StepTracker class, including the constructor and any required instance variables and\n",
    "methods. Your implementation must meet all specifications and conform to the example.\n",
    "\n"
   ]
  },
  {
   "cell_type": "code",
   "execution_count": 5,
   "metadata": {},
   "outputs": [],
   "source": [
    "public class StepTracker\n",
    "{\n",
    "  private final int minStepsActive;\n",
    "  private int activeDays;\n",
    "  private int days;\n",
    "  private int totalSteps;\n",
    "  \n",
    "  public StepTracker(int minStepsActive)\n",
    "  {\n",
    "    this.minStepsActive = minStepsActive;\n",
    "    activeDays = 0;\n",
    "    days = 0;\n",
    "    totalSteps = 0;\n",
    "  }\n",
    "    \n",
    "  public void addDailySteps(int steps)\n",
    "  {\n",
    "      if(steps >= minStepsActive)\n",
    "        activeDays++;\n",
    "  \n",
    "      days++;\n",
    "      totalSteps += steps;\n",
    "  }\n",
    "    \n",
    "  public int activeDays()\n",
    "  {\n",
    "      return activeDays;\n",
    "  }\n",
    "    \n",
    "  public double averageSteps()\n",
    "  {\n",
    "      if(days == 0)\n",
    "        return 0;\n",
    "    \n",
    "      return totalSteps / (double) days;\n",
    "  }\n",
    "}"
   ]
  }
 ],
 "metadata": {
  "kernelspec": {
   "display_name": "Java",
   "language": "java",
   "name": "java"
  },
  "language_info": {
   "codemirror_mode": "java",
   "file_extension": ".jshell",
   "mimetype": "text/x-java-source",
   "name": "java",
   "pygments_lexer": "java",
   "version": "11.0.16+8-post-Ubuntu-0ubuntu120.04"
  },
  "orig_nbformat": 4
 },
 "nbformat": 4,
 "nbformat_minor": 2
}
