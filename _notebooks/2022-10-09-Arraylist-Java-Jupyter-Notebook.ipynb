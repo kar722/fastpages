{
 "cells": [
  {
   "cell_type": "markdown",
   "metadata": {},
   "source": [
    "# ArrayList Java Notebook"
   ]
  },
  {
   "cell_type": "markdown",
   "metadata": {},
   "source": [
    "### add(int index, element)\n",
    "\n",
    "This method is used to add an element at a particular index in the list. When a single parameter is passed, it simply adds the element at the end of the list."
   ]
  },
  {
   "cell_type": "code",
   "execution_count": 11,
   "metadata": {
    "vscode": {
     "languageId": "java"
    }
   },
   "outputs": [
    {
     "name": "stdout",
     "output_type": "stream",
     "text": [
      "Larry Bird\n",
      "Lonzo Ball\n",
      "Stephen Curry\n",
      "Giannis Antetokounmpo\n",
      "Shaquille O'Neal\n",
      "Klay Thompson\n",
      "Karl Anthony Towns\n"
     ]
    }
   ],
   "source": [
    "import java.util.*;\n",
    "      \n",
    "// create an empty array list with an initial capacity\n",
    "ArrayList<String> player_list = new ArrayList<String>(7);\n",
    "\n",
    "// use add() method to add values in the list\n",
    "player_list.add(\"Larry Bird\");\n",
    "player_list.add(\"Stephen Curry\");\n",
    "player_list.add(\"Shaquille O'Neal\");\n",
    "player_list.add(\"Klay Thompson\");\n",
    "player_list.add(\"Karl Anthony Towns\");\n",
    "  \n",
    "// Insert Nocolor in 2nd and 4th position in the list \t\n",
    "player_list.add(1,\"Lonzo Ball\");\t\n",
    "player_list.add(3,\"Giannis Antetokounmpo\");\t\t\n",
    "\n",
    "// Print out the colors in the ArrayList\n",
    "for (int i = 0; i < 7; i++)\n",
    "  {\n",
    "      System.out.println(player_list.get(i).toString());\n",
    "  }\n"
   ]
  },
  {
   "cell_type": "markdown",
   "metadata": {},
   "source": [
    "### addAll(int index, Collection collection)\n",
    "This method is used to add all the elements in the given collection to the list. When a single parameter is passed, it adds all the elements of the given collection at the end of the list."
   ]
  },
  {
   "cell_type": "code",
   "execution_count": 12,
   "metadata": {
    "vscode": {
     "languageId": "java"
    }
   },
   "outputs": [
    {
     "name": "stdout",
     "output_type": "stream",
     "text": [
      "Larry Bird\n",
      "Lonzo Ball\n",
      "Stephen Curry\n",
      "Giannis Antetokounmpo\n",
      "Shaquille O'Neal\n",
      "Klay Thompson\n",
      "Karl Anthony Towns\n",
      "LeBron James\n",
      "James Harden\n",
      "Michael Jordan\n",
      "Anthony Davis\n",
      "Magic Johnson\n",
      "Kareem Abdul-Jabbar\n",
      "Kevin Durant\n"
     ]
    }
   ],
   "source": [
    "// create an empty array list with an initial capacity\n",
    "ArrayList<String> player_list1 = new ArrayList<String>(7);\n",
    "\n",
    "// use add() method to add values in the list\n",
    "player_list1.add(\"LeBron James\");\n",
    "player_list1.add(\"Michael Jordan\");\n",
    "player_list1.add(\"Magic Johnson\");\n",
    "player_list1.add(\"Kareem Abdul-Jabbar\");\n",
    "player_list1.add(\"Kevin Durant\");\n",
    "    \n",
    "// Insert Nocolor in 2nd and 4th position in the list \t\n",
    "player_list1.add(1,\"James Harden\");\t\n",
    "player_list1.add(3,\"Anthony Davis\");\t\t\n",
    "\n",
    "// Combines the two lists together inside of the player_list\n",
    "player_list.addAll(player_list1); \n",
    "\n",
    "for (int i = 0; i < 14; i++)\n",
    "  {\n",
    "      System.out.println(player_list.get(i).toString());\n",
    "  }\n"
   ]
  },
  {
   "cell_type": "markdown",
   "metadata": {},
   "source": [
    "### size() \n",
    "This method is used to return the size of the list."
   ]
  },
  {
   "cell_type": "code",
   "execution_count": 9,
   "metadata": {
    "vscode": {
     "languageId": "java"
    }
   },
   "outputs": [
    {
     "data": {
      "text/plain": [
       "14"
      ]
     },
     "execution_count": 9,
     "metadata": {},
     "output_type": "execute_result"
    }
   ],
   "source": [
    "player_list.size();"
   ]
  },
  {
   "cell_type": "markdown",
   "metadata": {},
   "source": [
    "### clear()\n",
    "This method is used to remove all the elements in the list. However, the reference of the list created is still stored.\n"
   ]
  },
  {
   "cell_type": "code",
   "execution_count": 10,
   "metadata": {
    "vscode": {
     "languageId": "java"
    }
   },
   "outputs": [
    {
     "name": "stdout",
     "output_type": "stream",
     "text": [
      "[]\n"
     ]
    }
   ],
   "source": [
    "player_list.clear();\n",
    "// list is empty now\n",
    "System.out.println(player_list);"
   ]
  },
  {
   "cell_type": "markdown",
   "metadata": {},
   "source": [
    "### remove(int index) \n",
    "This method removes an element from the specified index. It shifts subsequent elements(if any) to left and decreases their indexes by 1.\n"
   ]
  },
  {
   "cell_type": "code",
   "execution_count": 13,
   "metadata": {
    "vscode": {
     "languageId": "java"
    }
   },
   "outputs": [
    {
     "name": "stdout",
     "output_type": "stream",
     "text": [
      "Larry Bird\n",
      "Lonzo Ball\n",
      "Stephen Curry\n",
      "Giannis Antetokounmpo\n",
      "Shaquille O'Neal\n",
      "Klay Thompson\n",
      "Karl Anthony Towns\n",
      "James Harden\n",
      "Michael Jordan\n",
      "Anthony Davis\n",
      "Magic Johnson\n",
      "Kareem Abdul-Jabbar\n",
      "Kevin Durant\n"
     ]
    }
   ],
   "source": [
    "player_list.remove(7); // Removes \"LeBron James\" --> the 7th index\n",
    "for (int i = 0; i < 13; i++)\n",
    "  {\n",
    "      System.out.println(player_list.get(i).toString());\n",
    "  }"
   ]
  },
  {
   "cell_type": "markdown",
   "metadata": {},
   "source": [
    "### remove(element) \n",
    "This method is used to remove the first occurrence of the given element in the list."
   ]
  },
  {
   "cell_type": "code",
   "execution_count": 14,
   "metadata": {
    "vscode": {
     "languageId": "java"
    }
   },
   "outputs": [
    {
     "name": "stdout",
     "output_type": "stream",
     "text": [
      "Lonzo Ball\n",
      "Stephen Curry\n",
      "Giannis Antetokounmpo\n",
      "Shaquille O'Neal\n",
      "Klay Thompson\n",
      "Karl Anthony Towns\n",
      "James Harden\n",
      "Michael Jordan\n",
      "Anthony Davis\n",
      "Magic Johnson\n",
      "Kareem Abdul-Jabbar\n",
      "Kevin Durant\n"
     ]
    }
   ],
   "source": [
    "player_list.remove(\"Larry Bird\"); // Removes \"Larry Bird\"\n",
    "for (int i = 0; i < 12; i++)\n",
    "  {\n",
    "      System.out.println(player_list.get(i).toString());\n",
    "  }"
   ]
  },
  {
   "cell_type": "markdown",
   "metadata": {},
   "source": [
    "### get(int index) \n",
    "This method returns elements at the specified index."
   ]
  },
  {
   "cell_type": "code",
   "execution_count": 15,
   "metadata": {
    "vscode": {
     "languageId": "java"
    }
   },
   "outputs": [
    {
     "data": {
      "text/plain": [
       "Magic Johnson"
      ]
     },
     "execution_count": 15,
     "metadata": {},
     "output_type": "execute_result"
    }
   ],
   "source": [
    "player_list.get(9);"
   ]
  },
  {
   "cell_type": "markdown",
   "metadata": {},
   "source": [
    "### set(int index, element) \n",
    "This method replaces elements at a given index with the new element. This function returns the element which was just replaced by a new element.\n"
   ]
  },
  {
   "cell_type": "code",
   "execution_count": 17,
   "metadata": {
    "vscode": {
     "languageId": "java"
    }
   },
   "outputs": [
    {
     "name": "stdout",
     "output_type": "stream",
     "text": [
      "Kobe Bryant\n",
      "Stephen Curry\n",
      "Giannis Antetokounmpo\n",
      "Shaquille O'Neal\n",
      "Klay Thompson\n",
      "Karl Anthony Towns\n",
      "James Harden\n",
      "Michael Jordan\n",
      "Anthony Davis\n",
      "Magic Johnson\n",
      "Kareem Abdul-Jabbar\n",
      "Kevin Durant\n"
     ]
    }
   ],
   "source": [
    "player_list.set(0, \"Kobe Bryant\");\n",
    "for (int i = 0; i < 12; i++)\n",
    "  {\n",
    "      System.out.println(player_list.get(i).toString());\n",
    "  }"
   ]
  },
  {
   "cell_type": "markdown",
   "metadata": {},
   "source": [
    "### indexOf(element)\n",
    "This method returns the first occurrence of the given element or -1 if the element is not present in the list.\n"
   ]
  },
  {
   "cell_type": "code",
   "execution_count": 18,
   "metadata": {
    "vscode": {
     "languageId": "java"
    }
   },
   "outputs": [
    {
     "data": {
      "text/plain": [
       "7"
      ]
     },
     "execution_count": 18,
     "metadata": {},
     "output_type": "execute_result"
    }
   ],
   "source": [
    "player_list.indexOf(\"Michael Jordan\");"
   ]
  },
  {
   "cell_type": "code",
   "execution_count": 19,
   "metadata": {
    "vscode": {
     "languageId": "java"
    }
   },
   "outputs": [
    {
     "data": {
      "text/plain": [
       "-1"
      ]
     },
     "execution_count": 19,
     "metadata": {},
     "output_type": "execute_result"
    }
   ],
   "source": [
    "player_list.indexOf(\"Dwyane Wade\");"
   ]
  },
  {
   "cell_type": "markdown",
   "metadata": {},
   "source": [
    "### lastIndexOf(element) \n",
    "This method returns the last occurrence of the given element or -1 if the element is not present in the list.\n"
   ]
  },
  {
   "cell_type": "code",
   "execution_count": 20,
   "metadata": {
    "vscode": {
     "languageId": "java"
    }
   },
   "outputs": [
    {
     "data": {
      "text/plain": [
       "8"
      ]
     },
     "execution_count": 20,
     "metadata": {},
     "output_type": "execute_result"
    }
   ],
   "source": [
    "player_list.indexOf(\"Anthony Davis\");"
   ]
  },
  {
   "cell_type": "code",
   "execution_count": 21,
   "metadata": {
    "vscode": {
     "languageId": "java"
    }
   },
   "outputs": [
    {
     "data": {
      "text/plain": [
       "-1"
      ]
     },
     "execution_count": 21,
     "metadata": {},
     "output_type": "execute_result"
    }
   ],
   "source": [
    "player_list.indexOf(\"Blake Griffin\");"
   ]
  },
  {
   "cell_type": "markdown",
   "metadata": {},
   "source": [
    "### equals(element) \n",
    "This method is used to compare the equality of the given element with the elements of the list."
   ]
  },
  {
   "cell_type": "code",
   "execution_count": 22,
   "metadata": {
    "vscode": {
     "languageId": "java"
    }
   },
   "outputs": [
    {
     "data": {
      "text/plain": [
       "false"
      ]
     },
     "execution_count": 22,
     "metadata": {},
     "output_type": "execute_result"
    }
   ],
   "source": [
    "player_list.equals(\"LeBron James\");"
   ]
  },
  {
   "cell_type": "markdown",
   "metadata": {},
   "source": [
    "### hashCode() \n",
    "This method is used to return the hashcode value of the given list.\n"
   ]
  },
  {
   "cell_type": "code",
   "execution_count": 23,
   "metadata": {
    "vscode": {
     "languageId": "java"
    }
   },
   "outputs": [
    {
     "data": {
      "text/plain": [
       "-1679867756"
      ]
     },
     "execution_count": 23,
     "metadata": {},
     "output_type": "execute_result"
    }
   ],
   "source": [
    "player_list.hashCode();"
   ]
  },
  {
   "cell_type": "markdown",
   "metadata": {},
   "source": [
    "### isEmpty() \n",
    "This method is used to check if the list is empty or not. It returns true if the list is empty, else false."
   ]
  },
  {
   "cell_type": "code",
   "execution_count": 25,
   "metadata": {
    "vscode": {
     "languageId": "java"
    }
   },
   "outputs": [
    {
     "data": {
      "text/plain": [
       "true"
      ]
     },
     "execution_count": 25,
     "metadata": {},
     "output_type": "execute_result"
    }
   ],
   "source": [
    "ArrayList<String> karthik_list = new ArrayList<String>(7);\n",
    "karthik_list.isEmpty();"
   ]
  },
  {
   "cell_type": "code",
   "execution_count": 26,
   "metadata": {
    "vscode": {
     "languageId": "java"
    }
   },
   "outputs": [
    {
     "data": {
      "text/plain": [
       "false"
      ]
     },
     "execution_count": 26,
     "metadata": {},
     "output_type": "execute_result"
    }
   ],
   "source": [
    "player_list.isEmpty();"
   ]
  },
  {
   "cell_type": "markdown",
   "metadata": {},
   "source": [
    "### contains(element) \n",
    "This method is used to check if the list contains the given element or not. It returns true if the list contains the element."
   ]
  },
  {
   "cell_type": "code",
   "execution_count": 28,
   "metadata": {
    "vscode": {
     "languageId": "java"
    }
   },
   "outputs": [
    {
     "data": {
      "text/plain": [
       "true"
      ]
     },
     "execution_count": 28,
     "metadata": {},
     "output_type": "execute_result"
    }
   ],
   "source": [
    "player_list.contains(\"Karl Anthony Towns\");"
   ]
  },
  {
   "cell_type": "code",
   "execution_count": 29,
   "metadata": {
    "vscode": {
     "languageId": "java"
    }
   },
   "outputs": [
    {
     "data": {
      "text/plain": [
       "false"
      ]
     },
     "execution_count": 29,
     "metadata": {},
     "output_type": "execute_result"
    }
   ],
   "source": [
    "player_list.contains(\"Lonzo Ball\");"
   ]
  },
  {
   "cell_type": "markdown",
   "metadata": {},
   "source": [
    "### containsAll(Collection collection) \n",
    "This method is used to check if the list contains all the collection of elements."
   ]
  },
  {
   "cell_type": "code",
   "execution_count": 31,
   "metadata": {
    "vscode": {
     "languageId": "java"
    }
   },
   "outputs": [
    {
     "data": {
      "text/plain": [
       "false"
      ]
     },
     "execution_count": 31,
     "metadata": {},
     "output_type": "execute_result"
    }
   ],
   "source": [
    "player_list.containsAll(player_list1);"
   ]
  },
  {
   "cell_type": "markdown",
   "metadata": {},
   "source": [
    "### sort(Comparator comp) \n",
    "This method is used to sort the elements of the list on the basis of the given comparator."
   ]
  },
  {
   "cell_type": "code",
   "execution_count": 35,
   "metadata": {
    "vscode": {
     "languageId": "java"
    }
   },
   "outputs": [
    {
     "name": "stdout",
     "output_type": "stream",
     "text": [
      "Anthony Davis\n",
      "Giannis Antetokounmpo\n",
      "James Harden\n",
      "Kareem Abdul-Jabbar\n",
      "Karl Anthony Towns\n",
      "Kevin Durant\n",
      "Klay Thompson\n",
      "Kobe Bryant\n",
      "Magic Johnson\n",
      "Michael Jordan\n",
      "Shaquille O'Neal\n",
      "Stephen Curry\n"
     ]
    }
   ],
   "source": [
    "import java.util.Collections;\n",
    "\n",
    "// Sorts the string in alphabetical order\n",
    "Collections.sort(player_list);\n",
    "for (int i = 0; i < 12; i++)\n",
    "  {\n",
    "      System.out.println(player_list.get(i).toString());\n",
    "  }"
   ]
  }
 ],
 "metadata": {
  "kernelspec": {
   "display_name": "Java",
   "language": "java",
   "name": "java"
  },
  "language_info": {
   "codemirror_mode": "java",
   "file_extension": ".jshell",
   "mimetype": "text/x-java-source",
   "name": "Java",
   "pygments_lexer": "java",
   "version": "11.0.16+8-post-Ubuntu-0ubuntu120.04"
  },
  "orig_nbformat": 4
 },
 "nbformat": 4,
 "nbformat_minor": 2
}
