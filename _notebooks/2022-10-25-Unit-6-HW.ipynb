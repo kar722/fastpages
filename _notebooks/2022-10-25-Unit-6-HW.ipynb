{
 "cells": [
  {
   "cell_type": "markdown",
   "metadata": {},
   "source": [
    "# Unit 6 Homework\n",
    "- categories: [homework]"
   ]
  },
  {
   "cell_type": "markdown",
   "metadata": {},
   "source": [
    "### Hack 1\n",
    "How do we access the even numbers in arrayOne from above?"
   ]
  },
  {
   "cell_type": "code",
   "execution_count": 13,
   "metadata": {},
   "outputs": [],
   "source": [
    "import java.util.Arrays;\n",
    "int[] arrayOne = {1, 3, 5, 7, 9};\n",
    "for (int i = 0; i<arrayOne.length;i++)\n",
    "{\n",
    "    if (arrayOne[i] % 2 == 0)\n",
    "    {\n",
    "        System.out.println(arrayOne[i] + \" \");\n",
    "    }\n",
    "}"
   ]
  },
  {
   "cell_type": "markdown",
   "metadata": {},
   "source": [
    "### Hack 2\n",
    "Which of the following is FALSE about arrays\n",
    "\n",
    "- A. A java array is an object\n",
    "- B. Length of array can be changed after creation of array\n",
    "- C. Numerical data types of arrays are initialized to 0 to start"
   ]
  },
  {
   "cell_type": "markdown",
   "metadata": {},
   "source": [
    "### B"
   ]
  },
  {
   "cell_type": "markdown",
   "metadata": {},
   "source": [
    "### APCSA 2021 Question 3\n",
    "A high school club maintains information about its members in a MemberInfo object. A\n",
    "MemberInfo object stores a club member’s name, year of graduation, and whether or not the club\n",
    "member is in good standing. A member who is in good standing has fulfilled all the responsibilities of club\n",
    "membership.\n",
    "* A partial declaration of the MemberInfo class is shown below.\n",
    "\n",
    "    * public class MemberInfo\n",
    "{\n",
    "/** Constructs a MemberInfo object for the club member with name name, graduation year gradYear, and standing hasGoodStanding.\n",
    "*/\n",
    "public MemberInfo(String name, int gradYear, boolean hasGoodStanding)\n",
    "{ /* implementation not shown */ }\n",
    "/** Returns the graduation year of the club member. */\n",
    "public int getGradYear()\n",
    "{ /* implementation not shown */ }\n",
    "/** Returns true if the member is in good standing and false otherwise. */\n",
    "public boolean inGoodStanding()\n",
    "{ /* implementation not shown */ }\n",
    "// There may be instance variables, constructors, and methods that are not shown.\n",
    "}\n",
    "* The ClubMembers class maintains a list of current club members. The declaration of the ClubMembers class is shown below.\n",
    "\n",
    "    * public class ClubMembers\n",
    "{\n",
    "private ArrayList<MemberInfo> memberList;\n",
    "/** Adds new club members to memberList, as described in part (a). Precondition: names is a non-empty array.\n",
    "*/\n",
    "public void addMembers(String[] names, int gradYear)\n",
    "{ /* to be implemented in part (a) */ }\n",
    "/** Removes members who have graduated and returns a list of members who have graduated and are in good standing, as described in part (b).\n",
    "*/\n",
    "public ArrayList<MemberInfo> removeMembers(int year)\n",
    "{ /* to be implemented in part (b) */ }\n",
    "// There may be instance variables, constructors, and methods that are not shown.\n",
    "} "
   ]
  },
  {
   "cell_type": "markdown",
   "metadata": {},
   "source": [
    "### (A)\n",
    "Write the ClubMembers method addMembers, which takes two parameters. The first parameter is\n",
    "a String array containing the names of new club members to be added. The second parameter is the\n",
    "graduation year of all the new club members. The method adds the new members to the memberList\n",
    "instance variable. The names can be added in any order. All members added are initially in good\n",
    "standing and share the same graduation year, gradYear.\n",
    "\n",
    "Complete the addMembers method.\n",
    "\n",
    "/** Adds new club members to memberList, as described in part (a).\n",
    "Precondition: names is a non-empty array.\n",
    "*/\n",
    "\n",
    "public void addMembers(String[] names, int gradYear) \n"
   ]
  },
  {
   "cell_type": "code",
   "execution_count": 17,
   "metadata": {},
   "outputs": [],
   "source": [
    "public void addMembers(String[] names, int gradYear)\n",
    "{\n",
    "    for (String n : names)\n",
    "    {\n",
    "        MemberInfo newM = new MemberInfo (n, gradYear, true);\n",
    "        memberList.add(newM);\n",
    "    }\n",
    "}\n",
    "\n"
   ]
  }
 ],
 "metadata": {
  "kernelspec": {
   "display_name": "Java",
   "language": "java",
   "name": "java"
  },
  "language_info": {
   "codemirror_mode": "java",
   "file_extension": ".jshell",
   "mimetype": "text/x-java-source",
   "name": "java",
   "pygments_lexer": "java",
   "version": "11.0.16+8-post-Ubuntu-0ubuntu120.04"
  },
  "orig_nbformat": 4
 },
 "nbformat": 4,
 "nbformat_minor": 2
}
