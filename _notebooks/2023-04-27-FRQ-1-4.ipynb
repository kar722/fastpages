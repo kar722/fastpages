{
 "cells": [
  {
   "attachments": {},
   "cell_type": "markdown",
   "metadata": {},
   "source": [
    "## Methods and Control Structures Q5"
   ]
  },
  {
   "cell_type": "code",
   "execution_count": 25,
   "metadata": {
    "vscode": {
     "languageId": "java"
    }
   },
   "outputs": [
    {
     "name": "stdout",
     "output_type": "stream",
     "text": [
      "\n",
      " --- part a --- \n",
      "EDCBA\n",
      "\n",
      " --- part b --- \n",
      "taco cat is a palindrome\n",
      "laid on no dial is a palindrome\n",
      "level up is not a palindrome\n"
     ]
    }
   ],
   "source": [
    "public class StringManip\n",
    "\n",
    "{\n",
    "\n",
    "/** Takes a string str and returns a new string\n",
    "\n",
    "* with all spaces removed.\n",
    "\n",
    "*/\n",
    "\n",
    "    public static String removeSpaces(String str)\n",
    "    { \n",
    "        String result = str.trim().replaceAll(\"\\\\s+\", \"\");\n",
    "        return result;\n",
    "    }\n",
    "\n",
    "/** Takes a string str and returns a new string\n",
    "\n",
    "* with the characters reversed.\n",
    "\n",
    "*/\n",
    "\n",
    "    public static String reverseString(String str)\n",
    "    {\n",
    "        String result = \"\";\n",
    "\n",
    "        for (int i = str.length() - 1; i >= 0 ; i--){\n",
    "            result += str.charAt(i);\n",
    "        }\n",
    "        \n",
    "        return result;\n",
    "\n",
    "    }\n",
    "\n",
    "/** Determines whether str is a palindrome and prints a message\n",
    "\n",
    "* indicating the result, as described in part (b).\n",
    "\n",
    "* Precondition: str contains only lowercase letters and spaces.\n",
    "\n",
    "*/\n",
    "\n",
    "    public static void palindromeChecker(String str){\n",
    "        if (removeSpaces(str).equals(reverseString(removeSpaces(str)))){\n",
    "            System.out.println(str + \" is a palindrome\");\n",
    "        } else{\n",
    "        System.out.println(str + \" is not a palindrome\");\n",
    "        }\n",
    "    }\n",
    "\n",
    "    public static void main(String[] args) {\n",
    "        // Tester for part a\n",
    "        System.out.println(\"\\n --- part a --- \");\n",
    "        System.out.println(reverseString(\"ABCDE\"));\n",
    "        // Tester for part b\n",
    "        System.out.println(\"\\n --- part b --- \");\n",
    "        palindromeChecker(\"taco cat\");\n",
    "        palindromeChecker(\"laid on no dial\");\n",
    "        palindromeChecker(\"level up\");\n",
    "    }\n",
    "}\n",
    "StringManip.main(null);"
   ]
  },
  {
   "attachments": {},
   "cell_type": "markdown",
   "metadata": {},
   "source": [
    "## Classes Q2"
   ]
  },
  {
   "cell_type": "code",
   "execution_count": 13,
   "metadata": {
    "vscode": {
     "languageId": "java"
    }
   },
   "outputs": [
    {
     "name": "stdout",
     "output_type": "stream",
     "text": [
      "1\n",
      "2\n",
      "3\n",
      "2\n",
      "2\n",
      "2\n",
      "2\n",
      "1\n"
     ]
    }
   ],
   "source": [
    "// Classes Question 2\n",
    "public class Bus {\n",
    "    private int stops = 1;\n",
    "    private int currentStop = 1;\n",
    "    public Bus(int stops){\n",
    "        this.stops = stops;\n",
    "        this.currentStop = currentStop;\n",
    "    }\n",
    "\n",
    "    public void move(){\n",
    "        if (currentStop < stops) {\n",
    "            currentStop++;\n",
    "        }\n",
    "        else {\n",
    "            --currentStop;\n",
    "        }\n",
    "    }\n",
    "\n",
    "    public int getCurrentStop(){\n",
    "        return currentStop;\n",
    "    }\n",
    "\n",
    "    public void setStops(int stops){\n",
    "        this.stops = stops;\n",
    "    }\n",
    "    public static void main(String[] args) {\n",
    "        Bus bus1 = new Bus(3);\n",
    "        System.out.println(bus1.getCurrentStop());\n",
    "        bus1.move();\n",
    "        System.out.println(bus1.getCurrentStop());\n",
    "        bus1.move();\n",
    "        System.out.println(bus1.getCurrentStop());\n",
    "        bus1.move();\n",
    "        System.out.println(bus1.getCurrentStop()); \n",
    "        bus1.move();\n",
    "        bus1.move(); \n",
    "        System.out.println(bus1.getCurrentStop());\n",
    "        System.out.println(bus1.getCurrentStop());\n",
    "        Bus bus2 = new Bus(5);\n",
    "        System.out.println(bus1.getCurrentStop());\n",
    "        System.out.println(bus2.getCurrentStop());\n",
    "    }\n",
    "}\n",
    "Bus.main(null);"
   ]
  },
  {
   "attachments": {},
   "cell_type": "markdown",
   "metadata": {},
   "source": [
    "## Array/ArrayLists Q2"
   ]
  },
  {
   "cell_type": "code",
   "execution_count": 7,
   "metadata": {
    "vscode": {
     "languageId": "java"
    }
   },
   "outputs": [],
   "source": [
    "public class CarRepair{\n",
    "\n",
    "    private int mechanicNum;\n",
    "    private int bayNum;\n",
    "\n",
    "    public CarRepair(int m, int b){\n",
    "        mechanicNum = m;\n",
    "        bayNum = b;\n",
    "    }\n",
    "    \n",
    "\n",
    "    public int getMechanicNum(){\n",
    "        return mechanicNum;\n",
    "    }\n",
    "\n",
    "    public int getBayNum(){\n",
    "        return bayNum;\n",
    "    }\n",
    "\n",
    "// There may be other instance variables, constructors, and methods not shown.\n",
    "}"
   ]
  },
  {
   "cell_type": "code",
   "execution_count": 22,
   "metadata": {
    "vscode": {
     "languageId": "java"
    }
   },
   "outputs": [],
   "source": [
    "import java.util.ArrayList;\n",
    "\n",
    "public class RepairSchedule\n",
    "{\n",
    "  /** Each element represents a repair by an individual mechanic in a bay. */\n",
    "  private ArrayList<CarRepair> schedule;\n",
    "\n",
    "  /** Number of mechanics available in this schedule. */\n",
    "  private int numberOfMechanics;\n",
    "\n",
    "  /** Constructs a RepairSchedule object.\n",
    "  * Precondition: n >= 0\n",
    "  */\n",
    "  public RepairSchedule(int n)\n",
    "  {\n",
    "    schedule = new ArrayList<CarRepair>();\n",
    "    numberOfMechanics = n;\n",
    "  }\n",
    "\n",
    "  /** Attempts to schedule a repair by a given mechanic in a given bay as described in part (a).\n",
    "  * Precondition: 0 <= m < numberOfMechanics and b >= 0\n",
    "  */\n",
    "  public boolean addRepair(int m, int b)\n",
    "  {\n",
    "      for (int i = 0; i < schedule.size(); i++){\n",
    "          if (schedule.get(i).getMechanicNum() == m || schedule.get(i).getBayNum() == b){\n",
    "              return false;\n",
    "          }\n",
    "      }\n",
    "      CarRepair mb = new CarRepair(m, b);\n",
    "      schedule.add(mb);\n",
    "      return true;\n",
    "  /* to be implemented in part (a) */\n",
    "  }\n",
    "  \n",
    "\n",
    "  \n",
    "\n",
    "  /** Returns an ArrayList containing the mechanic identifiers of all available mechanics,\n",
    "  * as described in part (b).\n",
    "  */\n",
    "\n",
    "  public ArrayList<Integer> availableMechanics(){\n",
    "    ArrayList<Integer> available = new ArrayList<Integer>();\n",
    "    int j = 0;\n",
    "    for (int i = 0; i < numberOfMechanics && j < schedule.size(); i++){\n",
    "        if (schedule.get(j).getMechanicNum() != i){\n",
    "            available.add(i);\n",
    "            j++;\n",
    "        }\n",
    "    }\n",
    "    return available;\n",
    "  }\n",
    "\n",
    "  /** Removes an element from schedule when a repair is complete. */\n",
    "  public void carOut(int b)\n",
    "  {\n",
    "    /* implementation not shown */\n",
    "    for(int i = schedule.size() - 1; i >= 0; i--)\n",
    "    {\n",
    "      if(schedule.get(i).getBayNum() == b)\n",
    "        schedule.remove(i);\n",
    "    }\n",
    "  }\n",
    "}"
   ]
  },
  {
   "cell_type": "code",
   "execution_count": 24,
   "metadata": {
    "vscode": {
     "languageId": "java"
    }
   },
   "outputs": [
    {
     "name": "stdout",
     "output_type": "stream",
     "text": [
      "\n",
      " *** Part A Test Cases *** \n",
      "Should be true: true\n",
      "Should be true: true\n",
      "Should be false: false\n",
      "Should be false: false\n",
      "Should be true: true\n",
      "\n",
      " *** Part B Test Case *** \n",
      "Should be [2, 3, 4, 5]: [1, 2]\n"
     ]
    }
   ],
   "source": [
    "import java.util.ArrayList;\n",
    "class Main {\n",
    "  public static void main(String[] args) {\n",
    "    \n",
    "    System.out.println(\"\\n --- part a --- \");\n",
    "    RepairSchedule r = new RepairSchedule(6);\n",
    "    System.out.print(\"Should be true: \"); \n",
    "    System.out.println(r.addRepair(3, 4));\n",
    "    System.out.print(\"Should be true: \");\n",
    "    System.out.println(r.addRepair(0, 1));\n",
    "    System.out.print(\"Should be false: \");\n",
    "    System.out.println(r.addRepair(0, 2));\n",
    "    System.out.print(\"Should be false: \");\n",
    "    System.out.println(r.addRepair(2, 4));\n",
    "    r.carOut(4);\n",
    "    System.out.print(\"Should be true: \");\n",
    "    System.out.println(r.addRepair(1, 4));\n",
    "    \n",
    "    System.out.println(\"\\n --- part b --- \");\n",
    "    System.out.print(\"Should be [2, 3, 4, 5]: \");\n",
    "    System.out.println( r.availableMechanics() );\n",
    "  }\n",
    "}\n",
    "Main.main(null);"
   ]
  },
  {
   "attachments": {},
   "cell_type": "markdown",
   "metadata": {},
   "source": [
    "## 2d Array Q2"
   ]
  },
  {
   "cell_type": "code",
   "execution_count": 1,
   "metadata": {
    "vscode": {
     "languageId": "java"
    }
   },
   "outputs": [],
   "source": [
    "public class Item\n",
    "{\n",
    "    private String name;\n",
    "    private int value;\n",
    "\n",
    "    public Item(String itemName, int itemValue){\n",
    "        name = itemName;\n",
    "        value = itemValue;\n",
    "    }\n",
    "\n",
    "    \n",
    "\n",
    "    public String getName(){\n",
    "        return name;\n",
    "    }\n",
    "\n",
    "    public int getValue(){\n",
    "        return value;\n",
    "    }\n",
    "}"
   ]
  },
  {
   "cell_type": "code",
   "execution_count": 2,
   "metadata": {
    "vscode": {
     "languageId": "java"
    }
   },
   "outputs": [
    {
     "name": "stdout",
     "output_type": "stream",
     "text": [
      "book\n",
      "globe\n",
      "jacket\n",
      "lunch\n"
     ]
    }
   ],
   "source": [
    "public class ItemGrid {\n",
    "    private Item[][] grid;\n",
    "\n",
    "    // Constructor not shown\n",
    "    public ItemGrid(Item[][] grid) {\n",
    "        this.grid = grid;\n",
    "    }\n",
    "\n",
    "    /** Returns true if xPos is a valid row index and yPos is a valid\n",
    "     * column index and returns false otherwise.\n",
    "     */\n",
    "    public boolean isValid(int xPos, int yPos) {\n",
    "        // Get the number of rows and columns in the grid\n",
    "        int numRows = grid.length;\n",
    "        int numCols = grid[0].length;\n",
    "\n",
    "        // Check if the given xPos and yPos values are within the grid bounds\n",
    "        if (xPos >= 0 && xPos < numRows && yPos >= 0 && yPos < numCols) {\n",
    "            // The position is valid\n",
    "            return true;\n",
    "        } else {\n",
    "            // The position is invalid\n",
    "            return false;\n",
    "        }\n",
    "    }\n",
    "\n",
    "    /** Compares the item in row r and column c to the items to its\n",
    "     * left and to its right. Returns the name of the item with\n",
    "     * the greatest value, as described in part (a).\n",
    "     * Precondition: r and c are valid indices\n",
    "     */\n",
    "    public String mostValuableNeighbor(int r, int c) {\n",
    "        int maxValue = grid[r][c].getValue();\n",
    "        String correctReturn = grid[r][c].getName();\n",
    "        if (isValid(r, c-1) && grid[r][c-1].getValue() >= maxValue) {\n",
    "            maxValue = grid[r][c-1].getValue();\n",
    "            correctReturn = grid[r][c-1].getName();\n",
    "        }\n",
    "        if (isValid(r, c+1) && grid[r][c+1].getValue() >= maxValue) {\n",
    "            maxValue = grid[r][c+1].getValue();\n",
    "            correctReturn = grid[r][c+1].getName();\n",
    "        }\n",
    "        return correctReturn;\n",
    "    }\n",
    "\n",
    "    /** Returns the average value of all the items in grid,\n",
    "     * as described in part (b).\n",
    "     */\n",
    "    public double findAverage() {\n",
    "        double sum = 0;\n",
    "        double count = 0;\n",
    "        for (Item[] row : grid) {\n",
    "            for (Item item : row) {\n",
    "                sum += item.getValue();\n",
    "                count++;\n",
    "            }\n",
    "        }\n",
    "        return sum / count;\n",
    "    }\n",
    "\n",
    "    public static void main(String[] args){\n",
    "        Item[][] igArray = new Item[3][4];\n",
    "\n",
    "        // Initialize the array with new Item objects\n",
    "        igArray[0][0] = new Item(\"acorn\", 7);\n",
    "        igArray[0][1] = new Item(\"book\", 10);\n",
    "        igArray[0][2] = new Item(\"carrot\", 8);\n",
    "        igArray[0][3] = new Item(\"desk\", 9);\n",
    "        igArray[1][0] = new Item(\"egg\", 5);\n",
    "        igArray[1][1] = new Item(\"flag\", 8);\n",
    "        igArray[1][2] = new Item(\"globe\", 8);\n",
    "        igArray[1][3] = new Item(\"harp\", 9);\n",
    "        igArray[2][0] = new Item(\"island\", 7);\n",
    "        igArray[2][1] = new Item(\"jacket\", 19);\n",
    "        igArray[2][2] = new Item(\"kale\", 8);\n",
    "        igArray[2][3] = new Item(\"lunch\", 16);\n",
    "\n",
    "        ItemGrid ig = new ItemGrid(igArray);\n",
    "        \n",
    "        System.out.println(ig.mostValuableNeighbor(0, 2));\n",
    "        System.out.println(ig.mostValuableNeighbor(1, 1));\n",
    "        System.out.println(ig.mostValuableNeighbor(2, 0));\n",
    "        System.out.println(ig.mostValuableNeighbor(2, 3));\n",
    "    }\n",
    "}\n",
    "ItemGrid.main(null);"
   ]
  }
 ],
 "metadata": {
  "kernelspec": {
   "display_name": "Java",
   "language": "java",
   "name": "java"
  },
  "language_info": {
   "codemirror_mode": "java",
   "file_extension": ".jshell",
   "mimetype": "text/x-java-source",
   "name": "Java",
   "pygments_lexer": "java",
   "version": "11.0.16+8-post-Ubuntu-0ubuntu120.04"
  },
  "orig_nbformat": 4
 },
 "nbformat": 4,
 "nbformat_minor": 2
}
