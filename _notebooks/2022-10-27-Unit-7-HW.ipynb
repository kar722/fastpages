{
 "cells": [
  {
   "cell_type": "markdown",
   "metadata": {},
   "source": [
    "# Unit 7 2018 HW\n",
    "- categories: [Homework]"
   ]
  },
  {
   "cell_type": "markdown",
   "metadata": {},
   "source": [
    "### 2. This question involves reasoning about pairs of words that are represented by the following\n",
    "public class WordPair\n",
    "\n",
    "{\n",
    "\n",
    "/** Constructs a WordPair object. */\n",
    "\n",
    "public WordPair(String first, String second)\n",
    "\n",
    "{ /* implementation not shown */ }\n",
    "\n",
    "/** Returns the first string of this WordPair object. */\n",
    "\n",
    "public String getFirst()\n",
    "\n",
    "{ /* implementation not shown */ }\n",
    "\n",
    "/** Returns the second string of this WordPair object. */\n",
    "\n",
    "public String getSecond()\n",
    "\n",
    "{ /* implementation not shown */ }\n",
    "\n",
    "}\n",
    "\n",
    "WordPair class. "
   ]
  },
  {
   "cell_type": "markdown",
   "metadata": {},
   "source": [
    "### 2. You will implement the constructor and another method for the following WordPairList class.\n",
    "\n",
    "public class WordPairList\n",
    "\n",
    "{\n",
    "\n",
    "/** The list of word pairs, initialized by the constructor. */\n",
    "\n",
    "private ArrayList<WordPair> allPairs;\n",
    "\n",
    "/** Constructs a WordPairList object as described in part (a).\n",
    "\n",
    " Precondition: words.length >= 2\n",
    "\n",
    "*/\n",
    "\n",
    " public WordPairList(String[] words)\n",
    "\n",
    "{ /* to be implemented in part (a) */ }\n",
    "\n",
    "/** Returns the number of matches as described in part (b).\n",
    "\n",
    " */\n",
    "\n",
    "public int numMatches()\n",
    "\n",
    "{ /* to be implemented in part (b) */ }\n",
    "\n",
    "}"
   ]
  },
  {
   "cell_type": "markdown",
   "metadata": {},
   "source": [
    "### (a) Write the constructor for the WordPairList class. The constructor takes an array of strings words as\n",
    "a parameter and initializes the instance variable allPairs to an ArrayList of WordPair objects.\n",
    "A WordPair object consists of a word from the array paired with a word that appears later in the array.\n",
    "The allPairs list contains WordPair objects (words[i], words[j]) for every i and j,\n",
    "where 0 £ i < j < words.length . Each WordPair object is added exactly once to the list.\n",
    "The following examples illustrate two different WordPairList objects."
   ]
  },
  {
   "cell_type": "markdown",
   "metadata": {},
   "source": [
    "![image](https://user-images.githubusercontent.com/111528360/198355048-454b4f6c-b5ad-454e-8fc1-c796b8b26643.png)\n",
    "\n",
    "### Complete the WordPairList constructor below.\n",
    " /** Constructs a WordPairList object as described in part (a).\n",
    "* Precondition: words.length >= 2\n",
    "*/\n",
    " public WordPairList(String[] words) \n",
    "\n"
   ]
  },
  {
   "cell_type": "code",
   "execution_count": 23,
   "metadata": {},
   "outputs": [],
   "source": [
    "public class WordPairList\n",
    "{ \n",
    "  public WordPairList(String[] words)\n",
    "    \n",
    "{\n",
    "  allPairs = new ArrayList<WordPair>();\n",
    "\n",
    "  for(int i = 0; i < words.length; i++)\n",
    "    for(int j = i + 1; j < words.length; j++)\n",
    "      allPairs.add(new WordPair(words[i], words[j]));\n",
    "}\n",
    "\n",
    "}\n"
   ]
  },
  {
   "cell_type": "markdown",
   "metadata": {},
   "source": [
    "### (2b) \n",
    "Write the WordPairList method numMatches. This method returns the number of WordPair\n",
    "objects in allPairs for which the two strings match.\n",
    "For example, the following code segment creates a WordPairList object.\n",
    "\n",
    "String[] moreWords = {\"the\", \"red\", \"fox\", \"the\", \"red\"};\n",
    "\n",
    "WordPairList exampleThree = new WordPairList(moreWords);\n",
    "\n",
    "After the code segment has executed, the allPairs instance variable of exampleThree will contain\n",
    "the following WordPair objects in some order. The pairs in which the first string matches the second\n",
    "string are shaded for illustration.\n",
    "\n",
    "(\"the\", \"red\"), (\"the\", \"fox\"), (\"the\", \"the\"),\n",
    "\n",
    "(\"the\", \"red\"), (\"red\", \"fox\"), (\"red\", \"the\"),\n",
    "\n",
    "(\"red\", \"red\"), (\"fox\", \"the\"), (\"fox\", \"red\"),\n",
    "\n",
    "(\"the\", \"red\")\n",
    "\n",
    " The call exampleThree.numMatches() should return 2. \n",
    "\n",
    " ![image](https://user-images.githubusercontent.com/111528360/198358999-4de58597-0e34-4da6-99c0-d8843030a557.png)"
   ]
  },
  {
   "cell_type": "markdown",
   "metadata": {},
   "source": [
    "### Complete method numMatches below.\n",
    "\n",
    "/** Returns the number of matches as described in part (b).\n",
    "\n",
    " */\n",
    "\n",
    "public int numMatches()"
   ]
  },
  {
   "cell_type": "code",
   "execution_count": 26,
   "metadata": {},
   "outputs": [],
   "source": [
    "public int numMatches()\n",
    "{\n",
    "  int matches = 0;\n",
    "\n",
    "  for(WordPair wp : allPairs)\n",
    "    if(wp.getFirst().equals(wp.getSecond()))\n",
    "      matches++;\n",
    "\n",
    "  return matches;\n",
    "}\n"
   ]
  }
 ],
 "metadata": {
  "kernelspec": {
   "display_name": "Java",
   "language": "java",
   "name": "java"
  },
  "language_info": {
   "codemirror_mode": "java",
   "file_extension": ".jshell",
   "mimetype": "text/x-java-source",
   "name": "java",
   "pygments_lexer": "java",
   "version": "11.0.16+8-post-Ubuntu-0ubuntu120.04"
  },
  "orig_nbformat": 4
 },
 "nbformat": 4,
 "nbformat_minor": 2
}

