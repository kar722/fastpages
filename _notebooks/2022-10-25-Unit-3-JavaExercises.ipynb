{
 "cells": [
  {
   "cell_type": "markdown",
   "metadata": {},
   "source": [
    "# Unit 3 Java-Exercises\n",
    "- categories: [homework]"
   ]
  },
  {
   "cell_type": "markdown",
   "metadata": {},
   "source": [
    "### 1. Write a Java program to get a number from the user and print whether it is positive or negative."
   ]
  },
  {
   "cell_type": "code",
   "execution_count": 50,
   "metadata": {},
   "outputs": [
    {
     "name": "stdout",
     "output_type": "stream",
     "text": [
      "Input number: Number is positive\n"
     ]
    }
   ],
   "source": [
    "import java.util.Scanner;\n",
    "public class Exercise1 {\n",
    "\n",
    "    \n",
    "  public static void main(String[] args)\n",
    "    {\n",
    "        Scanner in = new Scanner(System.in);\n",
    "        System.out.print(\"Input number: \");\n",
    "        int input = in.nextInt();\n",
    "\n",
    "        if (input > 0)\n",
    "        {\n",
    "            System.out.println(\"Number is positive\");\n",
    "        }\n",
    "        else if (input < 0)\n",
    "        {\n",
    "            System.out.println(\"Number is negative\");\n",
    "        }\n",
    "        else\n",
    "        {\n",
    "            System.out.println(\"Number is zero\");\n",
    "        }\n",
    "    }\n",
    "}\n",
    "\n",
    "Exercise1.main(null);\n"
   ]
  },
  {
   "cell_type": "markdown",
   "metadata": {},
   "source": [
    "### 2. Write a Java program to solve quadratic equations (use if, else if and else)."
   ]
  },
  {
   "cell_type": "code",
   "execution_count": 49,
   "metadata": {},
   "outputs": [
    {
     "name": "stdout",
     "output_type": "stream",
     "text": [
      "Input a: Input b: Input c: The equation has no real roots.\n"
     ]
    }
   ],
   "source": [
    "import java.util.Scanner;\n",
    "public class Exercise2 {\n",
    "\n",
    "    \n",
    "  public static void main(String[] Strings) {\n",
    "\n",
    "        Scanner input = new Scanner(System.in);\n",
    "\n",
    "            System.out.print(\"Input a: \");\n",
    "            double a = input.nextDouble();\n",
    "            System.out.print(\"Input b: \");\n",
    "            double b = input.nextDouble();\n",
    "            System.out.print(\"Input c: \");\n",
    "            double c = input.nextDouble();\n",
    "\n",
    "            double result = b * b - 4.0 * a * c;\n",
    "\n",
    "            if (result > 0.0) {\n",
    "                double r1 = (-b + Math.pow(result, 0.5)) / (2.0 * a);\n",
    "                double r2 = (-b - Math.pow(result, 0.5)) / (2.0 * a);\n",
    "                System.out.println(\"The roots are \" + r1 + \" and \" + r2);\n",
    "            } else if (result == 0.0) {\n",
    "                double r1 = -b / (2.0 * a);\n",
    "                System.out.println(\"The root is \" + r1);\n",
    "            } else {\n",
    "                System.out.println(\"The equation has no real roots.\");\n",
    "            }\n",
    "\n",
    "    }\n",
    "}\n",
    "\n",
    "Exercise2.main(null);"
   ]
  },
  {
   "cell_type": "markdown",
   "metadata": {},
   "source": [
    "### 3. Take three numbers from the user and print the greatest number."
   ]
  },
  {
   "cell_type": "code",
   "execution_count": 47,
   "metadata": {},
   "outputs": [
    {
     "name": "stdout",
     "output_type": "stream",
     "text": [
      "Input the 1st number: Input the 2nd number: Input the 3rd number: The greatest: 9\n"
     ]
    }
   ],
   "source": [
    "import java.util.Scanner;\n",
    "public class Exercise3 {\n",
    "\n",
    "    \n",
    "  public static void main(String[] args) {\n",
    "  Scanner in = new Scanner(System.in);\n",
    "   \n",
    "  System.out.print(\"Input the 1st number: \");\n",
    "  int num1 = in.nextInt();\n",
    "   \n",
    "  System.out.print(\"Input the 2nd number: \");\n",
    "  int num2 = in.nextInt();\n",
    "   \n",
    "  System.out.print(\"Input the 3rd number: \");\n",
    "  int num3 = in.nextInt();\n",
    "   \n",
    "   \n",
    "  if (num1 > num2)\n",
    "   if (num1 > num3)\n",
    "    System.out.println(\"The greatest: \" + num1);\n",
    "   \n",
    "  if (num2 > num1)\n",
    "   if (num2 > num3)\n",
    "    System.out.println(\"The greatest: \" + num2);\n",
    "   \n",
    "  if (num3 > num1)\n",
    "   if (num3 > num2)\n",
    "    System.out.println(\"The greatest: \" + num3);\n",
    " }\n",
    "}\n",
    "\n",
    "Exercise3.main(null);"
   ]
  },
  {
   "cell_type": "markdown",
   "metadata": {},
   "source": [
    "### 4.Write a Java program that reads a floating-point number and prints \"zero\" if the number is zero. Otherwise, print \"positive\" or \"negative\". Add \"small\" if the absolute value of the number is less than 1, or \"large\" if it exceeds 1,000,000."
   ]
  },
  {
   "cell_type": "code",
   "execution_count": 46,
   "metadata": {},
   "outputs": [
    {
     "name": "stdout",
     "output_type": "stream",
     "text": [
      "Input value: Positive number\n"
     ]
    }
   ],
   "source": [
    "import java.util.Scanner;\n",
    "public class Exercise4 {\n",
    "\n",
    "    \n",
    "  public static void main(String[] args)\n",
    "    {\n",
    "        Scanner in = new Scanner(System.in);\n",
    "        System.out.print(\"Input value: \");\n",
    "        double input = in.nextDouble();\n",
    "\n",
    "        if (input > 0)\n",
    "        {\n",
    "            if (input < 1)\n",
    "            {\n",
    "                System.out.println(\"Positive small number\");\n",
    "            }\n",
    "            else if (input > 1000000)\n",
    "            {\n",
    "                System.out.println(\"Positive large number\");\n",
    "            }\n",
    "            else\n",
    "            {\n",
    "                System.out.println(\"Positive number\");\n",
    "            }\n",
    "        }\n",
    "        else if (input < 0)\n",
    "        {\n",
    "            if (Math.abs(input) < 1)\n",
    "            {\n",
    "                System.out.println(\"Negative small number\");\n",
    "            }\n",
    "            else if (Math.abs(input) > 1000000)\n",
    "            {\n",
    "                System.out.println(\"Negative large number\");\n",
    "            }\n",
    "            else\n",
    "            {\n",
    "                System.out.println(\"Negative number\");\n",
    "            }\n",
    "        }\n",
    "        else\n",
    "        {\n",
    "            System.out.println(\"Zero\");\n",
    "        }\n",
    "    }\n",
    "}\n",
    "Exercise4.main(null);\n"
   ]
  },
  {
   "cell_type": "markdown",
   "metadata": {},
   "source": [
    "### 5. Write a Java program that keeps a number from the user and generates an integer between 1 and 7 and displays the name of the weekday."
   ]
  },
  {
   "cell_type": "code",
   "execution_count": 44,
   "metadata": {},
   "outputs": [
    {
     "name": "stdout",
     "output_type": "stream",
     "text": [
      "Input number: Wednesday\n"
     ]
    }
   ],
   "source": [
    "import java.util.Scanner;\n",
    "public class Exercise5 {\n",
    "\n",
    "    \n",
    "  public static void main(String[] args)\n",
    "    {\n",
    "        Scanner in = new Scanner(System.in);\n",
    "        System.out.print(\"Input number: \");\n",
    "        int day = in.nextInt();\n",
    "\n",
    "        System.out.println(getDayName(day));\n",
    "    }\n",
    "\n",
    "    // Get the name for the Week\n",
    "    public static String getDayName(int day) {\n",
    "        String dayName = \"\";\n",
    "        switch (day) {\n",
    "            case 1: dayName = \"Monday\"; break;\n",
    "            case 2: dayName = \"Tuesday\"; break;\n",
    "            case 3: dayName = \"Wednesday\"; break;\n",
    "            case 4: dayName = \"Thursday\"; break;\n",
    "            case 5: dayName = \"Friday\"; break;\n",
    "            case 6: dayName = \"Saturday\"; break;\n",
    "            case 7: dayName = \"Sunday\"; break;\n",
    "            default:dayName = \"Invalid day range\";\n",
    "        }\n",
    "\n",
    "        return dayName;\n",
    "    }\n",
    "}\n",
    "\n",
    "Exercise5.main(null);"
   ]
  },
  {
   "cell_type": "markdown",
   "metadata": {},
   "source": [
    "### 6. Write a Java program that reads in two floating-point numbers and tests whether they are the same up to three decimal places."
   ]
  },
  {
   "cell_type": "code",
   "execution_count": 43,
   "metadata": {},
   "outputs": [
    {
     "name": "stdout",
     "output_type": "stream",
     "text": [
      "Input floating-point number: Input floating-point another number: They are different\n"
     ]
    }
   ],
   "source": [
    "import java.util.Scanner;\n",
    "public class Exercise6 {\n",
    "\n",
    "    \n",
    "  public static void main(String[] args)\n",
    "    {\n",
    "        Scanner in = new Scanner(System.in);\n",
    "\n",
    "        System.out.print(\"Input floating-point number: \");\n",
    "        double x = in.nextDouble();\n",
    "        System.out.print(\"Input floating-point another number: \");\n",
    "        double y = in.nextDouble();\n",
    "\n",
    "        x = Math.round(x * 1000);\n",
    "        x = x / 1000;\n",
    "\n",
    "        y = Math.round(y * 1000);\n",
    "        y = y / 1000;\n",
    "\n",
    "        if (x == y)\n",
    "        {\n",
    "            System.out.println(\"They are the same up to three decimal places\");\n",
    "        }\n",
    "        else\n",
    "        {\n",
    "            System.out.println(\"They are different\");\n",
    "        }\n",
    "    }\n",
    "}\n",
    "\n",
    "Exercise6.main(null);"
   ]
  },
  {
   "cell_type": "markdown",
   "metadata": {},
   "source": [
    "### 7. Write a Java program to find the number of days in a month."
   ]
  },
  {
   "cell_type": "code",
   "execution_count": 42,
   "metadata": {},
   "outputs": [
    {
     "name": "stdout",
     "output_type": "stream",
     "text": [
      "Input a month number: Input a year: February 2019 has 28 days\n"
     ]
    }
   ],
   "source": [
    "import java.util.Scanner;\n",
    "public class Exercise7 {\n",
    "\n",
    "    \n",
    "  public static void main(String[] strings) {\n",
    "\n",
    "        Scanner input = new Scanner(System.in);\n",
    "\n",
    "        int number_Of_DaysInMonth = 0; \n",
    "        String MonthOfName = \"Unknown\";\n",
    "\n",
    "        System.out.print(\"Input a month number: \");\n",
    "        int month = input.nextInt();\n",
    "\n",
    "        System.out.print(\"Input a year: \");\n",
    "        int year = input.nextInt();\n",
    "\n",
    "        switch (month) {\n",
    "            case 1:\n",
    "                MonthOfName = \"January\";\n",
    "                number_Of_DaysInMonth = 31;\n",
    "                break;\n",
    "            case 2:\n",
    "                MonthOfName = \"February\";\n",
    "                if ((year % 400 == 0) || ((year % 4 == 0) && (year % 100 != 0))) {\n",
    "                    number_Of_DaysInMonth = 29;\n",
    "                } else {\n",
    "                    number_Of_DaysInMonth = 28;\n",
    "                }\n",
    "                break;\n",
    "            case 3:\n",
    "                MonthOfName = \"March\";\n",
    "                number_Of_DaysInMonth = 31;\n",
    "                break;\n",
    "            case 4:\n",
    "                MonthOfName = \"April\";\n",
    "                number_Of_DaysInMonth = 30;\n",
    "                break;\n",
    "            case 5:\n",
    "                MonthOfName = \"May\";\n",
    "                number_Of_DaysInMonth = 31;\n",
    "                break;\n",
    "            case 6:\n",
    "                MonthOfName = \"June\";\n",
    "                number_Of_DaysInMonth = 30;\n",
    "                break;\n",
    "            case 7:\n",
    "                MonthOfName = \"July\";\n",
    "                number_Of_DaysInMonth = 31;\n",
    "                break;\n",
    "            case 8:\n",
    "                MonthOfName = \"August\";\n",
    "                number_Of_DaysInMonth = 31;\n",
    "                break;\n",
    "            case 9:\n",
    "                MonthOfName = \"September\";\n",
    "                number_Of_DaysInMonth = 30;\n",
    "                break;\n",
    "            case 10:\n",
    "                MonthOfName = \"October\";\n",
    "                number_Of_DaysInMonth = 31;\n",
    "                break;\n",
    "            case 11:\n",
    "                MonthOfName = \"November\";\n",
    "                number_Of_DaysInMonth = 30;\n",
    "                break;\n",
    "            case 12:\n",
    "                MonthOfName = \"December\";\n",
    "                number_Of_DaysInMonth = 31;\n",
    "        }\n",
    "        System.out.print(MonthOfName + \" \" + year + \" has \" + number_Of_DaysInMonth + \" days\\n\");\n",
    "    }\n",
    "}\n",
    "\n",
    "Exercise7.main(null);"
   ]
  },
  {
   "cell_type": "markdown",
   "metadata": {},
   "source": [
    "### 8. Write a Java program that takes the user to provide a single character from the alphabet. Print Vowel or Consonant, depending on the user input. If the user input is not a letter (between a and z or A and Z), or is a string of length > 1, print an error message. "
   ]
  },
  {
   "cell_type": "code",
   "execution_count": 39,
   "metadata": {},
   "outputs": [
    {
     "name": "stdout",
     "output_type": "stream",
     "text": [
      "Input an alphabet: Error. Not a letter. Enter uppercase or lowercase letter.\n"
     ]
    }
   ],
   "source": [
    "import java.util.Scanner;\n",
    "public class Exercise8 {\n",
    "\n",
    "    \n",
    "  public static void main(String[] args)\n",
    "    {\n",
    "        Scanner in = new Scanner(System.in);\n",
    "\n",
    "        System.out.print(\"Input an alphabet: \");\n",
    "        String input = in.next().toLowerCase();\n",
    "\n",
    "        boolean uppercase = input.charAt(0) >= 65 && input.charAt(0) <= 90;\n",
    "        boolean lowercase = input.charAt(0) >= 97 && input.charAt(0) <= 122;\n",
    "        boolean vowels = input.equals(\"a\") || input.equals(\"e\") || input.equals(\"i\")\n",
    "                || input.equals(\"o\") || input.equals(\"u\");\n",
    "\n",
    "        if (input.length() > 1)\n",
    "        {\n",
    "            System.out.println(\"Error. Not a single character.\");\n",
    "        }\n",
    "        else if (!(uppercase || lowercase))\n",
    "        {\n",
    "            System.out.println(\"Error. Not a letter. Enter uppercase or lowercase letter.\");\n",
    "        }\n",
    "        else if (vowels)\n",
    "        {\n",
    "            System.out.println(\"Input letter is Vowel\");\n",
    "        }\n",
    "        else\n",
    "        {\n",
    "            System.out.println(\"Input letter is Consonant\");\n",
    "        }\n",
    "    }\n",
    "}\n",
    "\n",
    "Exercise8.main(null);"
   ]
  },
  {
   "cell_type": "markdown",
   "metadata": {},
   "source": [
    "### 9. Write a Java program that takes a year from user and print whether that year is a leap year or not."
   ]
  },
  {
   "cell_type": "code",
   "execution_count": 38,
   "metadata": {},
   "outputs": [
    {
     "name": "stdout",
     "output_type": "stream",
     "text": [
      "Input the year: 42 is not a leap year\n"
     ]
    }
   ],
   "source": [
    "import java.util.Scanner;\n",
    "public class Exercise9 {\n",
    "\n",
    "    \n",
    "  public static void main(String[] args)\n",
    "    {\n",
    "        Scanner in = new Scanner(System.in);\n",
    "\n",
    "        System.out.print(\"Input the year: \");\n",
    "        int year = in.nextInt();\n",
    "\n",
    "        boolean x = (year % 4) == 0;\n",
    "        boolean y = (year % 100) != 0;\n",
    "        boolean z = ((year % 100 == 0) && (year % 400 == 0));\n",
    "\n",
    "        if (x && (y || z))\n",
    "        {\n",
    "            System.out.println(year + \" is a leap year\");\n",
    "        }\n",
    "        else\n",
    "        {\n",
    "            System.out.println(year + \" is not a leap year\");\n",
    "        }\n",
    "    }\n",
    "}\n",
    "\n",
    "Exercise9.main(null);"
   ]
  },
  {
   "cell_type": "markdown",
   "metadata": {},
   "source": [
    "### 10. Write a program in Java to display the first 10 natural numbers. "
   ]
  },
  {
   "cell_type": "code",
   "execution_count": 37,
   "metadata": {},
   "outputs": [
    {
     "name": "stdout",
     "output_type": "stream",
     "text": [
      "The first 10 natural numbers are:\n",
      "\n",
      "1\n",
      "2\n",
      "3\n",
      "4\n",
      "5\n",
      "6\n",
      "7\n",
      "8\n",
      "9\n",
      "10\n",
      "\n",
      "\n"
     ]
    }
   ],
   "source": [
    "public class Exercise10 {\n",
    "    \n",
    "  public static void main(String[] args)\n",
    "    {     \n",
    "    int i;\n",
    "\tSystem.out.println (\"The first 10 natural numbers are:\\n\");\n",
    "\tfor (i=1;i<=10;i++)\n",
    "\t{      \n",
    "\t\tSystem.out.println (i);\n",
    "\t}\n",
    "System.out.println (\"\\n\");\n",
    "}\n",
    "}\n",
    "\n",
    "Exercise10.main(null);"
   ]
  },
  {
   "cell_type": "markdown",
   "metadata": {},
   "source": [
    "### 11. Write a program in Java to display n terms of natural numbers and their sum."
   ]
  },
  {
   "cell_type": "code",
   "execution_count": 36,
   "metadata": {},
   "outputs": [
    {
     "name": "stdout",
     "output_type": "stream",
     "text": [
      "Input number: The first n natural numbers are : 48\n",
      "1\n",
      "2\n",
      "3\n",
      "4\n",
      "5\n",
      "6\n",
      "7\n",
      "8\n",
      "9\n",
      "10\n",
      "11\n",
      "12\n",
      "13\n",
      "14\n",
      "15\n",
      "16\n",
      "17\n",
      "18\n",
      "19\n",
      "20\n",
      "21\n",
      "22\n",
      "23\n",
      "24\n",
      "25\n",
      "26\n",
      "27\n",
      "28\n",
      "29\n",
      "30\n",
      "31\n",
      "32\n",
      "33\n",
      "34\n",
      "35\n",
      "36\n",
      "37\n",
      "38\n",
      "39\n",
      "40\n",
      "41\n",
      "42\n",
      "43\n",
      "44\n",
      "45\n",
      "46\n",
      "47\n",
      "48\n",
      "The Sum of Natural Number upto 48 terms : 1176\n"
     ]
    }
   ],
   "source": [
    "import java.util.Scanner;\n",
    "public class Exercise11 {\n",
    "\n",
    "    \n",
    "  public static void main(String[] args)\n",
    "\n",
    "{\n",
    "   int i, n, sum=0;\n",
    "   {\n",
    "   Scanner in = new Scanner(System.in);  \n",
    "        System.out.print(\"Input number: \");  \n",
    "         n = in.nextInt();\n",
    "}\n",
    "  System.out.println(\"The first n natural numbers are : \"+n);\n",
    "  \n",
    " for(i=1;i<=n;i++)\n",
    "   {\n",
    "     System.out.println(i);\n",
    "     sum+=i;\n",
    "   }\n",
    "System.out.println(\"The Sum of Natural Number upto \"+n+ \" terms : \" +sum);\n",
    "\n",
    "}\n",
    "}\n",
    "\n",
    "Exercise11.main(null);"
   ]
  },
  {
   "cell_type": "markdown",
   "metadata": {},
   "source": [
    "### 12. Write a program in Java to input 5 numbers from keyboard and find their sum and average"
   ]
  },
  {
   "cell_type": "code",
   "execution_count": 35,
   "metadata": {},
   "outputs": [
    {
     "name": "stdout",
     "output_type": "stream",
     "text": [
      "Input the 5 numbers : \n",
      "The sum of 5 no is : 26\n",
      "The Average is : 5.0\n"
     ]
    }
   ],
   "source": [
    "import java.util.Scanner;\n",
    "public class Exercise12 {\n",
    "\n",
    "    \n",
    "  public static void main(String[] args)\n",
    "\n",
    "{       \n",
    "    int i,n=0,s=0;\n",
    "\tdouble avg;\n",
    "\t{\n",
    "\t   \n",
    "        System.out.println(\"Input the 5 numbers : \");  \n",
    "         \n",
    "\t}\n",
    "\t\tfor (i=0;i<5;i++)\n",
    "\t\t{\n",
    "\t\t    Scanner in = new Scanner(System.in);\n",
    "\t\t    n = in.nextInt();\n",
    "\t\t    \n",
    "  \t\ts +=n;\n",
    "\t}\n",
    "\tavg=s/5;\n",
    "\tSystem.out.println(\"The sum of 5 no is : \" +s+\"\\nThe Average is : \" +avg);\n",
    " \n",
    "}\n",
    "}\n",
    "\n",
    "Exercise12.main(null);"
   ]
  },
  {
   "cell_type": "markdown",
   "metadata": {},
   "source": [
    "### 13. Write a program in Java to display the cube of the number upto given an integer. "
   ]
  },
  {
   "cell_type": "code",
   "execution_count": 34,
   "metadata": {},
   "outputs": [
    {
     "name": "stdout",
     "output_type": "stream",
     "text": [
      "Input number of terms : Number is : 1 and cube of 1 is : 1\n",
      "Number is : 2 and cube of 2 is : 8\n",
      "Number is : 3 and cube of 3 is : 27\n",
      "Number is : 4 and cube of 4 is : 64\n"
     ]
    }
   ],
   "source": [
    "import java.util.Scanner;\n",
    "public class Exercise13 {\n",
    "\n",
    "   public static void main(String[] args)\n",
    "\n",
    "{\n",
    "    int i,n;\n",
    "\n",
    "    System.out.print(\"Input number of terms : \");\n",
    "    Scanner in = new Scanner(System.in);\n",
    "\t\t    n = in.nextInt();\n",
    "\n",
    "     for(i=1;i<=n;i++)\n",
    "     {\n",
    "     System.out.println(\"Number is : \" +i+\" and cube of \" +i+\" is : \"+(i*i*i));     \n",
    "    }\n",
    " }\n",
    "}\n",
    "\n",
    "Exercise13.main(null);\n"
   ]
  },
  {
   "cell_type": "markdown",
   "metadata": {},
   "source": [
    "### 14. Write a program in Java to display the multiplication table of a given integer."
   ]
  },
  {
   "cell_type": "code",
   "execution_count": 33,
   "metadata": {},
   "outputs": [
    {
     "name": "stdout",
     "output_type": "stream",
     "text": [
      "Input the number(Table to be calculated): Input number of terms : \n",
      "\n",
      "5 X 0 = 0\n",
      "5 X 1 = 5\n",
      "5 X 2 = 10\n",
      "5 X 3 = 15\n",
      "5 X 4 = 20\n",
      "5 X 5 = 25\n"
     ]
    }
   ],
   "source": [
    "import java.util.Scanner;\n",
    "public class Exercise14 {\n",
    "\n",
    "   public static void main(String[] args)\n",
    "\n",
    "{\n",
    "   int j,n;\n",
    "\n",
    "   System.out.print(\"Input the number(Table to be calculated): \");\n",
    "{\n",
    "   System.out.print(\"Input number of terms : \");\n",
    "    Scanner in = new Scanner(System.in);\n",
    "\t\t    n = in.nextInt();\n",
    "\n",
    "   System.out.println (\"\\n\");\n",
    "   for(j=0;j<=n;j++)\n",
    "  \n",
    "     System.out.println(n+\" X \"+j+\" = \" +n*j);\n",
    "   }\n",
    "}\n",
    "}\n",
    "\n",
    "Exercise14.main(null);\n"
   ]
  },
  {
   "cell_type": "markdown",
   "metadata": {},
   "source": [
    "### 15. Write a program in Java to display the n terms of odd natural number and their sum."
   ]
  },
  {
   "cell_type": "code",
   "execution_count": 32,
   "metadata": {},
   "outputs": [
    {
     "name": "stdout",
     "output_type": "stream",
     "text": [
      "Input number of terms is: \n",
      "The odd numbers are :\n",
      "1\n",
      "The Sum of odd Natural Number upto 1 terms is: 1\n"
     ]
    }
   ],
   "source": [
    "import java.util.Scanner;\n",
    "public class Exercise15 {\n",
    "\n",
    "   public static void main(String[] args)\n",
    "\n",
    "{\n",
    "   int i,n,sum=0;\n",
    "\n",
    "   System.out.print(\"Input number of terms is: \");\n",
    "{\n",
    "   Scanner in = new Scanner(System.in);\n",
    "\t\t    n = in.nextInt();\n",
    "  System.out.println (\"\\nThe odd numbers are :\");\n",
    "   for(i=1;i<=n;i++)\n",
    "\n",
    "   {\n",
    "     System.out.println (2*i-1);\n",
    "     sum+=2*i-1;\n",
    "   }\n",
    "   System.out.println (\"The Sum of odd Natural Number upto \" +n+\" terms is: \" +sum);\n",
    "\n",
    "}\n",
    "}\n",
    "}\n",
    "\n",
    "Exercise15.main(null);"
   ]
  },
  {
   "cell_type": "markdown",
   "metadata": {},
   "source": [
    "### 16. Write a program in Java to display the pattern like right angle triangle with a number. "
   ]
  },
  {
   "cell_type": "code",
   "execution_count": 31,
   "metadata": {},
   "outputs": [
    {
     "name": "stdout",
     "output_type": "stream",
     "text": [
      "Input number of rows : 1\n",
      "12\n",
      "123\n",
      "1234\n",
      "12345\n",
      "123456\n",
      "1234567\n",
      "12345678\n",
      "123456789\n",
      "12345678910\n",
      "1234567891011\n",
      "123456789101112\n",
      "12345678910111213\n",
      "1234567891011121314\n",
      "123456789101112131415\n",
      "12345678910111213141516\n",
      "1234567891011121314151617\n",
      "123456789101112131415161718\n",
      "12345678910111213141516171819\n"
     ]
    }
   ],
   "source": [
    "import java.util.Scanner;\n",
    "public class Exercise16 {\n",
    "\n",
    "   public static void main(String[] args)\n",
    "\n",
    "{\n",
    "   int i,j,n;\n",
    "   System.out.print(\"Input number of rows : \");\n",
    " Scanner in = new Scanner(System.in);\n",
    "\t\t    n = in.nextInt();\n",
    "\n",
    "   for(i=1;i<=n;i++)\n",
    "   {\n",
    "\tfor(j=1;j<=i;j++)\n",
    "\t  System.out.print(j);\n",
    "\n",
    "    System.out.println(\"\");\n",
    "    }\n",
    "}\n",
    "}\n",
    "\n",
    "Exercise16.main(null);\n"
   ]
  },
  {
   "cell_type": "markdown",
   "metadata": {},
   "source": [
    "### 17. Write a program in Java to make such a pattern like right angle triangle with a number which will repeat a number in a row.The pattern is as follows :"
   ]
  },
  {
   "cell_type": "code",
   "execution_count": 30,
   "metadata": {},
   "outputs": [
    {
     "name": "stdout",
     "output_type": "stream",
     "text": [
      "Input number of n : 1\n",
      "22\n",
      "333\n",
      "4444\n",
      "55555\n",
      "666666\n",
      "7777777\n",
      "88888888\n"
     ]
    }
   ],
   "source": [
    "import java.util.Scanner;\n",
    "public class Exercise17 {\n",
    "\n",
    "  public static void main(String[] args)\n",
    "\n",
    "\t\t\t{\n",
    "   \t          int i,j,n;\n",
    "\n",
    "               System.out.print(\"Input number of n : \");\n",
    "            \tScanner in = new Scanner(System.in);\n",
    "\t\t    n = in.nextInt();\n",
    "  \n",
    "               for(i=1;i<=n;i++)\n",
    "               {\n",
    "\t           for(j=1;j<=i;j++)\n",
    "\t            System.out.print(i);\n",
    "\t          System.out.println(\"\");\n",
    "              }\n",
    "            }\n",
    "            } \n",
    "\t\t\tExercise17.main(null);"
   ]
  },
  {
   "cell_type": "markdown",
   "metadata": {},
   "source": [
    "### 18. Write a program in Java to make such a pattern like right angle triangle with number increased by 1.The pattern like :"
   ]
  },
  {
   "cell_type": "code",
   "execution_count": 29,
   "metadata": {},
   "outputs": [
    {
     "name": "stdout",
     "output_type": "stream",
     "text": [
      "Input number of rows : 1\n",
      "23\n",
      "456\n"
     ]
    }
   ],
   "source": [
    "import java.util.Scanner;\n",
    "public class Exercise18 {\n",
    "\n",
    "  public static void main(String[] args)\n",
    "\n",
    "{\n",
    "   \t\tint i,j,n,k=1;\n",
    "\n",
    "   \t\tSystem.out.print(\"Input number of rows : \");\n",
    "\n",
    "   \t\tScanner in = new Scanner(System.in);\n",
    "\t\t    n = in.nextInt();\n",
    "\n",
    "   \t\tfor(i=1;i<=n;i++)\n",
    "   \t\t{\n",
    "\t\tfor(j=1;j<=i;j++)\n",
    "\t   \tSystem.out.print(k++);\n",
    "\t   \tSystem.out.println(\"\");\n",
    "\t   \t}  \t\t\n",
    "\t}\n",
    "\t}\n",
    "\tExercise18.main(null);"
   ]
  },
  {
   "cell_type": "markdown",
   "metadata": {},
   "source": [
    "### 19. Write a program in Java to make such a pattern like a pyramid with a number which will repeat the number in the same row."
   ]
  },
  {
   "cell_type": "code",
   "execution_count": 28,
   "metadata": {},
   "outputs": [
    {
     "name": "stdout",
     "output_type": "stream",
     "text": [
      "Input number of rows :        1 \n",
      "      2 2 \n",
      "     3 3 3 \n",
      "    4 4 4 4 \n"
     ]
    }
   ],
   "source": [
    "import java.util.Scanner;\n",
    "public class Exercise19 {\n",
    "\n",
    "  public static void main(String[] args)\n",
    "{\n",
    "   int i,j,n,s,x;\n",
    "   System.out.print (\"Input number of rows : \");\n",
    "   Scanner in = new Scanner(System.in);\n",
    "\t\t    n = in.nextInt();\n",
    "\n",
    "   s=n+4-1;\n",
    "    for(i=1;i<=n;i++)\n",
    "   {\n",
    "   for(x=s;x!=0;x--)\n",
    "    {\n",
    "   System.out.print(\" \");\n",
    "    }\n",
    "    for(j=1;j<=i;j++)\n",
    "    {\n",
    "     System.out.print(i+\" \");\n",
    "     }\n",
    "\tSystem.out.println();\n",
    "    s--;\n",
    "   }\n",
    "}\n",
    "}\n",
    "Exercise19.main(null);"
   ]
  },
  {
   "cell_type": "markdown",
   "metadata": {},
   "source": [
    "### 20. Write a program in Java to print the Floyd's Triangle."
   ]
  },
  {
   "cell_type": "code",
   "execution_count": 27,
   "metadata": {},
   "outputs": [
    {
     "name": "stdout",
     "output_type": "stream",
     "text": [
      "Input number of rows : 1 \n",
      "2 3 \n",
      "4 5 6 \n",
      "7 8 9 10 \n",
      "11 12 13 14 15 \n",
      "16 17 18 19 20 21 \n",
      "22 23 24 25 26 27 28 \n",
      "29 30 31 32 33 34 35 36 \n",
      "37 38 39 40 41 42 43 44 45 \n",
      "46 47 48 49 50 51 52 53 54 55 \n"
     ]
    }
   ],
   "source": [
    "import java.util.Scanner;\n",
    "public class Main {\n",
    "public static void main(String[] args)\n",
    " {\n",
    "   int numberOfRows;\n",
    "   System.out.print(\"Input number of rows : \");\n",
    "   Scanner in = new Scanner(System.in);\n",
    "\t\t    numberOfRows = in.nextInt();\n",
    "   int number = 1;\n",
    "   for (int row = 1; row <= numberOfRows; row++)\n",
    "    {\n",
    "   for (int column = 1; column <= row; column++)\n",
    "     {\n",
    "       System.out.print(number + \" \");\n",
    "       number++;\n",
    "     }\n",
    "     System.out.println();\n",
    "    }\n",
    "  }\n",
    "}\n",
    "Main.main(null);\n"
   ]
  }
 ],
 "metadata": {
  "kernelspec": {
   "display_name": "Java",
   "language": "java",
   "name": "java"
  },
  "language_info": {
   "codemirror_mode": "java",
   "file_extension": ".jshell",
   "mimetype": "text/x-java-source",
   "name": "java",
   "pygments_lexer": "java",
   "version": "11.0.16+8-post-Ubuntu-0ubuntu120.04"
  },
  "orig_nbformat": 4
 },
 "nbformat": 4,
 "nbformat_minor": 2
}
