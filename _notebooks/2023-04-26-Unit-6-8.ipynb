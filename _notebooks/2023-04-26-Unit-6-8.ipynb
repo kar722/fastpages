{
 "cells": [
  {
   "attachments": {},
   "cell_type": "markdown",
   "metadata": {},
   "source": [
    "# Unit 6-8 Hacks HW\n",
    "> Hacks for 6-8\n",
    "\n",
    "- toc: true \n",
    "- badges: true\n",
    "- comments: true\n",
    "- categories: [jupyter]\n",
    "- image: images/chart-preview.png"
   ]
  },
  {
   "attachments": {},
   "cell_type": "markdown",
   "metadata": {},
   "source": [
    "### Hack 1"
   ]
  },
  {
   "cell_type": "code",
   "execution_count": 1,
   "metadata": {
    "vscode": {
     "languageId": "java"
    }
   },
   "outputs": [
    {
     "name": "stdout",
     "output_type": "stream",
     "text": [
      "ArrayList : [true, false, false, true, true, false, false, true, true, false]\n"
     ]
    }
   ],
   "source": [
    "import java.util.ArrayList;\n",
    "public class Turtles {\n",
    "    public static void main(String args[])\n",
    "    {\n",
    "        ArrayList<Boolean> booleanList = new ArrayList<Boolean>();\n",
    "        ArrayList<Turtles> turtles = new ArrayList<Turtles>();\n",
    "        // Add boolean values to the list\n",
    "        booleanList.add(true);\n",
    "        booleanList.add(false);\n",
    "        booleanList.add(false);\n",
    "        booleanList.add(true);\n",
    "        booleanList.add(true);\n",
    "        booleanList.add(false);\n",
    "        booleanList.add(false);\n",
    "        booleanList.add(true);\n",
    "        booleanList.add(true);\n",
    "        booleanList.add(false);\n",
    "        Turtles t1 = new Turtles();\n",
    "        Turtles t2 = new Turtles();\n",
    "        turtles.add(t1);\n",
    "        turtles.add(t2);\n",
    "        // print ArrayList\n",
    "        System.out.println(\"ArrayList : \" + booleanList);\n",
    "    }\n",
    "}\n",
    "Turtles.main(null)"
   ]
  },
  {
   "attachments": {},
   "cell_type": "markdown",
   "metadata": {},
   "source": [
    "### Hack 2"
   ]
  },
  {
   "cell_type": "code",
   "execution_count": 2,
   "metadata": {
    "vscode": {
     "languageId": "java"
    }
   },
   "outputs": [
    {
     "name": "stdout",
     "output_type": "stream",
     "text": [
      "[1, 4, 7, 12, 22][1, 4, 7, 12, 22][1, 4, 7, 12, 22]ArrayList: [1, 4, 7, 12, 23]\n",
      "1\n"
     ]
    }
   ],
   "source": [
    "import java.util.ArrayList;\n",
    "public class Hack2 {\n",
    "    public static void main(Integer[] args) {\n",
    "        ArrayList<Integer> randomNumbers = new ArrayList<Integer>();\n",
    "        randomNumbers.add(1);\n",
    "        randomNumbers.add(4);\n",
    "        randomNumbers.add(7);\n",
    "        randomNumbers.add(12);\n",
    "        randomNumbers.add(23);\n",
    "        int[] ArrayList = {1,4,7,12,22};\n",
    "    for (int i = 0; i < ArrayList.length; i++) {\n",
    "        System.out.print(Arrays.toString(ArrayList));\n",
    "        i += 1;\n",
    "    }\n",
    "        System.out.println(\"ArrayList: \" + randomNumbers);\n",
    "        System.out.println(ArrayList[0]);\n",
    "    }\n",
    "}\n",
    "Hack2.main(null);"
   ]
  },
  {
   "attachments": {},
   "cell_type": "markdown",
   "metadata": {},
   "source": [
    "### Hack 3"
   ]
  },
  {
   "cell_type": "code",
   "execution_count": 3,
   "metadata": {
    "vscode": {
     "languageId": "java"
    }
   },
   "outputs": [
    {
     "name": "stdout",
     "output_type": "stream",
     "text": [
      "ArrayList: [1, 4, 7, 12, 23]\n",
      "The total sum is: 47\n"
     ]
    }
   ],
   "source": [
    "import java.util.ArrayList;\n",
    "public class Hack3 {\n",
    "    public static void main(String[] args) {\n",
    "        ArrayList<Integer> values = new ArrayList<Integer>();\n",
    "        values.add(1);\n",
    "        values.add(4);\n",
    "        values.add(7);\n",
    "        values.add(12);\n",
    "        values.add(23);\n",
    "        System.out.println(\"ArrayList: \" + values);\n",
    "        int total = 0;\n",
    "        for (int i = 0; i < values.size(); i++) {\n",
    "            total += values.get(i);\n",
    "        }\n",
    "        System.out.println(\"The total sum is: \" + total);\n",
    "    }\n",
    "}\n",
    "Hack3.main(null)"
   ]
  },
  {
   "attachments": {},
   "cell_type": "markdown",
   "metadata": {},
   "source": [
    "### Hack 4"
   ]
  },
  {
   "cell_type": "code",
   "execution_count": 4,
   "metadata": {
    "vscode": {
     "languageId": "java"
    }
   },
   "outputs": [
    {
     "name": "stdout",
     "output_type": "stream",
     "text": [
      "1 2 3 4 6 7 "
     ]
    }
   ],
   "source": [
    "import java.util.ArrayList;\n",
    "public class Hack4 {\n",
    "    public static void main(String[] args) {\n",
    "        int[] arr = {4, 2, 7, 1, 3, 6};\n",
    "        for (int i = 0; i < arr.length; i++) {\n",
    "            // nested loop 1 index ahead\n",
    "            for (int j = i + 1; j < arr.length; j++) {\n",
    "                // comparing elements\n",
    "                if (arr[j] < arr[i]) {\n",
    "                    // swap code\n",
    "                    int temp = arr[i];\n",
    "                    arr[i] = arr[j];\n",
    "                    arr[j] = temp;\n",
    "                }\n",
    "            }\n",
    "            // Printing sorted array\n",
    "            System.out.print(arr[i] + \" \");\n",
    "        }\n",
    "    }\n",
    "}\n",
    "Hack4.main(null)"
   ]
  },
  {
   "attachments": {},
   "cell_type": "markdown",
   "metadata": {},
   "source": [
    "### Hack 5"
   ]
  },
  {
   "cell_type": "code",
   "execution_count": 5,
   "metadata": {
    "vscode": {
     "languageId": "java"
    }
   },
   "outputs": [
    {
     "name": "stdout",
     "output_type": "stream",
     "text": [
      "1 3 5 7 9 \n",
      "2 4 6 8 10 "
     ]
    }
   ],
   "source": [
    "public class Hack5 {\n",
    "    public static void main(String[] args) {\n",
    "        int[] arr = {1, 2, 3, 4, 5, 6, 7, 8, 9, 10};\n",
    "        // print even indexes\n",
    "        for (int i = 0; i < arr.length; i += 2) {\n",
    "            System.out.print(arr[i] + \" \");\n",
    "        }\n",
    "        System.out.println();\n",
    "        // print odd indexes\n",
    "        for (int i = 1; i < arr.length; i += 2) {\n",
    "            System.out.print(arr[i] + \" \");\n",
    "        }\n",
    "    }\n",
    "}\n",
    "Hack5.main(null)"
   ]
  },
  {
   "attachments": {},
   "cell_type": "markdown",
   "metadata": {},
   "source": [
    "### Hack 6"
   ]
  },
  {
   "cell_type": "code",
   "execution_count": 6,
   "metadata": {
    "vscode": {
     "languageId": "java"
    }
   },
   "outputs": [
    {
     "name": "stdout",
     "output_type": "stream",
     "text": [
      "1 2 3 \n",
      "4 5 6 \n",
      "7 8 9 \n"
     ]
    }
   ],
   "source": [
    "public class Hack6 {\n",
    "    public static void main(String[] args) {\n",
    "        // Creating a 2D array of integers\n",
    "        int[][] arr = {{1, 2, 3}, {4, 5, 6}, {7, 8, 9}};\n",
    "        // Iterating through the 2D array to print its elements\n",
    "        for (int i = 0; i < arr.length; i++) {\n",
    "            for (int j = 0; j < arr[i].length; j++) {\n",
    "                System.out.print(arr[i][j] + \" \");\n",
    "            }\n",
    "            System.out.println();\n",
    "        }\n",
    "    }\n",
    "}\n",
    "Hack6.main(null);"
   ]
  },
  {
   "attachments": {},
   "cell_type": "markdown",
   "metadata": {},
   "source": [
    "### Hack 7"
   ]
  },
  {
   "cell_type": "code",
   "execution_count": 7,
   "metadata": {
    "vscode": {
     "languageId": "java"
    }
   },
   "outputs": [
    {
     "name": "stdout",
     "output_type": "stream",
     "text": [
      "Sum of diagonal elements: 5\n"
     ]
    }
   ],
   "source": [
    "public class Test1 {\n",
    "    public static void main(String[] args) {\n",
    "        int[][] array = { {1,2,3},{-1,-2,-3},{4,5,6} };\n",
    "        int sum = 0;\n",
    "        for (int i = 0; i < array.length; i++) {\n",
    "            for (int j = 0; j < array[i].length; j++) {\n",
    "                if (i == j) {\n",
    "                    sum += array[i][j];\n",
    "                }\n",
    "            }\n",
    "        }\n",
    "        System.out.println(\"Sum of diagonal elements: \" + sum);\n",
    "    }\n",
    "}\n",
    "Test1.main(null)"
   ]
  },
  {
   "attachments": {},
   "cell_type": "markdown",
   "metadata": {},
   "source": [
    "### Hack 8"
   ]
  },
  {
   "cell_type": "code",
   "execution_count": 8,
   "metadata": {
    "vscode": {
     "languageId": "java"
    }
   },
   "outputs": [
    {
     "name": "stdout",
     "output_type": "stream",
     "text": [
      "true\n",
      "true\n",
      "false\n"
     ]
    }
   ],
   "source": [
    "public class Test2 {\n",
    "  public static void main(String[] args) {\n",
    "    int[] nums1 = {2, 2};\n",
    "    System.out.println(double23(nums1)); // true\n",
    "    int[] nums2 = {3, 3};\n",
    "    System.out.println(double23(nums2)); // true\n",
    "    int[] nums3 = {2, 3};\n",
    "    System.out.println(double23(nums3)); // false\n",
    "  }\n",
    "  public static boolean double23(int[] nums) {\n",
    "    int count2 = 0, count3 = 0;\n",
    "    for(int i=0; i<nums.length; i++){\n",
    "      if(nums[i] == 2) count2++;\n",
    "      if(nums[i] == 3) count3++;\n",
    "    }\n",
    "    if(count2 == 2 || count3 == 2) return true;\n",
    "    else return false;\n",
    "  }\n",
    "}\n",
    "Test2.main(null)"
   ]
  },
  {
   "attachments": {},
   "cell_type": "markdown",
   "metadata": {},
   "source": [
    "### Hack 9"
   ]
  },
  {
   "cell_type": "code",
   "execution_count": 9,
   "metadata": {
    "vscode": {
     "languageId": "java"
    }
   },
   "outputs": [
    {
     "name": "stdout",
     "output_type": "stream",
     "text": [
      "Number of 5s in the array: 3\n"
     ]
    }
   ],
   "source": [
    "public class ArrayCounter {\n",
    "    private int[][] array;\n",
    "    public ArrayCounter(int[][] array) {\n",
    "        this.array = array;\n",
    "    }\n",
    "    public int count(int n) {\n",
    "        int count = 0;\n",
    "        for (int[] row : array) {\n",
    "            for (int value : row) {\n",
    "                if (value == n) {\n",
    "                    count++;\n",
    "                }\n",
    "            }\n",
    "        }\n",
    "        return count;\n",
    "    }\n",
    "}\n",
    "int[][] x = { {1, 5, 3}, {4, 5, 6}, {5, 4, 2} };\n",
    "ArrayCounter counter = new ArrayCounter(x);\n",
    "int count = counter.count(5);\n",
    "System.out.println(\"Number of 5s in the array: \" + count);"
   ]
  }
 ],
 "metadata": {
  "kernelspec": {
   "display_name": "Java",
   "language": "java",
   "name": "java"
  },
  "language_info": {
   "codemirror_mode": "java",
   "file_extension": ".jshell",
   "mimetype": "text/x-java-source",
   "name": "Java",
   "pygments_lexer": "java",
   "version": "11.0.16+8-post-Ubuntu-0ubuntu120.04"
  },
  "orig_nbformat": 4
 },
 "nbformat": 4,
 "nbformat_minor": 2
}
