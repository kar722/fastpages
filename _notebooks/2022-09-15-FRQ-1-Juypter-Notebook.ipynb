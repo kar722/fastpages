{
 "cells": [
  {
   "cell_type": "markdown",
   "metadata": {},
   "source": [
    "# 2007 AP CSA Free Response Question #1"
   ]
  },
  {
   "cell_type": "markdown",
   "metadata": {},
   "source": [
    "Source: https://secure-media.collegeboard.org/apc/ap07_comp_sci_a_frq.pdf"
   ]
  },
  {
   "cell_type": "markdown",
   "metadata": {},
   "source": [
    "##### 1. A positive integer is called a \"self-divisor\" if every decimal digit of the number is a divisor of the number, that is, the number is evenly divisible by each and every one of its digits. For example, the number 128 is a selfdivisor because it is evenly divisible by 1, 2, and 8. However, 26 is not a self-divisor because it is not evenly divisible by the digit 6. Note that 0 is not considered to be a divisor of any number, so any number containing a 0 digit is NOT a self-divisor. There are infinitely many self-divisors. "
   ]
  },
  {
   "cell_type": "markdown",
   "metadata": {},
   "source": [
    "##### (a) Write method isSelfDivisor, which takes a positive integer as its parameter. This method returns true if the number is a self-divisor; otherwise, it returns false.\n",
    " Complete method isSelfDivisor below"
   ]
  },
  {
   "cell_type": "code",
   "execution_count": 15,
   "metadata": {},
   "outputs": [
    {
     "name": "stdout",
     "output_type": "stream",
     "text": [
      "128: true\n",
      "26: false\n"
     ]
    }
   ],
   "source": [
    "/** @param number the number to be tested\n",
    " * Precondition: number 0 >\n",
    " * @return true if every decimal digit of number is a divisor of number;\n",
    " * false otherwise\n",
    " */\n",
    "public static boolean isSelfDivisor(int number) {\n",
    "    int copyNumber = number; // define int copy of number so original number is not altered\n",
    "    while (number > 0) { // number has to be greater than 0\n",
    "      int lastDigit = number % 10; // to retract the last digit of the number ex: 135/10 = 130 R 5 --> 135 % 10 is 5 --> 5 is also the last digit\n",
    "      if (lastDigit == 0 || copyNumber % lastDigit != 0) { // if last digit is equal to 0 then the number is not a self divisor as any number/0 is undefined\n",
    "        // OR if the remainder of the number divided by its last digit does NOT give you 0 then the number is not a self divisor\n",
    "        return false;\n",
    "      }\n",
    "      number /= 10; // divide number by 10 and make number the result same as number = number/10\n",
    "      // iterate through the loop until the all digits in the number are checked to be divisible with the number\n",
    "    }\n",
    "    return true;\n",
    "}\n",
    "\n",
    "// Tester\n",
    "System.out.println(\"128: \" + isSelfDivisor(128));\n",
    "System.out.println(\"26: \" + isSelfDivisor(26));"
   ]
  },
  {
   "cell_type": "markdown",
   "metadata": {},
   "source": [
    "##### (b) Write method firstNumSelfDivisors, which takes two positive integers as parameters, representing a start value and a number of values. Method firstNumSelfDivisors returns an array of size num that contains the first num self-divisors that are greater than or equal to start.\n",
    " For example, the call firstNumSelfDivisors(10, 3) should return an array containing the values\n",
    "11, 12, and 15, because the first three self-divisors that are greater than or equal to 10 are 11, 12, and 15.\n",
    "In writing firstNumSelfDivisors, assume that isSelfDivisor works as specified, regardless\n",
    "of what you wrote in part (a).\n",
    "\n",
    " Complete method firstNumSelfDivisors below."
   ]
  },
  {
   "cell_type": "code",
   "execution_count": 7,
   "metadata": {},
   "outputs": [
    {
     "name": "stdout",
     "output_type": "stream",
     "text": [
      "Self Divisors from 10 - 3: \n",
      "11, 12, 15, "
     ]
    }
   ],
   "source": [
    "public static boolean isSelfDivisor(int number) {\n",
    "    int copyNumber = number; // define int copy of number so original number is not altered\n",
    "    while (number > 0) { // number has to be greater than 0\n",
    "        int lastDigit = number % 10; // to retract the last digit of the number ex: 135/10 = 130 R 5 --> 135 % 10 is 5 --> 5 is also the last digit\n",
    "        if (lastDigit == 0 || copyNumber % lastDigit != 0) { // if last digit is equal to 0 then the number is not a self divisor as any number/0 is undefined\n",
    "        // OR if the remainder of the number divided by its last digit does NOT give you 0 then the number is not a self divisor\n",
    "        return false;\n",
    "        }\n",
    "        number /= 10; // divide number by 10 and make number the result same as number = number/10\n",
    "        // iterate through the loop until the all digits in the number are checked to be divisible with the number\n",
    "    }\n",
    "    return true;\n",
    "}\n",
    "\n",
    "/**\n",
    "   * @param start starting point for values to be checked\n",
    "   *              Precondition: start > 0\n",
    "   * @param num   the size of the array to be returned\n",
    "   *              Precondition: num 0 >\n",
    "   * @return an array containing the first num integers ≥ start that are\n",
    "   *         self-divisors\n",
    "   */\n",
    "  public static int[] firstNumSelfDivisors(int start, int num) {\n",
    "    int[] selfs = new int[num]; // make an array of integers, num is the amount of numbers we want inside of it\n",
    "    int index = 0; // start index at 0\n",
    "    while (index < num) { // as long as the index is less than the last number\n",
    "      if (isSelfDivisor(start)) { // iterate through the numbers starting with the first number, 'start' to check if they are self divisors\n",
    "        selfs[index] = start; // if isSelfDivisor returns true --> add number to the empty array\n",
    "        index++; // go onto the next index\n",
    "      }\n",
    "      start++; // go onto the next value\n",
    "    }\n",
    "    return selfs; // return array\n",
    "  }\n",
    "\n",
    "// Tester\n",
    "System.out.println(\"Self Divisors from 10 - 3: \");\n",
    "for (int n : firstNumSelfDivisors(10, 3))\n",
    "{\n",
    "  System.out.print(n + \", \");\n",
    "}"
   ]
  },
  {
   "cell_type": "markdown",
   "metadata": {},
   "source": [
    "## Full 2007 Q1 Code"
   ]
  },
  {
   "cell_type": "code",
   "execution_count": 6,
   "metadata": {},
   "outputs": [
    {
     "name": "stdout",
     "output_type": "stream",
     "text": [
      "128 true\n",
      "26: false\n",
      "Self Divisors from 10 - 3: \n",
      "11, 12, 15, "
     ]
    }
   ],
   "source": [
    "public class Main {\n",
    "\n",
    "  /*** Part A ***/\n",
    "\n",
    "  /**\n",
    "   * @param number the number to be tested\n",
    "   *               Precondition: number > 0\n",
    "   * @return true if every decimal digit of number is a divisor of number;\n",
    "   *         false otherwise\n",
    "   */\n",
    "  public static boolean isSelfDivisor(int number) {\n",
    "    int copyNumber = number; // define int copy of number so original number is not altered\n",
    "    while (number > 0) { // number has to be greater than 0\n",
    "      int lastDigit = number % 10; // to retract the last digit of the number ex: 135/10 = 130 R 5 --> 135 % 10 is 5 --> 5 is also the last digit\n",
    "      if (lastDigit == 0 || copyNumber % lastDigit != 0) { // if last digit is equal to 0 then the number is not a self divisor as any number/0 is undefined\n",
    "        // OR if the remainder of the number divided by its last digit does NOT give you 0 then the number is not a self divisor\n",
    "        return false;\n",
    "      }\n",
    "      number /= 10; // divide number by 10 and make number the result same as number = number/10\n",
    "      // iterate through the loop until the all digits in the number are checked to be divisible with the number\n",
    "    }\n",
    "    return true;\n",
    "  }\n",
    "\n",
    "  /*** Part B ***/\n",
    "  \n",
    "  /**\n",
    "   * @param start starting point for values to be checked\n",
    "   *              Precondition: start > 0\n",
    "   * @param num   the size of the array to be returned\n",
    "   *              Precondition: num 0 >\n",
    "   * @return an array containing the first num integers ≥ start that are\n",
    "   *         self-divisors\n",
    "   */\n",
    "  public static int[] firstNumSelfDivisors(int start, int num) {\n",
    "    int[] selfs = new int[num]; // make an array of integers, num is the amount of numbers we want inside of it\n",
    "    int index = 0; // start index at 0\n",
    "    while (index < num) { // as long as the index is less than the last number\n",
    "      if (isSelfDivisor(start)) { // iterate through the numbers starting with the first number, 'start' to check if they are self divisors\n",
    "        selfs[index] = start; // if isSelfDivisor returns true --> add number to the empty array\n",
    "        index++; // go onto the next index\n",
    "      }\n",
    "      start++; // go onto the next value\n",
    "    }\n",
    "    return selfs; // return array\n",
    "  }\n",
    "\n",
    "  // Test example values from the question\n",
    "  public static void main(String[] args) {\n",
    "    System.out.println(\"128 \" + isSelfDivisor(128));\n",
    "    System.out.println(\"26: \" + isSelfDivisor(26));\n",
    "  \n",
    "    // print the array\n",
    "    System.out.println(\"Self Divisors from 10 - 3: \");\n",
    "    for (int n : firstNumSelfDivisors(10, 3))\n",
    "    {\n",
    "      System.out.print(n + \", \");\n",
    "    }\n",
    "  }\n",
    "}\n",
    "Main.main(null)"
   ]
  },
  {
   "cell_type": "markdown",
   "metadata": {},
   "source": [
    "### Resources\n",
    "- https://www.tutorialspoint.com/java/java_basic_operators.htm\n",
    "- https://www.edureka.co/community/2687/how-can-i-separate-the-digits-of-an-int-number-in-java\n",
    "- https://www.w3schools.com/java/java_arrays.asp\n",
    "- https://www.programiz.com/article/increment-decrement-operator-difference-prefix-postfix\n",
    "- https://www.programiz.com/java-programming/examples/print-array"
   ]
  },
  {
   "cell_type": "markdown",
   "metadata": {},
   "source": []
  }
 ],
 "metadata": {
  "kernelspec": {
   "display_name": "Java",
   "language": "java",
   "name": "java"
  },
  "language_info": {
   "codemirror_mode": "java",
   "file_extension": ".jshell",
   "mimetype": "text/x-java-source",
   "name": "java",
   "pygments_lexer": "java",
   "version": "11.0.16+8-post-Ubuntu-0ubuntu120.04"
  },
  "orig_nbformat": 4
 },
 "nbformat": 4,
 "nbformat_minor": 2
}
