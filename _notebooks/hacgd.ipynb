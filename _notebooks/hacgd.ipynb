{
 "cells": [
  {
   "attachments": {},
   "cell_type": "markdown",
   "metadata": {},
   "source": [
    "## Methods and Control Structures Q5"
   ]
  },
  {
   "cell_type": "code",
   "execution_count": 11,
   "metadata": {
    "vscode": {
     "languageId": "java"
    }
   },
   "outputs": [
    {
     "name": "stdout",
     "output_type": "stream",
     "text": [
      "EDCBA\n",
      "taco cat is a palindrome\n",
      "laid on no dial is a palindrome\n",
      "level up is not a palindrome\n"
     ]
    }
   ],
   "source": [
    "public class StringManip\n",
    "\n",
    "{\n",
    "\n",
    "/** Takes a string str and returns a new string\n",
    "\n",
    "* with all spaces removed.\n",
    "\n",
    "*/\n",
    "\n",
    "    public static String removeSpaces(String str)\n",
    "    { \n",
    "        String result = str.trim().replaceAll(\"\\\\s+\", \"\");\n",
    "        return result;\n",
    "    }\n",
    "\n",
    "/** Takes a string str and returns a new string\n",
    "\n",
    "* with the characters reversed.\n",
    "\n",
    "*/\n",
    "\n",
    "    public static String reverseString(String str)\n",
    "    {\n",
    "        String result = \"\";\n",
    "\n",
    "        for (int i = str.length() - 1; i >= 0 ; i--){\n",
    "            result += str.charAt(i);\n",
    "        }\n",
    "        \n",
    "        return result;\n",
    "\n",
    "    }\n",
    "\n",
    "/** Determines whether str is a palindrome and prints a message\n",
    "\n",
    "* indicating the result, as described in part (b).\n",
    "\n",
    "* Precondition: str contains only lowercase letters and spaces.\n",
    "\n",
    "*/\n",
    "\n",
    "    public static void palindromeChecker(String str){\n",
    "        if (removeSpaces(str).equals(reverseString(removeSpaces(str)))){\n",
    "            System.out.println(str + \" is a palindrome\");\n",
    "        } else{\n",
    "        System.out.println(str + \" is not a palindrome\");\n",
    "        }\n",
    "    }\n",
    "\n",
    "    public static void main(String[] args) {\n",
    "        // Tester for part a\n",
    "        System.out.println(reverseString(\"ABCDE\"));\n",
    "        // Tester for part b\n",
    "        palindromeChecker(\"taco cat\");\n",
    "        palindromeChecker(\"laid on no dial\");\n",
    "        palindromeChecker(\"level up\");\n",
    "    }\n",
    "}\n",
    "StringManip.main(null);"
   ]
  },
  {
   "attachments": {},
   "cell_type": "markdown",
   "metadata": {},
   "source": [
    "## Classes Q2"
   ]
  },
  {
   "cell_type": "code",
   "execution_count": 13,
   "metadata": {
    "vscode": {
     "languageId": "java"
    }
   },
   "outputs": [
    {
     "name": "stdout",
     "output_type": "stream",
     "text": [
      "1\n",
      "2\n",
      "3\n",
      "2\n",
      "2\n",
      "2\n",
      "2\n",
      "1\n"
     ]
    }
   ],
   "source": [
    "// Classes Question 2\n",
    "public class Bus {\n",
    "    private int stops = 1;\n",
    "    private int currentStop = 1;\n",
    "    public Bus(int stops){\n",
    "        this.stops = stops;\n",
    "        this.currentStop = currentStop;\n",
    "    }\n",
    "\n",
    "    public void move(){\n",
    "        if (currentStop < stops) {\n",
    "            currentStop++;\n",
    "        }\n",
    "        else {\n",
    "            --currentStop;\n",
    "        }\n",
    "    }\n",
    "\n",
    "    public int getCurrentStop(){\n",
    "        return currentStop;\n",
    "    }\n",
    "\n",
    "    public void setStops(int stops){\n",
    "        this.stops = stops;\n",
    "    }\n",
    "    public static void main(String[] args) {\n",
    "        Bus bus1 = new Bus(3);\n",
    "        System.out.println(bus1.getCurrentStop());\n",
    "        bus1.move();\n",
    "        System.out.println(bus1.getCurrentStop());\n",
    "        bus1.move();\n",
    "        System.out.println(bus1.getCurrentStop());\n",
    "        bus1.move();\n",
    "        System.out.println(bus1.getCurrentStop()); \n",
    "        bus1.move();\n",
    "        bus1.move(); \n",
    "        System.out.println(bus1.getCurrentStop());\n",
    "        System.out.println(bus1.getCurrentStop());\n",
    "        Bus bus2 = new Bus(5);\n",
    "        System.out.println(bus1.getCurrentStop());\n",
    "        System.out.println(bus2.getCurrentStop());\n",
    "    }\n",
    "}\n",
    "Bus.main(null);"
   ]
  },
  {
   "attachments": {},
   "cell_type": "markdown",
   "metadata": {},
   "source": [
    "## Array/ArrayLists Q2"
   ]
  },
  {
   "cell_type": "code",
   "execution_count": 14,
   "metadata": {
    "vscode": {
     "languageId": "java"
    }
   },
   "outputs": [],
   "source": [
    "public class CarRepair{\n",
    "\n",
    "    private int mechanicNum;\n",
    "    private int bayNum;\n",
    "\n",
    "    public CarRepair(int m, int b){\n",
    "        mechanicNum = m;\n",
    "        bayNum = b;\n",
    "    }\n",
    "    \n",
    "\n",
    "    public int getMechanicNum(){\n",
    "        return mechanicNum;\n",
    "    }\n",
    "\n",
    "    public int getBayNum(){\n",
    "        return bayNum;\n",
    "    }\n",
    "\n",
    "// There may be other instance variables, constructors, and methods not shown.\n",
    "}"
   ]
  },
  {
   "cell_type": "code",
   "execution_count": 12,
   "metadata": {
    "vscode": {
     "languageId": "java"
    }
   },
   "outputs": [
    {
     "ename": "CompilationException",
     "evalue": "",
     "output_type": "error",
     "traceback": [
      "\u001b[1m\u001b[30m|   \u001b[1m\u001b[30m    private ArrayList<\u001b[0m\u001b[1m\u001b[30m\u001b[41mCarRepair\u001b[0m\u001b[1m\u001b[30m> schedule;\u001b[0m",
      "\u001b[1m\u001b[31mcannot find symbol\u001b[0m",
      "\u001b[1m\u001b[31m  symbol:   class CarRepair\u001b[0m",
      "",
      "\u001b[1m\u001b[30m|   \u001b[1m\u001b[30m        schedule = new ArrayList<\u001b[0m\u001b[1m\u001b[30m\u001b[41mCarRepair\u001b[0m\u001b[1m\u001b[30m>();\u001b[0m",
      "\u001b[1m\u001b[31mcannot find symbol\u001b[0m",
      "\u001b[1m\u001b[31m  symbol:   class CarRepair\u001b[0m",
      "",
      "\u001b[1m\u001b[30m|   \u001b[1m\u001b[30m            if (\u001b[0m\u001b[1m\u001b[30m\u001b[41mi.getMechanicNum\u001b[0m\u001b[1m\u001b[30m() == m || i.getBayNum() == b){\u001b[0m",
      "\u001b[1m\u001b[31mint cannot be dereferenced\u001b[0m",
      "",
      "\u001b[1m\u001b[30m|   \u001b[1m\u001b[30m            if (i.getMechanicNum() == m || \u001b[0m\u001b[1m\u001b[30m\u001b[41mi.getBayNum\u001b[0m\u001b[1m\u001b[30m() == b){\u001b[0m",
      "\u001b[1m\u001b[31mint cannot be dereferenced\u001b[0m",
      "",
      "\u001b[1m\u001b[30m|   \u001b[1m\u001b[30m        \u001b[0m\u001b[1m\u001b[30m\u001b[41mCarRepair\u001b[0m\u001b[1m\u001b[30m mb = new CarRepair(m, b);\u001b[0m",
      "\u001b[1m\u001b[31mcannot find symbol\u001b[0m",
      "\u001b[1m\u001b[31m  symbol:   class CarRepair\u001b[0m",
      "",
      "\u001b[1m\u001b[30m|   \u001b[1m\u001b[30m        CarRepair mb = new \u001b[0m\u001b[1m\u001b[30m\u001b[41mCarRepair\u001b[0m\u001b[1m\u001b[30m(m, b);\u001b[0m",
      "\u001b[1m\u001b[31mcannot find symbol\u001b[0m",
      "\u001b[1m\u001b[31m  symbol:   class CarRepair\u001b[0m",
      "",
      "\u001b[1m\u001b[30m|   \u001b[1m\u001b[30m            if (\u001b[0m\u001b[1m\u001b[30m\u001b[41mj.getMechanicNum\u001b[0m\u001b[1m\u001b[30m() != i){\u001b[0m",
      "\u001b[1m\u001b[31mint cannot be dereferenced\u001b[0m",
      ""
     ]
    }
   ],
   "source": [
    "public class RepairSchedule{\n",
    "/** Each element represents a repair by an individual mechanic in a bay. */\n",
    "    private ArrayList<CarRepair> schedule;\n",
    "\n",
    "/** Number of mechanics available in this schedule. */\n",
    "    private int numberOfMechanics;\n",
    "\n",
    " \n",
    "\n",
    "/** Constructs a RepairSchedule object.\n",
    "\n",
    "* Precondition: n >= 0\n",
    "\n",
    "*/\n",
    "    public RepairSchedule(int n){\n",
    "        schedule = new ArrayList<CarRepair>();\n",
    "        numberOfMechanics = n;\n",
    "    }\n",
    "\n",
    " \n",
    "\n",
    "/** Attempts to schedule a repair by a given mechanic in a given bay as described in part (a).\n",
    "\n",
    "* Precondition: 0 <= m < numberOfMechanics and b >= 0\n",
    "\n",
    "*/\n",
    "\n",
    "    public boolean addRepair(int m, int b)\n",
    "    {\n",
    "        for (int i = 0; i < schedule.length; i++){\n",
    "            if (i.getMechanicNum() == m || i.getBayNum() == b){\n",
    "                return false;\n",
    "            }\n",
    "        }\n",
    "        CarRepair mb = new CarRepair(m, b);\n",
    "        schedule.add(mb);\n",
    "        return true;\n",
    "    /* to be implemented in part (a) */\n",
    "    }\n",
    "\n",
    " \n",
    "\n",
    "/** Returns an ArrayList containing the mechanic identifiers of all available mechanics,\n",
    "\n",
    "* as described in part (b).\n",
    "\n",
    "*/\n",
    "\n",
    "    public ArrayList<Integer> availableMechanics(){\n",
    "        ArrayList<Integer> available = new ArrayList<Integer>();\n",
    "        int j = 0;\n",
    "        for (int i = 0; i < numberOfMechanics && j < schedule; i++){\n",
    "            if (j.getMechanicNum() != i){\n",
    "                available.add(i);\n",
    "                j++;\n",
    "            }\n",
    "        }\n",
    "        return available;\n",
    "    }\n",
    "\n",
    " \n",
    "\n",
    "/** Removes an element from schedule when a repair is complete. */\n",
    "\n",
    "    // public void carOut(int b){\n",
    "\n",
    "    // /* implementation not shown */\n",
    "\n",
    "    // }\n",
    "\n",
    "}"
   ]
  },
  {
   "cell_type": "code",
   "execution_count": 14,
   "metadata": {
    "vscode": {
     "languageId": "java"
    }
   },
   "outputs": [
    {
     "ename": "CompilationException",
     "evalue": "",
     "output_type": "error",
     "traceback": [
      "\u001b[1m\u001b[30m|   \u001b[1m\u001b[30m    for (int i = 0; i < \u001b[0m\u001b[1m\u001b[30m\u001b[41mschedule\u001b[0m\u001b[1m\u001b[30m.length; i++){\u001b[0m",
      "\u001b[1m\u001b[31mcannot find symbol\u001b[0m",
      "\u001b[1m\u001b[31m  symbol:   variable schedule\u001b[0m",
      "",
      "\u001b[1m\u001b[30m|   \u001b[1m\u001b[30m        if (\u001b[0m\u001b[1m\u001b[30m\u001b[41mi.getMechanicNum\u001b[0m\u001b[1m\u001b[30m() == m || i.getBayNum() == b){\u001b[0m",
      "\u001b[1m\u001b[31mint cannot be dereferenced\u001b[0m",
      "",
      "\u001b[1m\u001b[30m|   \u001b[1m\u001b[30m        if (i.getMechanicNum() == m || \u001b[0m\u001b[1m\u001b[30m\u001b[41mi.getBayNum\u001b[0m\u001b[1m\u001b[30m() == b){\u001b[0m",
      "\u001b[1m\u001b[31mint cannot be dereferenced\u001b[0m",
      "",
      "\u001b[1m\u001b[30m|   \u001b[1m\u001b[30m    \u001b[0m\u001b[1m\u001b[30m\u001b[41mCarRepair\u001b[0m\u001b[1m\u001b[30m mb = new CarRepair(m, b);\u001b[0m",
      "\u001b[1m\u001b[31mcannot find symbol\u001b[0m",
      "\u001b[1m\u001b[31m  symbol:   class CarRepair\u001b[0m",
      "",
      "\u001b[1m\u001b[30m|   \u001b[1m\u001b[30m    CarRepair mb = new \u001b[0m\u001b[1m\u001b[30m\u001b[41mCarRepair\u001b[0m\u001b[1m\u001b[30m(m, b);\u001b[0m",
      "\u001b[1m\u001b[31mcannot find symbol\u001b[0m",
      "\u001b[1m\u001b[31m  symbol:   class CarRepair\u001b[0m",
      "",
      "\u001b[1m\u001b[30m|   \u001b[1m\u001b[30m    \u001b[0m\u001b[1m\u001b[30m\u001b[41mschedule\u001b[0m\u001b[1m\u001b[30m.add(mb);\u001b[0m",
      "\u001b[1m\u001b[31mcannot find symbol\u001b[0m",
      "\u001b[1m\u001b[31m  symbol:   variable schedule\u001b[0m",
      ""
     ]
    }
   ],
   "source": [
    "/** Attempts to schedule a repair by a given mechanic in a given bay as described in part (a).\n",
    "\n",
    "* Precondition: 0 <= m < numberOfMechanics and b >= 0\n",
    "\n",
    "*/\n",
    "\n",
    "public boolean addRepair(int m, int b)\n",
    "{\n",
    "    for (int i = 0; i < schedule.length; i++){\n",
    "        if (i.getMechanicNum() == m || i.getBayNum() == b){\n",
    "            return false;\n",
    "        }\n",
    "    }\n",
    "    CarRepair mb = new CarRepair(m, b);\n",
    "    schedule.add(mb);\n",
    "    return true;\n",
    "/* to be implemented in part (a) */\n",
    "}"
   ]
  },
  {
   "cell_type": "code",
   "execution_count": 16,
   "metadata": {
    "vscode": {
     "languageId": "java"
    }
   },
   "outputs": [
    {
     "ename": "CompilationException",
     "evalue": "",
     "output_type": "error",
     "traceback": [
      "\u001b[1m\u001b[30m|   \u001b[1m\u001b[30m    for (int i = 0; i < \u001b[0m\u001b[1m\u001b[30m\u001b[41mnumberOfMechanics\u001b[0m\u001b[1m\u001b[30m && j< schedule; i++){\u001b[0m",
      "\u001b[1m\u001b[31mcannot find symbol\u001b[0m",
      "\u001b[1m\u001b[31m  symbol:   variable numberOfMechanics\u001b[0m",
      "",
      "\u001b[1m\u001b[30m|   \u001b[1m\u001b[30m    for (int i = 0; i < numberOfMechanics && j< \u001b[0m\u001b[1m\u001b[30m\u001b[41mschedule\u001b[0m\u001b[1m\u001b[30m; i++){\u001b[0m",
      "\u001b[1m\u001b[31mcannot find symbol\u001b[0m",
      "\u001b[1m\u001b[31m  symbol:   variable schedule\u001b[0m",
      "",
      "\u001b[1m\u001b[30m|   \u001b[1m\u001b[30m        if (\u001b[0m\u001b[1m\u001b[30m\u001b[41mj.getMechanicNum\u001b[0m\u001b[1m\u001b[30m() != i){\u001b[0m",
      "\u001b[1m\u001b[31mint cannot be dereferenced\u001b[0m",
      ""
     ]
    }
   ],
   "source": [
    "/** Returns an ArrayList containing the mechanic identifiers of all available mechanics,\n",
    "\n",
    "* as described in part (b).\n",
    "\n",
    "*/\n",
    "\n",
    "public ArrayList<Integer> availableMechanics(){\n",
    "    ArrayList<Integer> available = new ArrayList<Integer>();\n",
    "    int j = 0;\n",
    "    for (int i = 0; i < numberOfMechanics && j < schedule; i++){\n",
    "        if (j.getMechanicNum() != i){\n",
    "            available.add(i);\n",
    "            j++;\n",
    "        }\n",
    "    }\n",
    "    return available;\n",
    "}"
   ]
  },
  {
   "attachments": {},
   "cell_type": "markdown",
   "metadata": {},
   "source": [
    "## 2d Array Q2"
   ]
  },
  {
   "cell_type": "code",
   "execution_count": 13,
   "metadata": {
    "vscode": {
     "languageId": "java"
    }
   },
   "outputs": [],
   "source": [
    "public class Item\n",
    "{\n",
    "    private String name;\n",
    "    private int value;\n",
    "\n",
    "    public Item(String itemName, int itemValue){\n",
    "        name = itemName;\n",
    "        value = itemValue;\n",
    "    }\n",
    "\n",
    "    \n",
    "\n",
    "    public String getName(){\n",
    "        return name;\n",
    "    }\n",
    "\n",
    "    public int getValue(){\n",
    "        return value;\n",
    "    }\n",
    "}"
   ]
  },
  {
   "cell_type": "code",
   "execution_count": 16,
   "metadata": {
    "vscode": {
     "languageId": "java"
    }
   },
   "outputs": [
    {
     "ename": "CompilationException",
     "evalue": "",
     "output_type": "error",
     "traceback": [
      "\u001b[1m\u001b[30m|   \u001b[1m\u001b[30m        \u001b[0m\u001b[1m\u001b[30m\u001b[41mmaxValue\u001b[0m\u001b[1m\u001b[30m = grid[r][c].getValue();\u001b[0m",
      "\u001b[1m\u001b[31mcannot find symbol\u001b[0m",
      "\u001b[1m\u001b[31m  symbol:   variable maxValue\u001b[0m",
      "",
      "\u001b[1m\u001b[30m|   \u001b[1m\u001b[30m        \u001b[0m\u001b[1m\u001b[30m\u001b[41mcorrectReturn\u001b[0m\u001b[1m\u001b[30m = grid[r][c].getName();\u001b[0m",
      "\u001b[1m\u001b[31mcannot find symbol\u001b[0m",
      "\u001b[1m\u001b[31m  symbol:   variable correctReturn\u001b[0m",
      "",
      "\u001b[1m\u001b[30m|   \u001b[1m\u001b[30m        if (\u001b[0m\u001b[1m\u001b[30m\u001b[41misValid\u001b[0m\u001b[1m\u001b[30m(r, c-1) && grid[r][c-1].getValue() >= maxValue){\u001b[0m",
      "\u001b[1m\u001b[31mcannot find symbol\u001b[0m",
      "\u001b[1m\u001b[31m  symbol:   method isValid(int,int)\u001b[0m",
      "",
      "\u001b[1m\u001b[30m|   \u001b[1m\u001b[30m        if (isValid(r, c-1) && grid[r][c-1].getValue() >= \u001b[0m\u001b[1m\u001b[30m\u001b[41mmaxValue\u001b[0m\u001b[1m\u001b[30m){\u001b[0m",
      "\u001b[1m\u001b[31mcannot find symbol\u001b[0m",
      "\u001b[1m\u001b[31m  symbol:   variable maxValue\u001b[0m",
      "",
      "\u001b[1m\u001b[30m|   \u001b[1m\u001b[30m            \u001b[0m\u001b[1m\u001b[30m\u001b[41mmaxValue\u001b[0m\u001b[1m\u001b[30m = grid[r][c-1].getValue();\u001b[0m",
      "\u001b[1m\u001b[31mcannot find symbol\u001b[0m",
      "\u001b[1m\u001b[31m  symbol:   variable maxValue\u001b[0m",
      "",
      "\u001b[1m\u001b[30m|   \u001b[1m\u001b[30m            \u001b[0m\u001b[1m\u001b[30m\u001b[41mcorrectReturn\u001b[0m\u001b[1m\u001b[30m = grid[r][c-1].getName();\u001b[0m",
      "\u001b[1m\u001b[31mcannot find symbol\u001b[0m",
      "\u001b[1m\u001b[31m  symbol:   variable correctReturn\u001b[0m",
      "",
      "\u001b[1m\u001b[30m|   \u001b[1m\u001b[30m        if (\u001b[0m\u001b[1m\u001b[30m\u001b[41misValid\u001b[0m\u001b[1m\u001b[30m(r, c+1) && grid[r][c+1].getValue() >= maxValue){\u001b[0m",
      "\u001b[1m\u001b[31mcannot find symbol\u001b[0m",
      "\u001b[1m\u001b[31m  symbol:   method isValid(int,int)\u001b[0m",
      "",
      "\u001b[1m\u001b[30m|   \u001b[1m\u001b[30m        if (isValid(r, c+1) && grid[r][c+1].getValue() >= \u001b[0m\u001b[1m\u001b[30m\u001b[41mmaxValue\u001b[0m\u001b[1m\u001b[30m){\u001b[0m",
      "\u001b[1m\u001b[31mcannot find symbol\u001b[0m",
      "\u001b[1m\u001b[31m  symbol:   variable maxValue\u001b[0m",
      "",
      "\u001b[1m\u001b[30m|   \u001b[1m\u001b[30m            \u001b[0m\u001b[1m\u001b[30m\u001b[41mmaxValue\u001b[0m\u001b[1m\u001b[30m = grid[r][c+1].getValue();\u001b[0m",
      "\u001b[1m\u001b[31mcannot find symbol\u001b[0m",
      "\u001b[1m\u001b[31m  symbol:   variable maxValue\u001b[0m",
      "",
      "\u001b[1m\u001b[30m|   \u001b[1m\u001b[30m            \u001b[0m\u001b[1m\u001b[30m\u001b[41mcorrectReturn\u001b[0m\u001b[1m\u001b[30m = grid[r][c+1].getName();\u001b[0m",
      "\u001b[1m\u001b[31mcannot find symbol\u001b[0m",
      "\u001b[1m\u001b[31m  symbol:   variable correctReturn\u001b[0m",
      "",
      "\u001b[1m\u001b[30m|   \u001b[1m\u001b[30m        return \u001b[0m\u001b[1m\u001b[30m\u001b[41mcorrectReturn\u001b[0m\u001b[1m\u001b[30m;\u001b[0m",
      "\u001b[1m\u001b[31mcannot find symbol\u001b[0m",
      "\u001b[1m\u001b[31m  symbol:   variable correctReturn\u001b[0m",
      "",
      "\u001b[1m\u001b[30m|   \u001b[1m\u001b[30m        for (int[] row : \u001b[0m\u001b[1m\u001b[30m\u001b[41mgrid\u001b[0m\u001b[1m\u001b[30m){\u001b[0m",
      "\u001b[1m\u001b[31mincompatible types: Item[] cannot be converted to int[]\u001b[0m",
      "",
      "\u001b[1m\u001b[30m|   \u001b[1m\u001b[30m                sum += \u001b[0m\u001b[1m\u001b[30m\u001b[41mi.getValue\u001b[0m\u001b[1m\u001b[30m();\u001b[0m",
      "\u001b[1m\u001b[31mint cannot be dereferenced\u001b[0m",
      ""
     ]
    }
   ],
   "source": [
    "public class ItemGrid\n",
    "{\n",
    "    private Item[][] grid;\n",
    "\n",
    " \n",
    "\n",
    "// Constructor not shown\n",
    "\n",
    " \n",
    "\n",
    "/** Returns true if xPos is a valid row index and yPos is a valid\n",
    "\n",
    "* column index and returns false otherwise.\n",
    "\n",
    "*/\n",
    "\n",
    "    public boolean isValid(int xPos, int yPos){ \n",
    "        /* implementation not shown */ \n",
    "    }\n",
    "\n",
    " \n",
    "\n",
    "/** Compares the item in row r and column c to the items to its\n",
    "\n",
    "* left and to its right. Returns the name of the item with\n",
    "\n",
    "* the greatest value, as described in part (a).\n",
    "\n",
    "* Precondition: r and c are valid indices\n",
    "\n",
    "*/\n",
    "\n",
    "    public String mostValuableNeighbor(int r, int c){\n",
    "        maxValue = grid[r][c].getValue();\n",
    "        correctReturn = grid[r][c].getName();\n",
    "        if (isValid(r, c-1) && grid[r][c-1].getValue() >= maxValue){\n",
    "            maxValue = grid[r][c-1].getValue();\n",
    "            correctReturn = grid[r][c-1].getName();\n",
    "        }\n",
    "        if (isValid(r, c+1) && grid[r][c+1].getValue() >= maxValue){\n",
    "            maxValue = grid[r][c+1].getValue();\n",
    "            correctReturn = grid[r][c+1].getName();\n",
    "        }\n",
    "        return correctReturn;\n",
    "    }\n",
    "\n",
    " \n",
    "\n",
    "/** Returns the average value of all the items in grid,\n",
    "\n",
    "* as described in part (b).\n",
    "\n",
    "*/\n",
    "\n",
    "    public double findAverage(){\n",
    "        double sum = 0;\n",
    "        double count = 0;\n",
    "        for (int[] row : grid){\n",
    "            for (int i : row){\n",
    "                sum += i.getValue();\n",
    "                count ++;\n",
    "            }\n",
    "        }\n",
    "        return (double) sum/count;\n",
    "    }\n",
    "\n",
    "}"
   ]
  },
  {
   "cell_type": "code",
   "execution_count": 2,
   "metadata": {
    "vscode": {
     "languageId": "java"
    }
   },
   "outputs": [],
   "source": [
    "/** Compares the item in row r and column c to the items to its\n",
    "\n",
    "* left and to its right. Returns the name of the item with\n",
    "\n",
    "* the greatest value, as described in part (a).\n",
    "\n",
    "* Precondition: r and c are valid indices\n",
    "\n",
    "*/\n",
    "\n",
    "public String mostValuableNeighbor(int r, int c){\n",
    "    maxValue = grid[r][c].getValue();\n",
    "    correctReturn = grid[r][c].getName();\n",
    "    if (isValid(r, c-1) && grid[r][c-1].getValue() >= maxValue){\n",
    "        maxValue = grid[r][c-1].getValue();\n",
    "        correctReturn = grid[r][c-1].getName();\n",
    "    }\n",
    "    if (isValid(r, c+1) && grid[r][c+1].getValue() >= maxValue){\n",
    "        maxValue = grid[r][c+1].getValue();\n",
    "        correctReturn = grid[r][c+1].getName();\n",
    "    }\n",
    "    return correctReturn;\n",
    "}"
   ]
  },
  {
   "cell_type": "code",
   "execution_count": 3,
   "metadata": {
    "vscode": {
     "languageId": "java"
    }
   },
   "outputs": [
    {
     "ename": "CompilationException",
     "evalue": "",
     "output_type": "error",
     "traceback": [
      "\u001b[1m\u001b[30m|   \u001b[1m\u001b[30m    for (int[] row : \u001b[0m\u001b[1m\u001b[30m\u001b[41mgrid\u001b[0m\u001b[1m\u001b[30m){\u001b[0m",
      "\u001b[1m\u001b[31mcannot find symbol\u001b[0m",
      "\u001b[1m\u001b[31m  symbol:   variable grid\u001b[0m",
      "",
      "\u001b[1m\u001b[30m|   \u001b[1m\u001b[30m            sum += \u001b[0m\u001b[1m\u001b[30m\u001b[41mi.getValue\u001b[0m\u001b[1m\u001b[30m();\u001b[0m",
      "\u001b[1m\u001b[31mint cannot be dereferenced\u001b[0m",
      ""
     ]
    }
   ],
   "source": [
    "/** Returns the average value of all the items in grid,\n",
    "\n",
    "* as described in part (b).\n",
    "\n",
    "*/\n",
    "\n",
    "public double findAverage(){\n",
    "    double sum = 0;\n",
    "    double count = 0;\n",
    "    for (int[] row : grid){\n",
    "        for (int i : row){\n",
    "            sum += i.getValue();\n",
    "            count ++;\n",
    "        }\n",
    "    }\n",
    "    return (double) sum/count;\n",
    "}"
   ]
  }
 ],
 "metadata": {
  "kernelspec": {
   "display_name": "Java",
   "language": "java",
   "name": "java"
  },
  "language_info": {
   "codemirror_mode": "java",
   "file_extension": ".jshell",
   "mimetype": "text/x-java-source",
   "name": "Java",
   "pygments_lexer": "java",
   "version": "11.0.16+8-post-Ubuntu-0ubuntu120.04"
  },
  "orig_nbformat": 4
 },
 "nbformat": 4,
 "nbformat_minor": 2
}
