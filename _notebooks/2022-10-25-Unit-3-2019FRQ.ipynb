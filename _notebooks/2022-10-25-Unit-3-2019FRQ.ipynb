{
 "cells": [
  {
   "cell_type": "markdown",
   "metadata": {},
   "source": [
    "# APCSA 2019, Q1\n",
    "- categories: [homework]"
   ]
  },
  {
   "cell_type": "markdown",
   "metadata": {},
   "source": [
    "### 1. The APCalendar class contains methods used to calculate information about a calendar. You will write two methods of the class. \n",
    "\n",
    "public class APCalendar\n",
    "{\n",
    " /** Returns true if year is a leap year and false otherwise. */\n",
    " private static boolean isLeapYear(int year)\n",
    " { /* implementation not shown */ }\n",
    " /** Returns the number of leap years between year1 and year2, inclusive.\n",
    " * Precondition: 0 <= year1 <= year2\n",
    " */\n",
    " public static int numberOfLeapYears(int year1, int year2)\n",
    " { /* to be implemented in part (a) */ }\n",
    " /** Returns the value representing the day of the week for the first day of year,\n",
    " * where 0 denotes Sunday, 1 denotes Monday, ..., and 6 denotes Saturday.\n",
    " */\n",
    " private static int firstDayOfYear(int year)\n",
    " { /* implementation not shown */ }\n",
    " /** Returns n, where month, day, and year specify the nth day of the year.\n",
    " * Returns 1 for January 1 (month = 1, day = 1) of any year.\n",
    " * Precondition: The date represented by month, day, year is a valid date.\n",
    " */\n",
    " private static int dayOfYear(int month, int day, int year)\n",
    " { /* implementation not shown */ }\n",
    " /** Returns the value representing the day of the week for the given date\n",
    " * (month, day, year), where 0 denotes Sunday, 1 denotes Monday, ...,\n",
    " * and 6 denotes Saturday.\n",
    " * Precondition: The date represented by month, day, year is a valid date.\n",
    " */\n",
    " public static int dayOfWeek(int month, int day, int year)\n",
    " { /* to be implemented in part (b) */ }\n",
    " // There may be instance variables, constructors, and other methods not shown.\n",
    "} "
   ]
  },
  {
   "cell_type": "markdown",
   "metadata": {},
   "source": [
    "### 1(a)\n",
    "Write the static method numberOfLeapYears, which returns the number of leap years between year1 and year2 inclusive. In order to calculate this value, a helper method is provided for you.\n",
    "* isLeapYear(year) returns true if year is a leap year and false otherwise.\n",
    "\n",
    "Complete method numberOfLeapYears below. You must use isLeapYear appropriately to receive full credit.\n",
    "/** Returns the number of leap years between year1 and year2, inclusive.\n",
    " * Precondition: 0 <= year1 <= year2\n",
    " */\n",
    " public static int numberOfLeapYears(int year1, int year2) "
   ]
  },
  {
   "cell_type": "code",
   "execution_count": 6,
   "metadata": {},
   "outputs": [],
   "source": [
    "public static int numberOfLeapYears(int year1, int year2)\n",
    "{\n",
    "  int leapYears = 0;\n",
    "  \n",
    "  for(int y = year1; y <= year2; y++)\n",
    "    if(isLeapYear(y))\n",
    "      leapYears++;\n",
    "  \n",
    "  return leapYears;\n",
    "}"
   ]
  },
  {
   "cell_type": "markdown",
   "metadata": {},
   "source": [
    "### 1.\n",
    "Write the static method dayOfWeek, which returns the integer value representing the day of the week for\n",
    "the given date (month, day, year), where 0 denotes Sunday, 1 denotes Monday, ..., and 6 denotes Saturday. For example, 2019 began on a Tuesday, and January 5 is the fifth day of 2019. As a result, January 5, 2019, fell on a Saturday, and the method call dayOfWeek(1, 5, 2019)\n",
    "returns 6.\n",
    "\n",
    "As another example, January 10 is the tenth day of 2019. As a result, January 10, 2019, fell on a Thursday,\n",
    "and the method call dayOfWeek(1, 10, 2019) returns 4.\n",
    "\n",
    "In order to calculate this value, two helper methods are provided for you.\n",
    "* firstDayOfYear(year) returns the integer value representing the day of the week for the first\n",
    "day of year, where 0 denotes Sunday, 1 denotes Monday, ..., and 6 denotes Saturday. For\n",
    "example, since 2019 began on a Tuesday, firstDayOfYear(2019) returns 2.\n",
    "* dayOfYear(month, day, year) returns n, where month, day, and year specify the\n",
    "nth day of the year. For the first day of the year, January 1 (month = 1, day = 1), the value\n",
    "1 is returned. This method accounts for whether year is a leap year. For example,\n",
    "dayOfYear(3, 1, 2017) returns 60, since 2017 is not a leap year, while\n",
    "dayOfYear(3, 1, 2016) returns 61, since 2016 is a leap year.\n",
    "\n",
    "Class information for this question\n",
    "\n",
    "* public class APCalendar\n",
    "* private static boolean isLeapYear(int year)\n",
    "* public static int numberOfLeapYears(int year1, int year2)\n",
    "* private static int firstDayOfYear(int year)\n",
    "* private static int dayOfYear(int month, int day, int year)\n",
    "* public static int dayOfWeek(int month, int day, int year) \n"
   ]
  },
  {
   "cell_type": "markdown",
   "metadata": {},
   "source": [
    "### 1(b)\n",
    "Complete method dayOfWeek below. You must use firstDayOfYear and dayOfYear\n",
    "appropriately to receive full credit.\n",
    "\n",
    " /** Returns the value representing the day of the week for the given date\n",
    " * (month, day, year), where 0 denotes Sunday, 1 denotes Monday, ...,\n",
    " * and 6 denotes Saturday.\n",
    " * Precondition: The date represented by month, day, year is a valid date.\n",
    "\n",
    "public static int dayOfWeek(int month, int day, int year) "
   ]
  },
  {
   "cell_type": "code",
   "execution_count": 7,
   "metadata": {},
   "outputs": [],
   "source": [
    "public static int dayOfWeek(int month, int day, int year)\n",
    "{\n",
    "  int weekday = firstDayOfYear(year);\n",
    "  int additionalDays = dayOfYear(month, day, year) - 1;\n",
    "\n",
    "  for(int d = 1; d <= additionalDays; d++)\n",
    "  {\n",
    "    weekday++;\n",
    "\n",
    "    if(weekday == 7)\n",
    "      weekday = 0;\n",
    "  }\n",
    "        \n",
    "  return weekday;\n",
    "}"
   ]
  }
 ],
 "metadata": {
  "kernelspec": {
   "display_name": "Java",
   "language": "java",
   "name": "java"
  },
  "language_info": {
   "codemirror_mode": "java",
   "file_extension": ".jshell",
   "mimetype": "text/x-java-source",
   "name": "java",
   "pygments_lexer": "java",
   "version": "11.0.16+8-post-Ubuntu-0ubuntu120.04"
  },
  "orig_nbformat": 4
 },
 "nbformat": 4,
 "nbformat_minor": 2
}
