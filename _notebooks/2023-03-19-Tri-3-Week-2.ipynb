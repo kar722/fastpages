{
 "cells": [
  {
   "cell_type": "code",
   "execution_count": 1,
   "metadata": {
    "vscode": {
     "languageId": "java"
    }
   },
   "outputs": [
    {
     "name": "stdout",
     "output_type": "stream",
     "text": [
      "Empty Queue\n",
      "John\n",
      "Jane\n",
      "Bob\n",
      "Iterate over Array\n",
      "John\n",
      "Jane\n",
      "Bob\n"
     ]
    }
   ],
   "source": [
    "Queue<String> queue = new LinkedList<>();  // Queue interface uses LL implementation\n",
    "queue.add(\"John\");\n",
    "queue.add(\"Jane\");\n",
    "queue.add(\"Bob\");\n",
    "// Collections has a toArray convertion\n",
    "Object[] arr = queue.toArray();\n",
    "\n",
    "// Empty queue\n",
    "System.out.println(\"Empty Queue\");\n",
    "while (queue.size() > 0) // Interate while size\n",
    "    System.out.println(queue.remove());\n",
    "\n",
    "// Iterate of array\n",
    "System.out.println(\"Iterate over Array\");\n",
    "for (Object a : arr) // Type is Object from convertion\n",
    "    System.out.println(a);"
   ]
  },
  {
   "cell_type": "markdown",
   "metadata": {},
   "source": [
    "# Classes and Objects CB "
   ]
  },
  {
   "cell_type": "markdown",
   "metadata": {},
   "source": [
    "Class have the following\n",
    "    Contructors: define the variables in the class. \n",
    "    Accessors: are getters. They can access a contructor of a class. \n",
    "    Mutator methods: are setters. they can set values for a contructor of a class. \n",
    "\n",
    "\n",
    "Follow the format: object.method()\n",
    "    These methods can be void methods or methods that return something. \n",
    "    If the method takes a parameter, put the parameter in method\n",
    "\n",
    "\n",
    "**Static Methods**\n",
    "These methods are inside a class, and you do not need to create objects of the class to use the methods. \n",
    "    You can simply access the method through the class. \n",
    "Math Class in an example \n",
    "    you can just say System.out.print(Math.sqrt(16)).\n",
    "    you dont have to create a math object \n",
    "\n",
    "\n",
    "**String Class**\n",
    "\n",
    "You can create string objects by just assigning string literals\n",
    "    String word = \"theater\";\n",
    "Usually we don't have static methods for the String class.\n",
    "\n",
    "We can pass an integer as a double, but we can't pass a double to an integer. \n",
    "\n",
    "\n",
    "\n",
    "# Combined Table Class"
   ]
  },
  {
   "cell_type": "code",
   "execution_count": null,
   "metadata": {
    "vscode": {
     "languageId": "java"
    }
   },
   "outputs": [],
   "source": [
    "public class Book{\n",
    "    private String title;\n",
    "    private String genre;\n",
    "    private int pages;\n",
    "}"
   ]
  },
  {
   "cell_type": "code",
   "execution_count": null,
   "metadata": {
    "vscode": {
     "languageId": "java"
    }
   },
   "outputs": [],
   "source": [
    "public class CombinedTable {\n",
    "    SingleTable st1 = new SingleTable();\n",
    "    SingleTable st2 = new SingleTable();\n",
    "    int seatnum1 = st1.getNumSeats();\n",
    "    int seatnum2 = st2.getNumSeats();\n",
    "\n",
    "    int height1 = st1.getHeight();\n",
    "    int height2 = st2.getHeight();\n",
    "\n",
    "    double quality1 = st1.getViewQuality();\n",
    "    double quality2 = st2.getViewQuality();\n",
    "\n",
    "    public boolean combinedNumSeats(n){\n",
    "        if ((num1 + num2 - 2)>=n){\n",
    "            return true;\n",
    "        }\n",
    "\n",
    "        return false;\n",
    "    }\n",
    "\n",
    "    public double desireabilty(){\n",
    "        double desireability = 0;\n",
    "        if (height1 == height2){\n",
    "            desireability = (quality1 + quality2)/2;\n",
    "        }\n",
    "        else{\n",
    "            double temp = (quality1 + quality2)/2;\n",
    "            desireability = temp - 10;\n",
    "        }\n",
    "        return desireability;\n",
    "\n",
    "    }\n",
    "\n",
    "}"
   ]
  },
  {
   "cell_type": "markdown",
   "metadata": {},
   "source": [
    "# 2017 FRQ"
   ]
  },
  {
   "cell_type": "code",
   "execution_count": null,
   "metadata": {
    "vscode": {
     "languageId": "java"
    }
   },
   "outputs": [],
   "source": [
    "// Question 1\n",
    "\n",
    "public Digits (int num){\n",
    "    int number = num;\n",
    "    int count = 0;\n",
    "    while (number>0){\n",
    "        int remain = number%10;\n",
    "        digitList.add(count, remain);\n",
    "        number = number/10;\n",
    "        count = count +1;\n",
    "    }\n",
    "\n",
    "}\n",
    "\n",
    "\n",
    "public boolean isStrictlyIncreasing(){\n",
    "    for (int i=0; i<digitList.size(); i++){\n",
    "        if (digitList.get(i)>digitList.get(i+1)){\n",
    "            return false;\n",
    "        }\n",
    "\n",
    "    }\n",
    "    return true;\n",
    "}\n",
    "\n"
   ]
  },
  {
   "cell_type": "code",
   "execution_count": null,
   "metadata": {
    "vscode": {
     "languageId": "java"
    }
   },
   "outputs": [],
   "source": [
    "// Question 2\n",
    "\n",
    "public class MultPractice implements StudyPractice{\n",
    "\n",
    "    private int first;\n",
    "    private int second;\n",
    "\n",
    "    public MultPractice(int first, int second){\n",
    "        first = first;\n",
    "        second = second;\n",
    "    }\n",
    "\n",
    "    //if you add two integers before you introduce a string, then you will actually add the two numbers.\n",
    "    // if you add two numbers after you introduce a string, the two numbers will only be next to each other. \n",
    "    public String getProblem(){\n",
    "        String problem = first + \" TIMES \" + second\n",
    "        return problem\n",
    "    }\n",
    "\n",
    "    public void nextProblem(){\n",
    "        second = second + 1;\n",
    "        // this.getProblem();  YOU DONT NEED THS LINE because in the example code, they are manually calling getProblem() again.    \n",
    "    }\n",
    "}"
   ]
  },
  {
   "cell_type": "code",
   "execution_count": null,
   "metadata": {
    "vscode": {
     "languageId": "java"
    }
   },
   "outputs": [],
   "source": [
    "// Question 3\n",
    "\n",
    "public void replaceNthOccurance(String str, int n, String repl){\n",
    "    int index_n = this.findnthOccurance(str, n);\n",
    "    if (index_n < str.length()){\n",
    "        str = currentPrase.substring(0,index_n) + repl + currentPhrase.subtring(index_n);\n",
    "    }\n",
    "}\n",
    "\n",
    "public int findLastOccurance(String str){\n",
    "    String temp = currentPhrase;\n",
    "    int first_index = temp.indexOf(str);\n",
    "    int str_length = str.length();\n",
    "    temp = currentPhrase.substring(first_index+str_length);\n",
    "    if (temp.indexOf(str) == -1){\n",
    "        return first_index\n",
    "    }\n",
    "    else{\n",
    "        int count = 1\n",
    "        while(temp.indexOf(str) != -1){\n",
    "            int some_index = temp.indexOf(str);\n",
    "            temp = temp.substring(some_index+str_length);\n",
    "            count++;\n",
    "        }\n",
    "        int final_length = currentPrase.length - temp.length;\n",
    "        return final_length - 1;\n",
    "    }\n",
    "}\n",
    "\n",
    "\n",
    "\n",
    "\n",
    "\n",
    "\n",
    "//actual part b solution. they want you to use findNthOccurance()\n",
    "public int findLastOccurrence(String str)\n",
    "{\n",
    "    int n = 1;\n",
    "    int index = -1;\n",
    "    int nextIndex = findNthOccurrence(str, n);\n",
    "    while(nextIndex != -1)\n",
    "        {\n",
    "            index = nextIndex;\n",
    "            n++;\n",
    "            nextIndex = findNthOccurrence(str, n);\n",
    "        }\n",
    "\n",
    "    return index;\n",
    "}\n"
   ]
  },
  {
   "cell_type": "markdown",
   "metadata": {},
   "source": [
    "# Linked Lists\n",
    "\n",
    "Unlike arrays, you cannot directly go to the ellement that you want to. \n",
    "You have to start with the head - it takes linear time\n",
    "All the elements are linked.\n",
    "\n",
    "You can add and delte elements from the beginning of the linked list, at constant time. \n",
    "- However, if you want to add and delete elements from the middle and end, you have to first go to that element, and then add it and delete.4\n",
    "\n",
    "**Doubly LInked Lists** - Also linked from the back"
   ]
  },
  {
   "cell_type": "code",
   "execution_count": null,
   "metadata": {
    "vscode": {
     "languageId": "java"
    }
   },
   "outputs": [],
   "source": [
    "public class Node{\n",
    "    Node next;\n",
    "    int data;\n",
    "    public ListLists(int data){\n",
    "        this.data = data;\n",
    "    }\n",
    "\n",
    "}\n",
    "// Linked lists are all connected. So, you can do methods like current.next or head.next. \n",
    "\n",
    "\n",
    "\n",
    "public class LinkedList{\n",
    "    Node head;\n",
    "\n",
    "    /*\n",
    "     * We have to go to the head, then keep going to the next, untill you add the elemtn you want.\n",
    "     */\n",
    "    public void append(int data){\n",
    "\n",
    "        if (head == null){\n",
    "            head = new Node(data);\n",
    "            return\n",
    "        }\n",
    "\n",
    "        Node current = head;\n",
    "        while(current.next !=null){\n",
    "            current = current.next;\n",
    "        }\n",
    "\n",
    "        current.next = new Node(data);\n",
    "    }\n",
    "\n",
    "    /*\n",
    "     * If we want to prepend to a linked list, then we have to set the old head to the head.next, and set the new head as head.\n",
    "     */\n",
    "    public void prepend(int data){\n",
    "        Node newHead = new Node(data);\n",
    "        newHead.next = head;\n",
    "        head = newHead;\n",
    "\n",
    "    }\n",
    "\n",
    "     /*\n",
    "     in linked lists, we do not actually delete any of the values. For example, if we want to \"delete\" the second element of the list\n",
    "    we simply stop at the first, ignore the second element, and then go to the third. \n",
    "\n",
    "      */ \n",
    "    public void deteleteWithValue(int data){ \n",
    "        if (head==null){\n",
    "            return\n",
    "        }\n",
    "        if(head.data == data){\n",
    "            head = head.next;\n",
    "            return;\n",
    "        }\n",
    "\n",
    "        Node current = head;\n",
    "        while(current.next != null){\n",
    "            if(current.next.data == data){\n",
    "                current.next = current.next.next;\n",
    "                return;\n",
    "            }\n",
    "            current = current.next;\n",
    "        }\n",
    "       \n",
    "    }\n",
    "\n",
    "}"
   ]
  },
  {
   "cell_type": "markdown",
   "metadata": {},
   "source": [
    "# Stacks and Queues\n",
    "Both are linear data stuctures\n",
    "Flexible with sizes.\n",
    "    - can add and delete elements as you. \n",
    "Stack:\n",
    "LIFO - Last in, First out data structure. \n",
    "    imagine a stack of plates, where the last one you put in, is the first to go.\n",
    "\n",
    "Queue:\n",
    "FIFO - First in first out.\n",
    "    imagine a line, or queue at a roller coaster. the first person in, the first person who is out. "
   ]
  },
  {
   "cell_type": "markdown",
   "metadata": {},
   "source": [
    "### Hacks"
   ]
  },
  {
   "cell_type": "code",
   "execution_count": null,
   "metadata": {
    "vscode": {
     "languageId": "java"
    }
   },
   "outputs": [],
   "source": [
    "// 1\n",
    "public class QueueExample {\n",
    "    public static void main(String[] args) {\n",
    "        Queue<String> queue = new LinkedList<String>();\n",
    "\n",
    "        // Adding elements to the queue\n",
    "        queue.add(\"seven\");\n",
    "        System.out.println(\"Enqueued data: \" + \"seven\");\n",
    "        printQueue(queue);\n",
    "\n",
    "        queue.add(\"slimy\");\n",
    "        System.out.println(\"Enqueued data: \" + \"slimy\");\n",
    "        printQueue(queue);\n",
    "\n",
    "        queue.add(\"snakes\");\n",
    "        System.out.println(\"Enqueued data: \" + \"snakes\");\n",
    "        printQueue(queue);\n",
    "\n",
    "        queue.add(\"sallying\");\n",
    "        System.out.println(\"Enqueued data: \" + \"sallying\");\n",
    "        printQueue(queue);\n",
    "\n",
    "        queue.add(\"slowly\");\n",
    "        System.out.println(\"Enqueued data: \" + \"slowly\");\n",
    "        printQueue(queue);\n",
    "\n",
    "        queue.add(\"slithered\");\n",
    "        System.out.println(\"Enqueued data: \" + \"slithered\");\n",
    "        printQueue(queue);\n",
    "\n",
    "        queue.add(\"southward\");\n",
    "        System.out.println(\"Enqueued data: \" + \"southward\");\n",
    "        printQueue(queue);\n",
    "\n",
    "        // Removing elements from the queue\n",
    "        String data =queue.remove();\n",
    "\n",
    "        System.out.println(\"Dequeued data: \" + data);\n",
    "        printQueue(queue);\n",
    "\n",
    "        data = queue.remove();\n",
    "        System.out.println(\"Dequeued data: \" + data);\n",
    "        printQueue(queue);\n",
    "\n",
    "        data = queue.remove();\n",
    "        System.out.println(\"Dequeued data: \" + data);\n",
    "        printQueue(queue);\n",
    "\n",
    "        data = queue.remove();\n",
    "        System.out.println(\"Dequeued data: \" + data);\n",
    "        printQueue(queue);\n",
    "\n",
    "        data = queue.remove();\n",
    "        System.out.println(\"Dequeued data: \" + data);\n",
    "        printQueue(queue);\n",
    "\n",
    "        data = queue.remove();\n",
    "        System.out.println(\"Dequeued data: \" + data);\n",
    "        printQueue(queue);\n",
    "\n",
    "        data = queue.remove();\n",
    "        System.out.println(\"Dequeued data: \" + data);\n",
    "        printQueue(queue);\n",
    "    }\n",
    "\n",
    "    // Helper method to print the contents of the queue\n",
    "    public static void printQueue(Queue<String> queue) {\n",
    "        System.out.println(\"Words count: \" + queue.size() + \", data: \" + String.join(\" \", queue));\n",
    "        System.out.println();\n",
    "    }\n",
    "}\n",
    "\n",
    "QueueExample.main(null);"
   ]
  },
  {
   "cell_type": "code",
   "execution_count": null,
   "metadata": {
    "vscode": {
     "languageId": "java"
    }
   },
   "outputs": [],
   "source": [
    "// implementation of 1 and 5\n",
    "public static class Queue{\n",
    "\n",
    "    private static class Node{\n",
    "        private int data;\n",
    "        private Node next;\n",
    "        private Node(int data){\n",
    "            this.data = data;\n",
    "        }\n",
    "    }\n",
    "\n",
    "    private Node head;\n",
    "    private Node tail;\n",
    "    \n",
    "    public boolean isEmpty(){\n",
    "        return head == true;\n",
    "    }\n",
    "\n",
    "    public int peek(){\n",
    "        return head.data\n",
    "    }\n",
    "\n",
    "    public void add(int data){\n",
    "        //add to the tail\n",
    "        Node node = new Note(data);\n",
    "        if (tail != null){\n",
    "            tail.next = node;\n",
    "        }\n",
    "        tail = node;\n",
    "        if (head ==null){\n",
    "            head = node;\n",
    "        }        \n",
    "    }\n",
    "\n",
    "    public int remove(){\n",
    "        int data = head.data;\n",
    "        head = head.next;\n",
    "        if (head ==null){\n",
    "            tail = null;\n",
    "        }\n",
    "        return data;\n",
    "    }\n",
    "\n",
    "\n",
    "}"
   ]
  },
  {
   "cell_type": "code",
   "execution_count": null,
   "metadata": {
    "vscode": {
     "languageId": "java"
    }
   },
   "outputs": [],
   "source": [
    "//2 \n",
    "\n",
    "public class Merge{\n",
    "    public ListNode mergeTwoLists(listNode l1, listNode l2){\n",
    "        ListNode temp_node = new ListNode(0);\n",
    "        ListNode current_node = temp_node;\n",
    "        while(l1!=null && l2 !== null){\n",
    "            if (l1.val<l2.val){\n",
    "                current_node.next = l1;\n",
    "                l1 = l1.next\n",
    "            }\n",
    "            else{\n",
    "                current_node.next = l2;\n",
    "                l2 = l2.next;\n",
    "            }\n",
    "\n",
    "            current_node = current_node.next;\n",
    "        }\n",
    "\n",
    "        if((l1==null && l2!=null)){\n",
    "            current_node.next = l2\n",
    "            l2 = l2.next;\n",
    "        }\n",
    "        if((l1!=null && l2==null)){\n",
    "            current_node.next = l1;\n",
    "            l1 = l1.next;\n",
    "        }\n",
    "\n",
    "        return temp_node.next;\n",
    "    }\n",
    "}"
   ]
  },
  {
   "cell_type": "code",
   "execution_count": null,
   "metadata": {
    "vscode": {
     "languageId": "java"
    }
   },
   "outputs": [],
   "source": [
    "//3 \n",
    "public static class Queue{\n",
    "\n",
    "    private static class Node{\n",
    "        private int data;\n",
    "        private Node next;\n",
    "        private Node(int data){\n",
    "            this.data = data;\n",
    "        }\n",
    "    }\n",
    "    private Node current;\n",
    "    \n",
    "    while (node.current!= null){\n",
    "        node.current = Math.random() *10;\n",
    "    }\n",
    "}"
   ]
  },
  {
   "cell_type": "code",
   "execution_count": 5,
   "metadata": {
    "vscode": {
     "languageId": "java"
    }
   },
   "outputs": [
    {
     "name": "stdout",
     "output_type": "stream",
     "text": [
      "[10, 20, 30]\n",
      "[30, 20, 10]"
     ]
    }
   ],
   "source": [
    "//4\n",
    "\n",
    "/*\n",
    " * Since Queues are Lifos and Stacks are Fifos, if we take the first element from a queue, and add to a stack, the order of the elements in the original queue will be reveresed. \n",
    " */\n",
    "\n",
    "public class reverse{\n",
    "    public static void main(String[] args){  \n",
    "    Queue <Integer> queue = new ArrayDeque<>();\n",
    "    queue.add(10);\n",
    "    queue.add(20);\n",
    "    queue.add(30);\n",
    "    System.out.println(queue);\n",
    "\n",
    "    Stack<Integer> stack = new Stack<>();\n",
    "    while(!queue.isEmpty()){\n",
    "        stack.push(queue.remove());\n",
    "    }\n",
    "\n",
    "    while(!stack.isEmpty()){\n",
    "        queue.add(stack.pop());\n",
    "    }\n",
    "    System.out.print(queue);\n",
    "}\n",
    "}\n",
    "\n",
    "reverse.main(null);\n"
   ]
  },
  {
   "cell_type": "markdown",
   "metadata": {},
   "source": [
    "# Enhanced For Loops or For Each loops"
   ]
  },
  {
   "cell_type": "code",
   "execution_count": 8,
   "metadata": {
    "vscode": {
     "languageId": "java"
    }
   },
   "outputs": [
    {
     "name": "stdout",
     "output_type": "stream",
     "text": [
      "0 1 2 3 4 5 6 7 8 9 10 11 12 13 14 15 16 17 18 19 \n",
      "20 21 22 23 24 25 26 27 28 29 30 31 32 33 34 35 36 37 38 39 \n",
      "40 41 42 43 44 45 46 47 48 49 50 51 52 53 54 55 56 57 58 59 \n",
      "60 61 62 63 64 65 66 67 68 69 70 71 72 73 74 75 76 77 78 79 \n",
      "80 81 82 83 84 85 86 87 88 89 90 91 92 93 94 95 96 97 98 99 \n",
      "100 101 102 103 104 105 106 107 108 109 110 111 112 113 114 115 116 117 118 119 \n",
      "120 121 122 123 124 125 126 127 128 129 130 131 132 133 134 135 136 137 138 139 \n",
      "140 141 142 143 144 145 146 147 148 149 150 151 152 153 154 155 156 157 158 159 \n",
      "160 161 162 163 164 165 166 167 168 169 170 171 172 173 174 175 176 177 178 179 \n",
      "180 181 182 183 184 185 186 187 188 189 190 191 192 193 194 195 196 197 198 199 \n"
     ]
    }
   ],
   "source": [
    "public class Enhanced{\n",
    "    public static void main(String[] args){\n",
    "        int[][] numbers = new int[10][20];\n",
    "       int x = 0;\n",
    "        for (int[] rows: numbers){\n",
    "            for(int column: rows){\n",
    "                column = column + x;\n",
    "                x++;\n",
    "                System.out.print(column +\" \");\n",
    "            }\n",
    "            System.out.println();\n",
    "        }\n",
    "    }\n",
    "}\n",
    "\n",
    "Enhanced.main(null);"
   ]
  }
 ],
 "metadata": {
  "kernelspec": {
   "display_name": "Java",
   "language": "java",
   "name": "java"
  },
  "language_info": {
   "codemirror_mode": "java",
   "file_extension": ".jshell",
   "mimetype": "text/x-java-source",
   "name": "Java",
   "pygments_lexer": "java",
   "version": "11.0.16+8-post-Ubuntu-0ubuntu120.04"
  },
  "orig_nbformat": 4
 },
 "nbformat": 4,
 "nbformat_minor": 2
}
