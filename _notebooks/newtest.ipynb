{
 "cells": [
  {
   "attachments": {},
   "cell_type": "markdown",
   "metadata": {},
   "source": [
    "### class Athlete (Part 1)  Close Athlete\n",
    "1. Define 1 argument constructor for name, \n",
    "2. Define toString method for id and name.\n",
    "3. Generate unique id for each object\n",
    "4. Create a public getter that has Athlete Count\n",
    "5. Define tester method that initializes at least 2 athletes, outputs id and name, and provides a count of athletes in directory."
   ]
  },
  {
   "cell_type": "code",
   "execution_count": 8,
   "metadata": {
    "vscode": {
     "languageId": "java"
    }
   },
   "outputs": [
    {
     "name": "stdout",
     "output_type": "stream",
     "text": [
      "Athlete name: 'LeBron James'. Athlete ID: 1. Entry time: Wed Apr 26 22:52:18 PDT 2023\n",
      "Athlete name: 'Lionel Messi'. Athlete ID: 2. Entry time: Wed Apr 26 22:52:18 PDT 2023\n",
      "2\n"
     ]
    }
   ],
   "source": [
    "import java.util.Date;\n",
    "public class Athlete {\n",
    "    public String name;\n",
    "    public int id;\n",
    "    String entryTime;\n",
    "    private static List<Athlete> directory = new ArrayList<Athlete>();\n",
    "\n",
    "    public Athlete() {\n",
    "        this.name = null;\n",
    "        this.id = 0;\n",
    "    }\n",
    "\n",
    "    // Part 1.1 --> 1 argument constructor for name\n",
    "    public Athlete(String name) {\n",
    "        this.name = name;\n",
    "        // Part 1.3 --> Unique ID for each object by adding athlete to arraylist\n",
    "        Athlete.directory.add(this);\n",
    "        this.id = this.getAthleteCount();\n",
    "\n",
    "        // Part 2.4 --> Add time when Athlete enters directory\n",
    "        Date date = new Date();\n",
    "        this.entryTime = date.toString();\n",
    "    }\n",
    "    // Part 1.2 --> toString method to display athlete name and id\n",
    "    public String toString(){\n",
    "        return (\"Athlete name: '\" + this.name + \"'. Athlete ID: \" + this.id + \". Entry time: \" + this.entryTime);\n",
    "    }\n",
    "    \n",
    "    // Part 1.4 --> Public getter for Athlete count that returns the size of the array with the athlete names\n",
    "    public static int getAthleteCount() {\n",
    "        return Athlete.directory.size();\n",
    "    }\n",
    "    \n",
    "    // Part 1.5 --> Tester Method that initializes 2 athletes...\n",
    "    public static void main(String args[]) {\n",
    "        Athlete lebron = new Athlete(\"LeBron James\");\n",
    "        Athlete messi = new Athlete(\"Lionel Messi\");\n",
    "\n",
    "        System.out.println(lebron);\n",
    "        System.out.println(messi);\n",
    "\n",
    "        System.out.println(messi.getAthleteCount());\n",
    "    }\n",
    "}\n",
    "Athlete.main(null);"
   ]
  },
  {
   "attachments": {},
   "cell_type": "markdown",
   "metadata": {},
   "source": [
    "### extended Classes (Part 2) Try to use alternate forms of loops and techniques for construction.\n",
    "1. Ensure Basketball and Soccer run the Constructor from Athlete.\n",
    "2. Create instance variables unique to Basketball has Draft Number (Ex: Round 1, Pick 3), Soccer has academy team. New items are not required by Constructor.  \n",
    "3. Make Getters and Setters for all new items.  You can add your own.\n",
    "4. Add a time when athlete entered the directory.  This should be same for Parent and Subclasses.  \n",
    "5. Make sure there are getters and setters for items as needed.  For instance, be able to set items not required by constructor.\n",
    "6. Define tester method to test all items."
   ]
  },
  {
   "cell_type": "code",
   "execution_count": 14,
   "metadata": {
    "vscode": {
     "languageId": "java"
    }
   },
   "outputs": [
    {
     "name": "stdout",
     "output_type": "stream",
     "text": [
      "Before Directory Athlete Count: 0\n",
      "Athlete name: 'Kevin Durant'. Athlete ID: 1. draft: Round 1, Pick 2. Entry time: 1682575014247\n",
      "Athlete name: 'Nikola Jokic'. Athlete ID: 2. draft: Round 2, Pick 41. Entry time: 1682575014247\n",
      "After Directory Athlete Count: 2\n"
     ]
    }
   ],
   "source": [
    "// Part 2.1 --> Basketball runs the Constructor from Athlete\n",
    "class Basketball extends Athlete {\n",
    "\n",
    "    private String draft;\n",
    "\n",
    "    // Part 2.2 --> Instance variable Draft which is unique to Basketball\n",
    "    public Basketball(String name, String draft) {\n",
    "        super(name);\n",
    "        this.draft = draft;\n",
    "    }\n",
    "    \n",
    "    // Part 2.3 --> Make Getters and Setters for Draft\n",
    "    public String getDraft() {\n",
    "        return this.draft;\n",
    "    }\n",
    "\n",
    "    public void setDraft(String draft) {\n",
    "        this.draft = draft;\n",
    "    }\n",
    "\n",
    "    @Override\n",
    "    public String toString() {\n",
    "        return (\"Athlete name: '\" + this.name + \"'. Athlete ID: \" + this.id + \". draft: \" + this.draft + \". Entry time: \" + this.entryTime);\n",
    "    }\n",
    "    // Part 2.5 for Basketball --> Define tester method to test all items, adds 2 basketball players,shows athlete count before and after, prints items in directory\n",
    "    public static void main(String [] args) {\n",
    "    // Part 2.6 --> Tester Method to test all items\n",
    "        System.out.println(\"Before Directory Athlete Count: \" + Athlete.getAthleteCount());  // directory count is truly static across inheritance\n",
    "\n",
    "        Basketball[] bballPlayers = { \n",
    "            new Basketball(\"Kevin Durant\", \"Round 1, Pick 2\"),\n",
    "            new Basketball(\"Nikola Jokic\", \"Round 2, Pick 41\")\n",
    "        };\n",
    "\n",
    "        for (int i = 0; i < bballPlayers.length; i++) {  // Use of conventional loop for variation\n",
    "            System.out.println(bballPlayers[i]);  // still works with toString()\n",
    "        }\n",
    "\n",
    "        System.out.println(\"After Directory Athlete Count: \" + Athlete.getAthleteCount());\n",
    "\n",
    "    }\n",
    "}\n",
    "Basketball.main(null);"
   ]
  },
  {
   "cell_type": "code",
   "execution_count": 10,
   "metadata": {
    "vscode": {
     "languageId": "java"
    }
   },
   "outputs": [
    {
     "name": "stdout",
     "output_type": "stream",
     "text": [
      "Before Directory Athlete Count: 4\n",
      "Athlete name: 'Antoine Griezmann'. Athlete ID: 5. academy: Real Sociedad. Entry time: Wed Apr 26 22:52:25 PDT 2023\n",
      "Athlete name: 'Rafael Leão'. Athlete ID: 6. academy: Sporting CP. Entry time: Wed Apr 26 22:52:25 PDT 2023\n",
      "After Directory Athlete Count: 6\n"
     ]
    }
   ],
   "source": [
    "// Part 2.1 --> Soccer runs the Constructor from Athlete\n",
    "class Soccer extends Athlete {\n",
    "\n",
    "    public String academy;\n",
    "\n",
    "    // Part 2.2 --> Instance variable Academy which is unique to Soccer\n",
    "    public Soccer(String name, String academy) {\n",
    "        super(name);\n",
    "        this.academy = academy;\n",
    "    } \n",
    "\n",
    "    // Part 2.3 --> Make Getters and Setters for Academy\n",
    "    public String getAcademy() {\n",
    "        return this.academy;\n",
    "    }\n",
    "\n",
    "    public void setAcademy(String academy) {\n",
    "        this.academy = academy;\n",
    "    }\n",
    "    @Override\n",
    "    public String toString() {\n",
    "        return (\"Athlete name: '\" + this.name + \"'. Athlete ID: \" + this.id + \". academy: \" + this.academy + \". Entry time: \" + this.entryTime);\n",
    "    }\n",
    "    // Part 2.5 for Soccer --> Define tester method to test all items, adds 2 soccer players,shows athlete count before and after, prints items in directory\n",
    "    public static void main(String [] args) {\n",
    "        // Part 2.6 --> Tester Method to test all items\n",
    "            System.out.println(\"Before Directory Athlete Count: \" + Athlete.getAthleteCount());\n",
    "    \n",
    "            Soccer[] soccerPlayers = {    // Same technique as in Basketball tester\n",
    "                new Soccer(\"Antoine Griezmann\", \"Real Sociedad\"),\n",
    "                new Soccer(\"Rafael Leão\", \"Sporting CP\")\n",
    "            };\n",
    "    \n",
    "            for (int i = 0; i < soccerPlayers.length; i++) {\n",
    "                System.out.println(soccerPlayers[i]);\n",
    "            }\n",
    "    \n",
    "            System.out.println(\"After Directory Athlete Count: \" + Athlete.getAthleteCount());\n",
    "    \n",
    "        }    \n",
    "\n",
    "}\n",
    "Soccer.main(null);"
   ]
  },
  {
   "attachments": {},
   "cell_type": "markdown",
   "metadata": {},
   "source": [
    "### Simulation (Part 3)\n",
    "1. Build a Tester Method that does a Simulation.\n",
    "2. Define a default method in Athlete that returns \"current careerLife\" from date/time of construction. (Hint, think about capturing time in sorts)\n",
    "3. Define shelfLife expiration methods as needed in TextAthlete and Novel. \n",
    "    - A TextAthlete has a fixed shelf career based on the date/time of constructor.  (Hint, simulation 3 yrs as 3000 nanoseconds)\n",
    "    - A Novel has a computed shelf career of expiration, the simulation should extend shelf career if a certain number of return stamps where placed in the athlete.  (Hint, 3 return stamps renews for an extra year)\n",
    "4. Use a sleep in Java to assist with simulation\n",
    "5. Make a method that looks at athlete in directory and determines if they need to come of the shelf, try to have name and on/off status in output."
   ]
  },
  {
   "cell_type": "code",
   "execution_count": 15,
   "metadata": {
    "vscode": {
     "languageId": "java"
    }
   },
   "outputs": [],
   "source": [
    "import java.util.Date;\n",
    "public class Athlete {\n",
    "    public String name;\n",
    "    public int id;\n",
    "    long entryTime;\n",
    "    long career;\n",
    "\n",
    "    private static List<Athlete> directory = new ArrayList<Athlete>();\n",
    "    public static final long YEAR = 1000; \n",
    "    \n",
    "    public Athlete() {\n",
    "        this.name = null;\n",
    "        this.id = 0;\n",
    "    }\n",
    "\n",
    "    // Part 1.1 --> 1 argument constructor for name\n",
    "    public Athlete(String name) {\n",
    "        this.name = name;\n",
    "        // Part 1.3 --> Unique ID for each object by adding athlete to arraylist\n",
    "        Athlete.directory.add(this);\n",
    "        this.id = this.getAthleteCount();\n",
    "\n",
    "        // Part 2.4 --> Add time when Athlete enters directory\n",
    "        this.entryTime = System.currentTimeMillis();\n",
    "        this.career = this.entryTime; // set offset for career length\n",
    "        this.setCareerLength(1);  // provide a default for career length\n",
    "    }\n",
    "    // Part 1.2 --> toString method to display athlete name and id\n",
    "    public String toString(){\n",
    "        return (\"Athlete name: '\" + this.name + \"'. Athlete ID: \" + this.id + \". Entry time: \" + this.entryTime);\n",
    "    }\n",
    "    \n",
    "    // Part 1.4 --> Public getter for Athlete count that returns the size of the array with the athlete names\n",
    "    public static int getAthleteCount() {\n",
    "        return Athlete.directory.size();\n",
    "    }\n",
    "\n",
    "    public static List<Athlete> getDirectory() {\n",
    "        return Collections.unmodifiableList(Athlete.directory);  // ArrayList should not be changed outside of this Book class\n",
    "    }\n",
    "    \n",
    "    /* increase athlete shelf career by years */\n",
    "    public void setCareerLength(int years) {\n",
    "        this.career += years * Athlete.YEAR;  // add years to shelf career\n",
    "    }\n",
    "\n",
    "    /* athlete aging, note: Novel overrides this method */\n",
    "    public void ageCareerLength() {  // Part 3.3, Define shelfLife expiration methods as needed in TextAthlete and Novel\n",
    "        this.career -= Athlete.YEAR;  // remove a year\n",
    "        if (getCareerLength() < 0.1) // small number zero out, this is for double floating point condition\n",
    "            this.career = this.entryTime;\n",
    "    }\n",
    "\n",
    "    /* calculate shelf career in years */\n",
    "    public double getCareerLength() {  // Part 3.2, Define a default method in Athlete that returns \"current shelfLife\"\n",
    "        return (this.career - this.entryTime) / Athlete.YEAR;\n",
    "    }\n",
    "\n",
    "    /* calculatee boolean that determines if athlete has shelf career */\n",
    "    public boolean hasCareerLength() {  // Part 3.5, Make a method that determines if has shelf career remaining\n",
    "        return this.career > this.entryTime;\n",
    "    }\n",
    "\n",
    "    /* prints \"active\" athletes in directory */\n",
    "    public static void printDirectory() {\n",
    "        // Here are save athletes, but where could this process go if I want a directory of athletes across subclasses\n",
    "        System.out.println(\"Active athletes\");   \n",
    "        for (Athlete athlete: Athlete.directory) {\n",
    "            if (athlete.hasCareerLength())  // Active athlete check\n",
    "                System.out.println(athlete);\n",
    "        }\n",
    "    }\n",
    "}"
   ]
  },
  {
   "cell_type": "code",
   "execution_count": 16,
   "metadata": {
    "vscode": {
     "languageId": "java"
    }
   },
   "outputs": [
    {
     "name": "stdout",
     "output_type": "stream",
     "text": [
      "Year: 0\n",
      "Active athletes\n",
      "Athlete name: 'Kevin Durant'. Athlete ID: 1. draft: Round 1, Pick 2. Entry time: 1682575014247\n",
      "Athlete name: 'Nikola Jokic'. Athlete ID: 2. draft: Round 2, Pick 41. Entry time: 1682575014247\n",
      "\n",
      "Year: 1\n",
      "Active athletes\n",
      "\n",
      "Year: 2\n",
      "Active athletes\n",
      "\n",
      "Year: 3\n",
      "Active athletes\n",
      "\n",
      "Year: 4\n",
      "Active athletes\n",
      "\n"
     ]
    }
   ],
   "source": [
    "// Directory Simulation\n",
    "public class DirectoryManager\n",
    "{\n",
    "    // Part 3.1, Build a Tester Method that does a Simulation.\n",
    "    public static void main(String[] args) throws InterruptedException {  \n",
    "        int years = 5; // Simulation years\n",
    "        // Sleep in loop creates delay for simulation\n",
    "        for (int i = 0; i < years; i++) {\n",
    "            System.out.println(\"Year: \" + i);\n",
    "            Athlete.printDirectory();\n",
    "            System.out.println();\n",
    "            Thread.sleep(Athlete.YEAR);  // Part 3.4, Use a sleep in Java to assist with simulation\n",
    "            // Loop through athletes in Directory\n",
    "            for (Athlete athlete : Athlete.getDirectory()) {\n",
    "                athlete.ageCareerLength();  // apply aging formula\n",
    "            }\n",
    "\n",
    "        }\n",
    "        \n",
    "    }\n",
    "}\n",
    "DirectoryManager.main(null);"
   ]
  },
  {
   "cell_type": "code",
   "execution_count": null,
   "metadata": {
    "vscode": {
     "languageId": "java"
    }
   },
   "outputs": [],
   "source": []
  }
 ],
 "metadata": {
  "kernelspec": {
   "display_name": "Java",
   "language": "java",
   "name": "java"
  },
  "language_info": {
   "codemirror_mode": "java",
   "file_extension": ".jshell",
   "mimetype": "text/x-java-source",
   "name": "Java",
   "pygments_lexer": "java",
   "version": "11.0.16+8-post-Ubuntu-0ubuntu120.04"
  },
  "orig_nbformat": 4
 },
 "nbformat": 4,
 "nbformat_minor": 2
}
