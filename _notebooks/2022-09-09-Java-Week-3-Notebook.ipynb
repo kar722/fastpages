{
 "cells": [
  {
   "cell_type": "markdown",
   "metadata": {},
   "source": [
    "# Jupyter Notebook Lesson on \"if\" Statements"
   ]
  },
  {
   "cell_type": "markdown",
   "metadata": {},
   "source": [
    "##### if statements are used to run a method based on if something specifically described happens."
   ]
  },
  {
   "cell_type": "code",
   "execution_count": 3,
   "metadata": {
    "vscode": {
     "languageId": "java"
    }
   },
   "outputs": [
    {
     "name": "stdout",
     "output_type": "stream",
     "text": [
      "Enter the first number: 12.2\n",
      "Enter the second number: 4.7\n",
      "12.2 is greater than 4.7\n"
     ]
    }
   ],
   "source": [
    "import java.util.Scanner;\n",
    "Scanner scanner = new Scanner(System.in);\n",
    "\n",
    "double x;\n",
    "double y;\n",
    "\n",
    "System.out.print(\"Enter the first number: \");\n",
    "\n",
    "x = scanner.nextDouble();\n",
    "\n",
    "System.out.println(x);\n",
    "\n",
    "System.out.print(\"Enter the second number: \");\n",
    "\n",
    "y = scanner.nextDouble();\n",
    "\n",
    "System.out.println(y);\n",
    "\n",
    "if (x > y) {\n",
    "  System.out.println(x + \" is greater than \" + y);\n",
    "}"
   ]
  },
  {
   "cell_type": "markdown",
   "metadata": {},
   "source": [
    "##### if-else -- if the specific condition is true then proceed below and run the method BUT if the condition is false then proceed with the different set of instructions defined"
   ]
  },
  {
   "cell_type": "code",
   "execution_count": 4,
   "metadata": {
    "vscode": {
     "languageId": "java"
    }
   },
   "outputs": [
    {
     "name": "stdout",
     "output_type": "stream",
     "text": [
      "Enter the first number: 3.9\n",
      "Enter the second number: 5.78\n",
      "5.78 is greater than 3.9\n"
     ]
    }
   ],
   "source": [
    "import java.util.Scanner;\n",
    "Scanner scanner = new Scanner(System.in);\n",
    "\n",
    "double x;\n",
    "double y;\n",
    "\n",
    "System.out.print(\"Enter the first number: \");\n",
    "\n",
    "x = scanner.nextDouble();\n",
    "\n",
    "System.out.println(x);\n",
    "\n",
    "System.out.print(\"Enter the second number: \");\n",
    "\n",
    "y = scanner.nextDouble();\n",
    "\n",
    "System.out.println(y);\n",
    "\n",
    "if (x > y) {\n",
    "  System.out.println(x + \" is greater than \" + y);\n",
    "} else {\n",
    "    System.out.println(y + \" is greater than \" + x);\n",
    "}"
   ]
  },
  {
   "cell_type": "markdown",
   "metadata": {},
   "source": [
    "##### if-elseif-else -- if the specific condition is true then proceed below and run the method BUT if the condition is not met try the next condition and if the condition is met run this code segment now if both of the conditions are false then proceed with the different set of instructions defined"
   ]
  },
  {
   "cell_type": "code",
   "execution_count": 6,
   "metadata": {
    "vscode": {
     "languageId": "java"
    }
   },
   "outputs": [
    {
     "name": "stdout",
     "output_type": "stream",
     "text": [
      "Enter the first number: 11.78\n",
      "Enter the second number: 11.78\n",
      "11.78 is equal to 11.78\n"
     ]
    }
   ],
   "source": [
    "import java.util.Scanner;\n",
    "Scanner scanner = new Scanner(System.in);\n",
    "\n",
    "double x;\n",
    "double y;\n",
    "\n",
    "System.out.print(\"Enter the first number: \");\n",
    "\n",
    "x = scanner.nextDouble();\n",
    "\n",
    "System.out.println(x);\n",
    "\n",
    "System.out.print(\"Enter the second number: \");\n",
    "\n",
    "y = scanner.nextDouble();\n",
    "\n",
    "System.out.println(y);\n",
    "\n",
    "if (x > y) {\n",
    "  System.out.println(x + \" is greater than \" + y);\n",
    "} else if (x == y) {\n",
    "  System.out.println(x + \" is equal to \" + y);\n",
    "}\n",
    "else {\n",
    "    System.out.println(y + \" is greater than \" + x);\n",
    "}"
   ]
  },
  {
   "cell_type": "markdown",
   "metadata": {},
   "source": [
    "##### Create and if-elseif-elseif-elsif-else statement, 5 or more conditions."
   ]
  },
  {
   "cell_type": "code",
   "execution_count": 23,
   "metadata": {
    "vscode": {
     "languageId": "java"
    }
   },
   "outputs": [
    {
     "name": "stdout",
     "output_type": "stream",
     "text": [
      "Enter the first number: 44.1\n",
      "Enter the operator (+,-,*,/): /\n",
      "Enter the second number: 5.3\n",
      "8.320754716981133\n"
     ]
    }
   ],
   "source": [
    "import java.util.Scanner;\n",
    "Scanner scanner = new Scanner(System.in);\n",
    "\n",
    "double x;\n",
    "double y;\n",
    "\n",
    "System.out.print(\"Enter the first number: \");\n",
    "\n",
    "x = scanner.nextDouble();\n",
    "\n",
    "System.out.println(x);\n",
    "\n",
    "System.out.print(\"Enter the operator (+,-,*,/): \");\n",
    "\n",
    "char operator = scanner.next().charAt(0);\n",
    "\n",
    "System.out.println(operator);\n",
    "\n",
    "System.out.print(\"Enter the second number: \");\n",
    "\n",
    "y = scanner.nextDouble();\n",
    "\n",
    "System.out.println(y);\n",
    "\n",
    "if (operator == '+') {\n",
    "  System.out.println(x + y);\n",
    "} else if (operator == '-') {\n",
    "  System.out.println(x - y);\n",
    "} else if (operator == '*') {\n",
    "  System.out.println(x * y);\n",
    "} else if (operator == '/') {\n",
    "  System.out.println(x / y);\n",
    "} else {\n",
    "  System.out.println(\"Invalid operator\");\n",
    "}"
   ]
  },
  {
   "cell_type": "markdown",
   "metadata": {},
   "source": [
    "##### Covert the 5 or more decisions to a switch-case-case-case-case-otherwise."
   ]
  },
  {
   "cell_type": "code",
   "execution_count": 14,
   "metadata": {
    "vscode": {
     "languageId": "java"
    }
   },
   "outputs": [
    {
     "name": "stdout",
     "output_type": "stream",
     "text": [
      "Enter the first number: 45.0\n",
      "Enter the operator (+,-,*,/): /\n",
      "Enter second number: 4.4\n",
      "The final result: \n",
      "45.0 / 4.4 = 10.227272727272727\n"
     ]
    }
   ],
   "source": [
    "double num1, num2;\n",
    "\n",
    "// Take input from the user\n",
    "Scanner scanner = new Scanner(System.in);\n",
    "\n",
    "System.out.print(\"Enter the first number: \");\n",
    "\n",
    "// take the inputs\n",
    "num1 = scanner.nextDouble();\n",
    "\n",
    "System.out.println(num1);\n",
    "\n",
    "System.out.print(\"Enter the operator (+,-,*,/): \");\n",
    "\n",
    "char operator = scanner.next().charAt(0);\n",
    "\n",
    "System.out.println(operator);\n",
    "\n",
    "System.out.print(\"Enter second number: \");\n",
    "\n",
    "num2 = scanner.nextDouble();\n",
    "\n",
    "System.out.println(num2);\n",
    "\n",
    "double output = 0;\n",
    "\n",
    "switch (operator) {\n",
    "\n",
    "// case to add two numbers\n",
    "case '+':\n",
    "\n",
    "    output = num1 + num2;\n",
    "\n",
    "    break;\n",
    "\n",
    "// case to subtract two numbers\n",
    "case '-':\n",
    "\n",
    "    output = num1 - num2;\n",
    "\n",
    "    break;\n",
    "\n",
    "// case to multiply two numbers\n",
    "case '*':\n",
    "\n",
    "    output = num1 * num2;\n",
    "\n",
    "    break;\n",
    "\n",
    "// case to divide two numbers\n",
    "case '/':\n",
    "\n",
    "    output = num1 / num2;\n",
    "\n",
    "    break;\n",
    "\n",
    "default:\n",
    "\n",
    "    System.out.println(\"Invalid input\");\n",
    "\n",
    "    break;\n",
    "}\n",
    "\n",
    "System.out.println(\"The final result: \");\n",
    "\n",
    "// print the final result\n",
    "System.out.println(num1 + \" \" + operator + \" \" + num2 + \" = \" + output);"
   ]
  },
  {
   "cell_type": "markdown",
   "metadata": {},
   "source": [
    "#### De Morgan's Law\n",
    "\n",
    "DeMorgan’s laws were developed by Augustus De Morgan in the 1800s. They show how to handle the negation of a complex conditional, which is a conditional statement with more than one condition joined by an and (&&) or or (||), such as (x < 3) && (y > 2).\n",
    "\n",
    "not (a and b) is the same as (not a) or (not b). In Java this is written as !(a && b) == !a || !b\n",
    "\n",
    "not (a or b) is the same as (not a) and (not b). In Java this is written as !(a || b) == !a && !b"
   ]
  },
  {
   "cell_type": "markdown",
   "metadata": {},
   "source": [
    "The negation modifies each conditional: \n",
    "\n",
    "- < becomes >=\n",
    "- > becomes <=\n",
    "- == becomes !=\n",
    "- <= becomes >\n",
    "- >= becomes <\n",
    "- != becomes =="
   ]
  },
  {
   "cell_type": "code",
   "execution_count": 25,
   "metadata": {
    "vscode": {
     "languageId": "java"
    }
   },
   "outputs": [
    {
     "name": "stdout",
     "output_type": "stream",
     "text": [
      "true\n"
     ]
    }
   ],
   "source": [
    "public class DeMorgansAndTest\n",
    "{\n",
    "   public static void main(String[] args)\n",
    "   {\n",
    "     int x = 7;\n",
    "     int y = 16;\n",
    "     System.out.println(!(x > 6 && y < 3));\n",
    "     // prints true if x is not > 6 OR y is not < 3\n",
    "     // prints false otherwise\n",
    "     // this output should be true as x IS > 6 BUT y IS NOT < 3\n",
    "   }\n",
    "}\n",
    "\n",
    "DeMorgansAndTest.main(null)"
   ]
  },
  {
   "cell_type": "code",
   "execution_count": 37,
   "metadata": {
    "vscode": {
     "languageId": "java"
    }
   },
   "outputs": [
    {
     "name": "stdout",
     "output_type": "stream",
     "text": [
      "false\n"
     ]
    }
   ],
   "source": [
    "public class DeMorgansOrTest\n",
    "{\n",
    "   public static void main(String[] args)\n",
    "   {\n",
    "     int x = 0;\n",
    "     int y = 5;\n",
    "     System.out.println(!(x < 3 || y > 2));\n",
    "     // prints true if x is not < 3 AND y is not > 2\n",
    "     // prints false otherwise\n",
    "     // this output should be false as x IS > 3 AND y IS > 2\n",
    "   }\n",
    "}\n",
    "DeMorgansOrTest.main(null)\n"
   ]
  },
  {
   "cell_type": "markdown",
   "metadata": {},
   "source": [
    "### Resources\n",
    "- https://www.w3schools.com/java/java_conditions.asp\n",
    "- https://www.javatpoint.com/java-if-else\n",
    "- https://www.programiz.com/java-programming/if-else-statement\n",
    "- https://docs.oracle.com/javase/tutorial/java/nutsandbolts/if.html\n",
    "- https://docs.oracle.com/javase/tutorial/java/nutsandbolts/switch.html\n",
    "- https://www.w3schools.com/java/java_switch.asp"
   ]
  }
 ],
 "metadata": {
  "kernelspec": {
   "display_name": "Java",
   "language": "java",
   "name": "java"
  },
  "language_info": {
   "codemirror_mode": "java",
   "file_extension": ".jshell",
   "mimetype": "text/x-java-source",
   "name": "Java",
   "pygments_lexer": "java",
   "version": "11.0.16+8-post-Ubuntu-0ubuntu120.04"
  },
  "orig_nbformat": 4
 },
 "nbformat": 4,
 "nbformat_minor": 2
}
