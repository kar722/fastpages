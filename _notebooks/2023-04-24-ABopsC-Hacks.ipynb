{
 "cells": [
  {
   "attachments": {},
   "cell_type": "markdown",
   "metadata": {},
   "source": [
    "# Unit 1-4 Hacks HW\n",
    "> Hacks for ABopsC\n",
    "\n",
    "- toc: true \n",
    "- badges: true\n",
    "- comments: true\n",
    "- categories: [jupyter]\n",
    "- image: images/chart-preview.png"
   ]
  },
  {
   "attachments": {},
   "cell_type": "markdown",
   "metadata": {},
   "source": [
    "### Hack 1"
   ]
  },
  {
   "cell_type": "code",
   "execution_count": 14,
   "metadata": {},
   "outputs": [
    {
     "name": "stdout",
     "output_type": "stream",
     "text": [
      "There are 16 wheels\n"
     ]
    }
   ],
   "source": [
    "public class Hack1 {\n",
    "    public static int numWheels(int cars){\n",
    "        return cars * 4;\n",
    "    }\n",
    "    public static void main(String[] args) {\n",
    "        System.out.println(\"There are \" + numWheels(4) + \" wheels\");\n",
    "    }\n",
    "}\n",
    "Hack1.main(null);"
   ]
  },
  {
   "attachments": {},
   "cell_type": "markdown",
   "metadata": {},
   "source": [
    "### Hack 2"
   ]
  },
  {
   "cell_type": "code",
   "execution_count": 17,
   "metadata": {},
   "outputs": [
    {
     "name": "stdout",
     "output_type": "stream",
     "text": [
      "Make: Toyota\n",
      "Model: Corolla\n",
      "Year: 2022\n",
      "Price: 24999.99\n",
      "Is used: false\n",
      "\n",
      "Make: Honda\n",
      "Model: Accord\n",
      "Year: 2018\n",
      "Price: 18999.99\n",
      "Is used: true\n",
      "\n",
      "Make: Ford\n",
      "Model: Mustang\n",
      "Year: 2020\n",
      "Price: 34999.99\n",
      "Is used: true\n",
      "\n"
     ]
    }
   ],
   "source": [
    "public class Car {\n",
    "    private String make;\n",
    "    private String model;\n",
    "    private int year;\n",
    "    private double price;\n",
    "    private boolean isUsed;\n",
    "    // create constructor\n",
    "    public Car(String make, String model, int year, double price, boolean isUsed){\n",
    "        this.make = make;\n",
    "        this.model = model;\n",
    "        this.year = year;\n",
    "        this.price = price;\n",
    "        this.isUsed = isUsed;\n",
    "    }\n",
    "    public String printCarDetails() {\n",
    "        return \"Make: \" + make + \"\\n\" + \"Model: \" + model + \"\\n\" + \"Year: \" + year + \"\\n\"+ \"Price: \" + price + \"\\n\" + \"Is used: \" + isUsed + \"\\n\";\n",
    "    }\n",
    "    public static void main(String[] args){\n",
    "        // Create an array of three cars\n",
    "        Car[] cars = new Car[] {\n",
    "            new Car(\"Toyota\", \"Corolla\", 2022, 24999.99, false),\n",
    "            new Car(\"Honda\", \"Accord\", 2018, 18999.99, true),\n",
    "            new Car(\"Ford\", \"Mustang\", 2020, 34999.99, true)\n",
    "        };\n",
    "        for (Car car : cars) {\n",
    "            String details = car.printCarDetails();\n",
    "            System.out.println(details);\n",
    "        }\n",
    "    }\n",
    "}\n",
    "Car.main(null);"
   ]
  },
  {
   "attachments": {},
   "cell_type": "markdown",
   "metadata": {},
   "source": [
    "### Hack 3"
   ]
  },
  {
   "cell_type": "code",
   "execution_count": 19,
   "metadata": {},
   "outputs": [
    {
     "name": "stdout",
     "output_type": "stream",
     "text": [
      "Toyota\n",
      "Camry\n",
      "2019\n",
      "25000.0\n",
      "myCar is not affordable\n",
      "The car is an affordable car.\n"
     ]
    }
   ],
   "source": [
    "public class Car {\n",
    "    private String make;\n",
    "    private String model;\n",
    "    private int year;\n",
    "    private double price;\n",
    "    \n",
    "    // Constructor\n",
    "    public Car(String make, String model, int year, double price) {\n",
    "        this.make = make;\n",
    "        this.model = model;\n",
    "        this.year = year;\n",
    "        this.price = price;\n",
    "    }\n",
    "    \n",
    "    // Getter methods\n",
    "    public String getMake() {\n",
    "        return make;\n",
    "    }\n",
    "    \n",
    "    public String getModel() {\n",
    "        return model;\n",
    "    }\n",
    "    \n",
    "    public int getYear() {\n",
    "        return year;\n",
    "    }\n",
    "    \n",
    "    public double getPrice() {\n",
    "        return price;\n",
    "    }\n",
    "    \n",
    "    // Method to determine if the car is affordable or not\n",
    "    public boolean isAffordable(double budget) {\n",
    "        if (price <= budget) {\n",
    "            return true;\n",
    "        } else {\n",
    "            return false;\n",
    "        }\n",
    "    }\n",
    "    \n",
    "    // Main method\n",
    "    public static void main(String[] args) {\n",
    "        // Create a new Car object\n",
    "        Car myCar = new Car(\"Toyota\", \"Camry\", 2019, 25000.0);\n",
    "        // Print the car details\n",
    "        System.out.println(myCar.getMake());\n",
    "        System.out.println(myCar.getModel());\n",
    "        System.out.println(myCar.getYear());\n",
    "        System.out.println(myCar.getPrice());\n",
    "        // Check if the car is affordable with a budget of $20000 using an if-else statement\n",
    "        if (myCar.isAffordable(20000)){\n",
    "            System.out.println(\"myCar is affordable\");\n",
    "        } else {\n",
    "            System.out.println(\"myCar is not affordable\");\n",
    "        }\n",
    "        // Check if the car is a luxury car based on its price using if-else-if statement\n",
    "        if (myCar.getPrice() > 50000){\n",
    "            System.out.println(\"The car is a luxury car.\");\n",
    "        } else if (myCar.getPrice() > 30000){\n",
    "            System.out.println(\"The car is a mid-range car.\");\n",
    "        } else {\n",
    "            System.out.println(\"The car is an affordable car.\");\n",
    "        }\n",
    "    \n",
    "    }\n",
    "}\n",
    "Car.main(null);"
   ]
  },
  {
   "attachments": {},
   "cell_type": "markdown",
   "metadata": {},
   "source": [
    "### Hack 4"
   ]
  },
  {
   "cell_type": "code",
   "execution_count": 22,
   "metadata": {},
   "outputs": [
    {
     "name": "stdout",
     "output_type": "stream",
     "text": [
      "Enter the number of cars you own: \n",
      "Enter the make and model of car 1: \n",
      "\n",
      "List of cars:\n",
      "Honda\n"
     ]
    }
   ],
   "source": [
    "import java.util.Scanner;\n",
    "\n",
    "public class Cars {\n",
    "    public static void main(String[] args) {\n",
    "        Scanner scanner = new Scanner(System.in);\n",
    "\n",
    "        // Ask user for the number of cars they own\n",
    "        int numCars = 0;\n",
    "        boolean isValidInput = false;\n",
    "        while (!isValidInput) {\n",
    "            try {\n",
    "                System.out.println(\"Enter the number of cars you own: \");\n",
    "                numCars = Integer.parseInt(scanner.nextLine());\n",
    "                if (numCars >= 0) {\n",
    "                    isValidInput = true;\n",
    "                } else {\n",
    "                    System.out.println(\"Invalid input: please enter a positive integer.\");\n",
    "                }\n",
    "            } catch (NumberFormatException e) {\n",
    "                System.out.println(\"Invalid input: please enter an integer.\");\n",
    "            }\n",
    "        }\n",
    "\n",
    "        // Ask user for the make and model of each car\n",
    "        String[] cars = new String[numCars];\n",
    "        for (int i = 0; i < numCars; i++) {\n",
    "            System.out.println(\"Enter the make and model of car \" + (i+1) + \": \");\n",
    "            cars[i] = scanner.nextLine();\n",
    "        }\n",
    "\n",
    "        // Print out the list of cars\n",
    "        System.out.println(\"\\nList of cars:\");\n",
    "        for (String car : cars) {\n",
    "            System.out.println(car);\n",
    "        }\n",
    "\n",
    "        scanner.close();\n",
    "    }\n",
    "}\n",
    "Cars.main(null);\n"
   ]
  },
  {
   "cell_type": "code",
   "execution_count": null,
   "metadata": {},
   "outputs": [],
   "source": []
  }
 ],
 "metadata": {
  "kernelspec": {
   "display_name": "Java",
   "language": "java",
   "name": "java"
  },
  "language_info": {
   "codemirror_mode": "java",
   "file_extension": ".jshell",
   "mimetype": "text/x-java-source",
   "name": "java",
   "pygments_lexer": "java",
   "version": "11.0.16+8-post-Ubuntu-0ubuntu120.04"
  },
  "orig_nbformat": 4
 },
 "nbformat": 4,
 "nbformat_minor": 2
}
