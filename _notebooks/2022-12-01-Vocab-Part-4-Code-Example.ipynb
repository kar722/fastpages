{
 "cells": [
  {
   "cell_type": "markdown",
   "metadata": {},
   "source": [
    "# Vocabulary with Code Examples Part 4"
   ]
  },
  {
   "cell_type": "markdown",
   "metadata": {},
   "source": [
    "Subclass constructor, super Keyword\n",
    "- Extending a class and then constructing the new extends class will call the constructor of the superclass. This is useful when you want to have a constructor that will call the constructor of the superclass."
   ]
  },
  {
   "cell_type": "code",
   "execution_count": 4,
   "metadata": {},
   "outputs": [
    {
     "name": "stdout",
     "output_type": "stream",
     "text": [
      "Printed in Superclass.\n",
      "Printed in Subclass\n"
     ]
    }
   ],
   "source": [
    "public class Superclass {\n",
    "\n",
    "    public void printMethod() {\n",
    "        System.out.println(\"Printed in Superclass.\");\n",
    "    }\n",
    "}\n",
    "\n",
    "public class Subclass extends Superclass {\n",
    "\n",
    "    // overrides printMethod in Superclass\n",
    "    public void printMethod() {\n",
    "        super.printMethod();\n",
    "        System.out.println(\"Printed in Subclass\");\n",
    "    }\n",
    "    public static void main(String[] args) {\n",
    "        Subclass s = new Subclass();\n",
    "        s.printMethod();    \n",
    "    }\n",
    "}\n",
    "Subclass.main(null);"
   ]
  },
  {
   "cell_type": "markdown",
   "metadata": {},
   "source": [
    "Overloading a method, same name different parameters\n",
    "- In Java, two or more methods may have the same name if they differ in parameters (different number of parameters, different types of parameters, or both). These methods are called overloaded methods and this feature is called method overloading."
   ]
  },
  {
   "cell_type": "code",
   "execution_count": 6,
   "metadata": {},
   "outputs": [
    {
     "name": "stdout",
     "output_type": "stream",
     "text": [
      "Arguments: 1\n",
      "Arguments: 1 and 4\n"
     ]
    }
   ],
   "source": [
    "// Overloading by changing the number of parameters\n",
    "class MethodOverloading {\n",
    "    private static void display(int a){\n",
    "        System.out.println(\"Arguments: \" + a);\n",
    "    }\n",
    "\n",
    "    private static void display(int a, int b){\n",
    "        System.out.println(\"Arguments: \" + a + \" and \" + b);\n",
    "    }\n",
    "\n",
    "    public static void main(String[] args) {\n",
    "        display(1);\n",
    "        display(1, 4);\n",
    "    }\n",
    "}\n",
    "MethodOverloading.main(null);"
   ]
  },
  {
   "cell_type": "markdown",
   "metadata": {},
   "source": [
    "Overriding a method, same signature of a method\n",
    "- Overriding is a feature that allows a subclass or child class to provide a specific implementation of a method that is already provided by one of its super-classes or parent classes. When a method in a subclass has the same name, same parameters or signature, and same return type(or sub-type) as a method in its super-class, then the method in the subclass is said to override the method in the super-class."
   ]
  },
  {
   "cell_type": "code",
   "execution_count": 7,
   "metadata": {},
   "outputs": [
    {
     "name": "stdout",
     "output_type": "stream",
     "text": [
      "Parent's show()\n",
      "Child's show()\n"
     ]
    }
   ],
   "source": [
    "// method overriding in java\n",
    "// Base Class\n",
    "class Parent {\n",
    "\tvoid show()\n",
    "\t{\n",
    "\t\tSystem.out.println(\"Parent's show()\");\n",
    "\t}\n",
    "}\n",
    "\n",
    "// Inherited class\n",
    "class Child extends Parent {\n",
    "\t// This method overrides show() of Parent\n",
    "\t@Override\n",
    "\tvoid show()\n",
    "\t{\n",
    "\t\tSystem.out.println(\"Child's show()\");\n",
    "\t}\n",
    "}\n",
    "\n",
    "// Driver class\n",
    "class Main {\n",
    "\tpublic static void main(String[] args)\n",
    "\t{\n",
    "\t\t// If a Parent type reference refers\n",
    "\t\t// to a Parent object, then Parent's\n",
    "\t\t// show is called\n",
    "\t\tParent obj1 = new Parent();\n",
    "\t\tobj1.show();\n",
    "\n",
    "\t\t// If a Parent type reference refers\n",
    "\t\t// to a Child object Child's show()\n",
    "\t\t// is called. This is called RUN TIME\n",
    "\t\t// POLYMORPHISM.\n",
    "\t\tParent obj2 = new Child();\n",
    "\t\tobj2.show();\n",
    "\t}\n",
    "}\n",
    "Main.main(null);\n"
   ]
  },
  {
   "cell_type": "markdown",
   "metadata": {},
   "source": [
    "Abstract Class, Abstract Method\n",
    "- Abstract class: is a restricted class that cannot be used to create objects (to access it, it must be inherited from another class).\n",
    "- Abstract method: can only be used in an abstract class, and it does not have a body. The body is provided by the subclass (inherited from)."
   ]
  },
  {
   "cell_type": "code",
   "execution_count": 11,
   "metadata": {},
   "outputs": [],
   "source": [
    "//An abstract class can have both abstract and regular methods:\n",
    "abstract class Animal {\n",
    "    public abstract void animalSound();\n",
    "    public void sleep() {\n",
    "      System.out.println(\"Zzz\");\n",
    "    }\n",
    "  }"
   ]
  },
  {
   "cell_type": "markdown",
   "metadata": {},
   "source": [
    "Standard methods:\n",
    "- toString(): Used to convert an object into a string.\n",
    "- equals(): Useful for comparing two objects to see if they are equal\n",
    "- hashCode(): Useful for getting a unique hash code for an object."
   ]
  },
  {
   "cell_type": "code",
   "execution_count": 12,
   "metadata": {},
   "outputs": [
    {
     "name": "stdout",
     "output_type": "stream",
     "text": [
      "10\n"
     ]
    }
   ],
   "source": [
    "class toString {\n",
    "    public static void main( String args[] ) {\n",
    "\n",
    "        //Creating an integer of value 10\n",
    "        Integer number=10;\n",
    "        // Calling the toString() method as a function of the Integer variable\n",
    "        System.out.println( number.toString() );\n",
    "    }\n",
    "}\n",
    "toString.main(null)"
   ]
  },
  {
   "cell_type": "code",
   "execution_count": 15,
   "metadata": {},
   "outputs": [
    {
     "name": "stdout",
     "output_type": "stream",
     "text": [
      "true\n",
      "false\n"
     ]
    }
   ],
   "source": [
    "String myStr1 = \"Karthik\";\n",
    "String myStr2 = \"Evan\";\n",
    "String myStr3 = \"Pranav\";\n",
    "String myStr4 = \"Sanjay\";\n",
    "String myStr5 = \"Jay\";\n",
    "String myStr6 = \"Karthik\";\n",
    "System.out.println(myStr1.equals(myStr6)); // Returns true because they are equal\n",
    "System.out.println(myStr1.equals(myStr4)); // false"
   ]
  },
  {
   "cell_type": "code",
   "execution_count": 20,
   "metadata": {},
   "outputs": [
    {
     "name": "stdout",
     "output_type": "stream",
     "text": [
      "hashCode of method getSampleMethod is 49965842\n"
     ]
    }
   ],
   "source": [
    "/*\n",
    "* Program Demonstrate hashcode() method of Method Class.\n",
    "*/\n",
    "import java.lang.reflect.Method;\n",
    " \n",
    "public class hashCode {\n",
    "    // create a Method name getSampleMethod\n",
    "    public void getSampleMethod() {}\n",
    " \n",
    "    // create main method\n",
    "    public static void main(String args[])\n",
    "    {\n",
    "        try {\n",
    "            // create class object for class name hashCode\n",
    "            Class c = hashCode.class;\n",
    "            // get Method object of method name getSampleMethod\n",
    "            Method method = c.getDeclaredMethod(\"getSampleMethod\", null);\n",
    "            // get hashcode of method object using hashCode() method\n",
    "            int hashCode = method.hashCode();\n",
    "            // Print hashCode with method name\n",
    "            System.out.println(\"hashCode of method \" + method.getName()\n",
    "                               + \" is \" + hashCode);\n",
    "        }\n",
    "        catch (Exception e) {\n",
    "            // print if any exception occurs\n",
    "            e.printStackTrace();\n",
    "        }\n",
    "    }\n",
    "}\n",
    "hashCode.main(null)"
   ]
  },
  {
   "cell_type": "markdown",
   "metadata": {},
   "source": [
    "Late binding of object, referencing superclass object\n",
    "- Late binding is when you have allow the compiler to determine which method to use at runtime instead of compile time."
   ]
  },
  {
   "cell_type": "code",
   "execution_count": 22,
   "metadata": {},
   "outputs": [
    {
     "name": "stdout",
     "output_type": "stream",
     "text": [
      "print in superclass.\n",
      "print in subclass.\n"
     ]
    }
   ],
   "source": [
    "public class lateBinding {\n",
    "    public static class superclass {\n",
    "        void print()\n",
    "        {\n",
    "            System.out.println(\"print in superclass.\");\n",
    "        }\n",
    "    }\n",
    "  \n",
    "    public static class subclass extends superclass {\n",
    "        @Override\n",
    "        void print()\n",
    "        {\n",
    "            System.out.println(\"print in subclass.\");\n",
    "        }\n",
    "    }\n",
    "  \n",
    "    public static void main(String[] args)\n",
    "    {\n",
    "        superclass A = new superclass();\n",
    "        superclass B = new subclass();\n",
    "        A.print();\n",
    "        B.print();\n",
    "    }\n",
    "}\n",
    "lateBinding.main(null)"
   ]
  },
  {
   "cell_type": "markdown",
   "metadata": {},
   "source": [
    "Polymorphism: any of overloading, overriding, late binding\n",
    "- Polymorphism is the ability to have multiple methods with the same name but different parameters. This is useful when you want to have multiple methods that do the same thing but with different parameters. This is also useful when you want to have a method that can take multiple types of parameters."
   ]
  },
  {
   "cell_type": "code",
   "execution_count": 26,
   "metadata": {},
   "outputs": [
    {
     "name": "stdout",
     "output_type": "stream",
     "text": [
      "The SUV has driven 70 feet\n",
      "The truck has driven 60 feet\n"
     ]
    }
   ],
   "source": [
    "abstract class Animal {\n",
    "  public void distanceDriven() {\n",
    "      System.out.println(\"Anima has walked 120 feet\");\n",
    "  }\n",
    "}\n",
    "\n",
    "class Dog extends Animal {\n",
    "  public void distanceDriven() {\n",
    "      System.out.println(\"The SUV has driven 70 feet\");\n",
    "  }\n",
    "}\n",
    "\n",
    "class Cat extends Animal {\n",
    "  public void distanceDriven() {\n",
    "      System.out.println(\"The truck has driven 60 feet\");\n",
    "  }\n",
    "}\n",
    "\n",
    "// Instantiating the Car class would throw an error as it is abstract\n",
    "Dog dog = new Dog();\n",
    "Cat cat = new Cat();\n",
    "dog.distanceDriven();\n",
    "cat.distanceDriven();"
   ]
  },
  {
   "cell_type": "markdown",
   "metadata": {},
   "source": [
    "Big O notation for Hash map, Binary Search, Single loop, Nested Loop\n",
    "- Implementing Big O notation is useful for determining the efficiency of an algorithm. Making algorithms more efficient is useful for making programs compile and run faster and likely reduce the load of it, which could be especially good for websites where users may be runnning the same function through an api many times."
   ]
  },
  {
   "cell_type": "code",
   "execution_count": 28,
   "metadata": {},
   "outputs": [
    {
     "name": "stdout",
     "output_type": "stream",
     "text": [
      "40 160"
     ]
    }
   ],
   "source": [
    "class Main\n",
    "{\n",
    "public static void main(String[] args)\n",
    "{\n",
    "\tint a = 0, b = 0;\n",
    "\tint N = 4, M = 4;\n",
    "\t// This loop runs for N time\n",
    "\tfor (int i = 0; i < N; i++)\n",
    "\t{\n",
    "\ta = a + 10;\n",
    "\t}\n",
    "\t// This loop runs for M time\n",
    "\tfor (int i = 0; i < M; i++)\n",
    "\t{\n",
    "\tb = b + 40;\n",
    "\t}\n",
    "\tSystem.out.print(a + \" \" + b);\n",
    "}\n",
    "}\n",
    "Main.main(null)\n"
   ]
  },
  {
   "cell_type": "code",
   "execution_count": null,
   "metadata": {},
   "outputs": [],
   "source": []
  }
 ],
 "metadata": {
  "kernelspec": {
   "display_name": "Java",
   "language": "java",
   "name": "java"
  },
  "language_info": {
   "codemirror_mode": "java",
   "file_extension": ".jshell",
   "mimetype": "text/x-java-source",
   "name": "java",
   "pygments_lexer": "java",
   "version": "11.0.16+8-post-Ubuntu-0ubuntu120.04"
  },
  "orig_nbformat": 4
 },
 "nbformat": 4,
 "nbformat_minor": 2
}
