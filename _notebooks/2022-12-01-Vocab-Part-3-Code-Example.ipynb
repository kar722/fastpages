{
 "cells": [
  {
   "cell_type": "markdown",
   "metadata": {},
   "source": [
    "# Unit 1-5 Homework List"
   ]
  },
  {
   "cell_type": "markdown",
   "metadata": {},
   "source": [
    "##### - Accessor Methods\n",
    "A method called an accessor retrieves confidential information that is kept inside an object. An accessor offers a way for other program elements to access an object's state."
   ]
  },
  {
   "cell_type": "code",
   "execution_count": 58,
   "metadata": {},
   "outputs": [
    {
     "name": "stdout",
     "output_type": "stream",
     "text": [
      "Name: MasterCoder null\n"
     ]
    }
   ],
   "source": [
    "class Student {\n",
    "\n",
    "  //Instance variable name\n",
    "  private String name;\n",
    "\n",
    "  /** getName() example\n",
    "   *  @return name */\n",
    "  public String getName()\n",
    "  {\n",
    "     return name;\n",
    "  }\n",
    "\n",
    "  public static void main(String[] args)\n",
    "  {\n",
    "     // To call a get method, use objectName.getVarName()\n",
    "     Student s = new Student();\n",
    "     System.out.println(\"Name: MasterCoder \" + s.getName() );\n",
    "  }\n",
    "}\n",
    "\n",
    "Student.main(null)"
   ]
  },
  {
   "cell_type": "markdown",
   "metadata": {},
   "source": [
    "##### - Mutator Methods\n",
    "A technique used to regulate changes to a variable is known as a mutator method. They're also frequently referred to as setter methods. A getter, often referred to as an accessor, frequently follows a setter and returns the value of the private member variable."
   ]
  },
  {
   "cell_type": "code",
   "execution_count": 68,
   "metadata": {},
   "outputs": [],
   "source": [
    "import java.math.BigDecimal;\n",
    "\n",
    "public class Product {\n",
    "\n",
    "    private BigDecimal price;\n",
    "    private String name;\n",
    "\n",
    "    public BigDecimal getPrice() {\n",
    "        return price;\n",
    "    }\n",
    "\n",
    "    public String getName() {\n",
    "        return name;\n",
    "    }\n",
    "\t\n",
    "    // mutator or setter methods\n",
    "     public void setPrice(BigDecimal price) {\n",
    "        if(price.compareTo(BigDecimal.ZERO)<0 )throw new IllegalArgumentException(\"Empty product name\");\n",
    "        this.price = price;\n",
    "    }\n",
    "\n",
    "    public void setName(String name) {\n",
    "        if(name.isEmpty()) throw new IllegalArgumentException(\"Empty product name\");\n",
    "        this.name = name;\n",
    "    }\n",
    "}"
   ]
  },
  {
   "cell_type": "markdown",
   "metadata": {},
   "source": [
    "##### - Static, Class Variables \n",
    "All instances of a class share static variables, which are variables. This implies that no matter how many instances of the same class of objects you create, changing a static variable or method will update it for all of them. This is helpful if you want to increment a counter for each instance of a class, for example."
   ]
  },
  {
   "cell_type": "code",
   "execution_count": 70,
   "metadata": {},
   "outputs": [
    {
     "name": "stdout",
     "output_type": "stream",
     "text": [
      "Obj1: count is=2\n",
      "Obj2: count is=2\n"
     ]
    }
   ],
   "source": [
    "class VariableDemo\n",
    "{\n",
    "   static int count=0;\n",
    "   public void increment()\n",
    "   {\n",
    "       count++;\n",
    "   }\n",
    "   public static void main(String args[])\n",
    "   {\n",
    "       VariableDemo obj1=new VariableDemo();\n",
    "       VariableDemo obj2=new VariableDemo();\n",
    "       obj1.increment();\n",
    "       obj2.increment();\n",
    "       System.out.println(\"Obj1: count is=\"+obj1.count);\n",
    "       System.out.println(\"Obj2: count is=\"+obj2.count);\n",
    "   }\n",
    "}\n",
    "VariableDemo.main(null)"
   ]
  },
  {
   "cell_type": "code",
   "execution_count": 71,
   "metadata": {},
   "outputs": [
    {
     "name": "stdout",
     "output_type": "stream",
     "text": [
      "Value of instance variable myVariable: 0\n",
      "Value of static variable data: 30\n",
      "Value of local variable a: 100\n"
     ]
    }
   ],
   "source": [
    "public class VariableExample{\n",
    "   int myVariable;\n",
    "   static int data = 30;\n",
    "   \n",
    "   public static void main(String args[]){\n",
    "      int a = 100;\n",
    "      VariableExample obj = new VariableExample();\n",
    "      \n",
    "      System.out.println(\"Value of instance variable myVariable: \"+obj.myVariable);\n",
    "      System.out.println(\"Value of static variable data: \"+VariableExample.data);\n",
    "      System.out.println(\"Value of local variable a: \"+a);\n",
    "   }\n",
    "}\n",
    "\n",
    "VariableExample.main(null)"
   ]
  },
  {
   "cell_type": "markdown",
   "metadata": {},
   "source": [
    "##### - Public, Private, Protected \n",
    "public: available to everyone. protected: open to subclasses in any package as well as classes belonging to the same package. default, indicating that no modifiers are specified: accessible by classes belonging to the same package. private: only available to members of the same class."
   ]
  },
  {
   "cell_type": "code",
   "execution_count": 44,
   "metadata": {},
   "outputs": [
    {
     "name": "stdout",
     "output_type": "stream",
     "text": [
      "101\n"
     ]
    }
   ],
   "source": [
    "\n",
    "public class Addition {\n",
    "\n",
    "   public int addTwoNumbers(int a, int b){\n",
    "\treturn a+b;\n",
    "   }\n",
    "}\n",
    "\n",
    "class Test{\n",
    "   public static void main(String args[]){\n",
    "      Addition obj = new Addition();\n",
    "      System.out.println(obj.addTwoNumbers(100, 1));\n",
    "   }\n",
    "}\n",
    "\n",
    "Test.main(null)"
   ]
  },
  {
   "cell_type": "code",
   "execution_count": 53,
   "metadata": {},
   "outputs": [
    {
     "name": "stdout",
     "output_type": "stream",
     "text": [
      "Mortensen\n"
     ]
    }
   ],
   "source": [
    "class Data {\n",
    "    private String name;\n",
    "\n",
    "    // getter method\n",
    "    public String getName() {\n",
    "        return this.name;\n",
    "    }\n",
    "    // setter method\n",
    "    public void setName(String name) {\n",
    "        this.name= name;\n",
    "    }\n",
    "}\n",
    "public class Main {\n",
    "    public static void main(String[] main){\n",
    "        Data d = new Data();\n",
    "\n",
    "        // access the private variable using the getter and setter\n",
    "        d.setName(\"Mortensen\");\n",
    "        System.out.println(d.getName());\n",
    "    }\n",
    "}\n",
    "\n",
    "Main.main(null)"
   ]
  },
  {
   "cell_type": "code",
   "execution_count": 40,
   "metadata": {},
   "outputs": [],
   "source": [
    "public class Addition {\n",
    "\n",
    "   protected int addTwoNumbers(int a, int b){\n",
    "\treturn a+b;\n",
    "   }\n",
    "}\n",
    "\n",
    "class Test extends Addition{\n",
    "   public static void main(String args[]){\n",
    "\tTest obj = new Test();\n",
    "\tSystem.out.println(obj.addTwoNumbers(11, 22));\n",
    "   }\n",
    "}"
   ]
  },
  {
   "cell_type": "markdown",
   "metadata": {},
   "source": [
    "##### - Static, Class Methods\n",
    "A static method is a method that is declared as a member of an object but can only be accessed from the constructor of an API object rather than from an instance of the object generated by the constructor. Class methods, on the other hand, are methods that are invoked on the class as a whole rather than on a single object instance. As a result, it falls under the class level, and the class method is shared by all class instances. A class method is linked to the class itself, not to any class objects. Only class variables are accessible to it.\n"
   ]
  },
  {
   "cell_type": "code",
   "execution_count": 5,
   "metadata": {},
   "outputs": [
    {
     "name": "stdout",
     "output_type": "stream",
     "text": [
      "Add 7. Result: 7\n"
     ]
    }
   ],
   "source": [
    "public class StaticExample {\n",
    "\n",
    "    public static int x;\n",
    "\n",
    "    public static void main(String[] args) {\n",
    "        x += 7;\n",
    "        System.out.println(\"Add 7. Result: \" + x);\n",
    "    }\n",
    "\n",
    "}\n",
    "\n",
    "StaticExample se = new StaticExample();\n",
    "\n",
    "se.main(null);"
   ]
  },
  {
   "cell_type": "markdown",
   "metadata": {},
   "source": [
    "##### - \"this Keyword\" \n",
    "In a method or constructor, the \"this keyword\" refers to the current object. As a class attribute is shadowed by a method or constructor argument, the this keyword is most frequently used to clarify the differences between class attributes and parameters with the same name."
   ]
  },
  {
   "cell_type": "code",
   "execution_count": 31,
   "metadata": {},
   "outputs": [],
   "source": [
    "class A{  \n",
    "\n",
    "    A(){  \n",
    "this(5);  \n",
    "\n",
    "System.out.println(\"hello world\");  }  \n",
    "    A(int x){  \n",
    "    System.out.println(x);  }  \n",
    "\n",
    "}  \n",
    "    class TestThis6{  \n",
    "    public static void main(String args[]){  \n",
    "A a=new A();  \n",
    "}}  "
   ]
  },
  {
   "cell_type": "markdown",
   "metadata": {},
   "source": [
    "##### - \"main method\" \n",
    "As the starting point for running a Java program, the main method in Java is typically the first method you encounter when learning how to program in Java. The main method can be located in any class that is a part of a program and can contain code to run or call other methods."
   ]
  },
  {
   "cell_type": "code",
   "execution_count": 6,
   "metadata": {},
   "outputs": [
    {
     "name": "stdout",
     "output_type": "stream",
     "text": [
      "Add 10232. Result: 10239\n"
     ]
    }
   ],
   "source": [
    "// Extends static example and modifies x value\n",
    "public class ExtendsExample extends StaticExample {\n",
    "\n",
    "    public static void main(String[] args) {\n",
    "        x += 10232;\n",
    "        System.out.println(\"Add 10232. Result: \" + x);\n",
    "    }\n",
    "\n",
    "}\n",
    "\n",
    "ExtendsExample ee = new ExtendsExample();\n",
    "\n",
    "ee.main(null);"
   ]
  },
  {
   "cell_type": "markdown",
   "metadata": {},
   "source": [
    "##### - Inherticance, Extends \n",
    "It can inherit properties and methods from the class it is extending by using an extends method. When you want to alter or add to an existing class without having to completely rewrite the code for the class you are extending, this is helpful.\n"
   ]
  },
  {
   "cell_type": "code",
   "execution_count": 27,
   "metadata": {},
   "outputs": [
    {
     "name": "stdout",
     "output_type": "stream",
     "text": [
      "Cat is Vegetarian?false\n",
      "Cat color is black\n"
     ]
    }
   ],
   "source": [
    "\n",
    "public class Cat extends Animal{\n",
    "\n",
    "\tprivate String color;\n",
    "\n",
    "\tpublic Cat(boolean veg, String food, int legs) {\n",
    "\t\tsuper(veg, food, legs);\n",
    "\t\tthis.color=\"White\";\n",
    "\t}\n",
    "\n",
    "\tpublic Cat(boolean veg, String food, int legs, String color){\n",
    "\t\tsuper(veg, food, legs);\n",
    "\t\tthis.color=color;\n",
    "\t}\n",
    "\n",
    "\tpublic String getColor() {\n",
    "\t\treturn color;\n",
    "\t}\n",
    "\n",
    "\tpublic void setColor(String color) {\n",
    "\t\tthis.color = color;\n",
    "\t}\n",
    "\n",
    "}\n",
    "\n",
    "public class AnimalInheritanceTest {\n",
    "\tpublic static void main(String[] args) {\n",
    "\t\tCat cat = new Cat(false, \"milk\", 4, \"black\");\n",
    "\n",
    "\t\tSystem.out.println(\"Cat is Vegetarian?\" + cat.isVegetarian());\n",
    "\t\tSystem.out.println(\"Cat color is \" + cat.getColor());\n",
    "\t}\n",
    "\n",
    "}\n",
    "\n",
    "AnimalInheritanceTest.main(null)"
   ]
  }
 ],
 "metadata": {
  "kernelspec": {
   "display_name": "Java",
   "language": "java",
   "name": "java"
  },
  "language_info": {
   "codemirror_mode": "java",
   "file_extension": ".jshell",
   "mimetype": "text/x-java-source",
   "name": "java",
   "pygments_lexer": "java",
   "version": "11.0.16+8-post-Ubuntu-0ubuntu120.04"
  },
  "orig_nbformat": 4
 },
 "nbformat": 4,
 "nbformat_minor": 2
}
